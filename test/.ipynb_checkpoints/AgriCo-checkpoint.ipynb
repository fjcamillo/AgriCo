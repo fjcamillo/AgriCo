{
 "cells": [
  {
   "cell_type": "markdown",
   "metadata": {},
   "source": [
    "# AgriCo\n",
    "---"
   ]
  },
  {
   "cell_type": "code",
   "execution_count": 1,
   "metadata": {
    "collapsed": true
   },
   "outputs": [],
   "source": [
    "import tensorflow as tf\n",
    "from PIL import Image\n",
    "import numpy as np\n"
   ]
  },
  {
   "cell_type": "code",
   "execution_count": 2,
   "metadata": {
    "collapsed": true
   },
   "outputs": [],
   "source": [
    "import os\n",
    "import pylab as pl\n",
    "%matplotlib inline"
   ]
  },
  {
   "cell_type": "code",
   "execution_count": 3,
   "metadata": {
    "collapsed": true
   },
   "outputs": [],
   "source": [
    "import time"
   ]
  },
  {
   "cell_type": "markdown",
   "metadata": {},
   "source": [
    "## Data  Preprocessing\n",
    "---"
   ]
  },
  {
   "cell_type": "code",
   "execution_count": 4,
   "metadata": {
    "collapsed": true
   },
   "outputs": [],
   "source": [
    "SIZE = (512,512)"
   ]
  },
  {
   "cell_type": "code",
   "execution_count": 5,
   "metadata": {
    "collapsed": true
   },
   "outputs": [],
   "source": [
    "rhino_url = \"/home/fjcamillo/Desktop/Hackzilla2/dataset/rhino/\"\n",
    "coconutmite_url = \"/home/fjcamillo/Desktop/Hackzilla2/dataset/coconutmite/\"\n",
    "lethalyellow_url = \"/home/fjcamillo/Desktop/Hackzilla2/dataset/lethalyellow/\"\n",
    "regular_url = \"/home/fjcamillo/Desktop/Hackzilla2/dataset/regular/\"\n",
    "stembleeding_url = \"/home/fjcamillo/Desktop/Hackzilla2/dataset/stembleeding/\""
   ]
  },
  {
   "cell_type": "code",
   "execution_count": 6,
   "metadata": {
    "collapsed": true
   },
   "outputs": [],
   "source": [
    "urls = [\n",
    "    rhino_url,\n",
    "    coconutmite_url,\n",
    "    lethalyellow_url,\n",
    "    regular_url,\n",
    "    stembleeding_url\n",
    "]"
   ]
  },
  {
   "cell_type": "code",
   "execution_count": 7,
   "metadata": {
    "collapsed": true
   },
   "outputs": [],
   "source": [
    "#helper function in creating new images\n",
    "\n",
    "#Populate Data Set\n",
    "def convert(filename, size, name, key, label):\n",
    "    img = Image.open(filename)\n",
    "    res = img.resize(size)\n",
    "    res.save(\"resized-{}-{}.png\".format(name, key))\n",
    "    rotate45 = img.rotate(45)\n",
    "    rotate45.save(\"rotate45-{}-{}.png\".format(name, key))\n",
    "    rotate90 = img.rotate(90)\n",
    "    rotate90.save(\"rotate90-{}-{}.png\".format(name, key))\n",
    "    bnw = img.convert(mode=\"L\")\n",
    "    bnw.save(\"bnw-{}-{}.png\".format(name, key))\n",
    "    dit = img.convert(mode=\"P\")\n",
    "    dit.save(\"dit-{}-{}.png\".format(name, key))\n",
    "    flip = img.transpose(Image.FLIP_LEFT_RIGHT)\n",
    "    flip.save(\"flip-{}-{}.png\".format(name, key))\n",
    "#     return img\n",
    "    \n",
    "    \n"
   ]
  },
  {
   "cell_type": "code",
   "execution_count": 8,
   "metadata": {
    "collapsed": true
   },
   "outputs": [
    {
     "data": {
      "text/plain": [
       "['/home/fjcamillo/Desktop/Hackzilla2/dataset/rhino/beetle_damage.jpg',\n",
       " '/home/fjcamillo/Desktop/Hackzilla2/dataset/rhino/81781084.jpg',\n",
       " '/home/fjcamillo/Desktop/Hackzilla2/dataset/rhino/21496283709_be697c4f46_o.jpg',\n",
       " '/home/fjcamillo/Desktop/Hackzilla2/dataset/rhino/21496192109_8504b89bfc_o.jpg',\n",
       " '/home/fjcamillo/Desktop/Hackzilla2/dataset/rhino/CRB-Boring-hole.jpg',\n",
       " '/home/fjcamillo/Desktop/Hackzilla2/dataset/rhino/21495158230_44ffbbe4d2_o.jpg',\n",
       " '/home/fjcamillo/Desktop/Hackzilla2/dataset/rhino/CRB_damage-hole-Nelson1.jpg',\n",
       " '/home/fjcamillo/Desktop/Hackzilla2/dataset/rhino/i-download.jpg',\n",
       " '/home/fjcamillo/Desktop/Hackzilla2/dataset/rhino/images (2).jpg',\n",
       " '/home/fjcamillo/Desktop/Hackzilla2/dataset/rhino/stock-photo-diseases-of-coconut-trees-in-kerala-frond-showing-characteristic-pattern-of-damage-caused-by-341174702.jpg',\n",
       " '/home/fjcamillo/Desktop/Hackzilla2/dataset/rhino/12544.JPG',\n",
       " '/home/fjcamillo/Desktop/Hackzilla2/dataset/rhino/1234.JPG',\n",
       " '/home/fjcamillo/Desktop/Hackzilla2/dataset/rhino/1.jpg',\n",
       " '/home/fjcamillo/Desktop/Hackzilla2/dataset/rhino/140208213030-05-coconut-rhinoceros-beetle-horizontal-large-gallery.jpg',\n",
       " '/home/fjcamillo/Desktop/Hackzilla2/dataset/rhino/severedamagepalau.jpg',\n",
       " '/home/fjcamillo/Desktop/Hackzilla2/dataset/rhino/125965.JPG',\n",
       " '/home/fjcamillo/Desktop/Hackzilla2/dataset/rhino/severedamagepalau2.jpg',\n",
       " '/home/fjcamillo/Desktop/Hackzilla2/dataset/rhino/CRB-Feeding-Damage.jpg',\n",
       " '/home/fjcamillo/Desktop/Hackzilla2/dataset/rhino/Oryctes_rhinoceros01.jpg',\n",
       " '/home/fjcamillo/Desktop/Hackzilla2/dataset/rhino/images.jpg',\n",
       " '/home/fjcamillo/Desktop/Hackzilla2/dataset/rhino/RB-Damage_site_3.jpg',\n",
       " '/home/fjcamillo/Desktop/Hackzilla2/dataset/rhino/hqdefault.jpg',\n",
       " '/home/fjcamillo/Desktop/Hackzilla2/dataset/rhino/maxresdefault.jpg',\n",
       " '/home/fjcamillo/Desktop/Hackzilla2/dataset/rhino/images (1).jpg',\n",
       " '/home/fjcamillo/Desktop/Hackzilla2/dataset/rhino/Oryctes_rhinoceros01 (1).jpg',\n",
       " '/home/fjcamillo/Desktop/Hackzilla2/dataset/rhino/1254.JPG',\n",
       " '/home/fjcamillo/Desktop/Hackzilla2/dataset/rhino/21692293501_65b7f56649_o.jpg',\n",
       " '/home/fjcamillo/Desktop/Hackzilla2/dataset/rhino/12165.JPG',\n",
       " '/home/fjcamillo/Desktop/Hackzilla2/dataset/rhino/21062132553_a0aba80212_o.jpg',\n",
       " '/home/fjcamillo/Desktop/Hackzilla2/dataset/rhino/ad522e04.jpg',\n",
       " '/home/fjcamillo/Desktop/Hackzilla2/dataset/rhino/156496.JPG',\n",
       " '/home/fjcamillo/Desktop/Hackzilla2/dataset/rhino/3-Boring-Holes.jpg',\n",
       " '/home/fjcamillo/Desktop/Hackzilla2/dataset/rhino/19874539088_968ffb8d6e_o.jpg',\n",
       " '/home/fjcamillo/Desktop/Hackzilla2/dataset/rhino/1254769.JPG',\n",
       " '/home/fjcamillo/Desktop/Hackzilla2/dataset/rhino/CRB-Feeding-Damage-2-e1389382788779.jpg',\n",
       " '/home/fjcamillo/Desktop/Hackzilla2/dataset/rhino/OryctespalmdamageinGuam.jpg',\n",
       " '/home/fjcamillo/Desktop/Hackzilla2/dataset/rhino/1478.JPG',\n",
       " '/home/fjcamillo/Desktop/Hackzilla2/dataset/rhino/Oryctes damage.jpg',\n",
       " '/home/fjcamillo/Desktop/Hackzilla2/dataset/rhino/18475003604_131ab7f0da_o.jpg',\n",
       " '/home/fjcamillo/Desktop/Hackzilla2/dataset/coconutmite/1212.JPG',\n",
       " '/home/fjcamillo/Desktop/Hackzilla2/dataset/coconutmite/3.JPG',\n",
       " '/home/fjcamillo/Desktop/Hackzilla2/dataset/coconutmite/53700.img',\n",
       " '/home/fjcamillo/Desktop/Hackzilla2/dataset/coconutmite/mitesm.jpg',\n",
       " '/home/fjcamillo/Desktop/Hackzilla2/dataset/coconutmite/9717450317_b2a91112c0_o.jpg',\n",
       " '/home/fjcamillo/Desktop/Hackzilla2/dataset/coconutmite/Coco_fruit_skin05lite (1).jpg',\n",
       " '/home/fjcamillo/Desktop/Hackzilla2/dataset/coconutmite/CoconutMites2.jpg',\n",
       " '/home/fjcamillo/Desktop/Hackzilla2/dataset/coconutmite/5684782962_738761780a_o.jpg',\n",
       " '/home/fjcamillo/Desktop/Hackzilla2/dataset/coconutmite/mitedamagelate.jpg',\n",
       " '/home/fjcamillo/Desktop/Hackzilla2/dataset/coconutmite/red_palm_weevil_sypt001.jpg',\n",
       " '/home/fjcamillo/Desktop/Hackzilla2/dataset/coconutmite/71620661475111419.jpg',\n",
       " '/home/fjcamillo/Desktop/Hackzilla2/dataset/coconutmite/1105_0.jpeg',\n",
       " '/home/fjcamillo/Desktop/Hackzilla2/dataset/coconutmite/Coconut_mite_damage2-e1449812427764-300x166.jpg',\n",
       " '/home/fjcamillo/Desktop/Hackzilla2/dataset/coconutmite/4.JPG',\n",
       " '/home/fjcamillo/Desktop/Hackzilla2/dataset/coconutmite/9130785469_a020f12f29_o.jpg',\n",
       " '/home/fjcamillo/Desktop/Hackzilla2/dataset/coconutmite/i-download.jpg',\n",
       " '/home/fjcamillo/Desktop/Hackzilla2/dataset/coconutmite/4. eriophyid mite symp1.JPG',\n",
       " '/home/fjcamillo/Desktop/Hackzilla2/dataset/coconutmite/21.JPG',\n",
       " '/home/fjcamillo/Desktop/Hackzilla2/dataset/coconutmite/132165465.JPG',\n",
       " '/home/fjcamillo/Desktop/Hackzilla2/dataset/coconutmite/1.JPG',\n",
       " '/home/fjcamillo/Desktop/Hackzilla2/dataset/coconutmite/9132994058_afa8215f4d.jpg',\n",
       " '/home/fjcamillo/Desktop/Hackzilla2/dataset/coconutmite/2.JPG',\n",
       " '/home/fjcamillo/Desktop/Hackzilla2/dataset/coconutmite/1095.400x400_3_0.jpeg',\n",
       " '/home/fjcamillo/Desktop/Hackzilla2/dataset/coconutmite/rat001.jpg',\n",
       " '/home/fjcamillo/Desktop/Hackzilla2/dataset/coconutmite/aceria_guerreronis03.jpg',\n",
       " '/home/fjcamillo/Desktop/Hackzilla2/dataset/coconutmite/12546.JPG',\n",
       " '/home/fjcamillo/Desktop/Hackzilla2/dataset/coconutmite/1215462.JPG',\n",
       " '/home/fjcamillo/Desktop/Hackzilla2/dataset/coconutmite/30104202625_f73fbb3961_o.jpg',\n",
       " '/home/fjcamillo/Desktop/Hackzilla2/dataset/coconutmite/rat002.jpg',\n",
       " '/home/fjcamillo/Desktop/Hackzilla2/dataset/coconutmite/samoan_coco_eriophyid_mites_1.jpg',\n",
       " '/home/fjcamillo/Desktop/Hackzilla2/dataset/coconutmite/154.JPG',\n",
       " '/home/fjcamillo/Desktop/Hackzilla2/dataset/coconutmite/75.JPG',\n",
       " '/home/fjcamillo/Desktop/Hackzilla2/dataset/coconutmite/Capture.JPG',\n",
       " '/home/fjcamillo/Desktop/Hackzilla2/dataset/coconutmite/Coco_fruit_skin05lite.jpg',\n",
       " '/home/fjcamillo/Desktop/Hackzilla2/dataset/coconutmite/132165.JPG',\n",
       " '/home/fjcamillo/Desktop/Hackzilla2/dataset/coconutmite/576842.JPG',\n",
       " '/home/fjcamillo/Desktop/Hackzilla2/dataset/coconutmite/1254264.JPG',\n",
       " '/home/fjcamillo/Desktop/Hackzilla2/dataset/coconutmite/1254.JPG',\n",
       " '/home/fjcamillo/Desktop/Hackzilla2/dataset/coconutmite/Coconut_mite_damage.jpg',\n",
       " '/home/fjcamillo/Desktop/Hackzilla2/dataset/coconutmite/14257.JPG',\n",
       " '/home/fjcamillo/Desktop/Hackzilla2/dataset/coconutmite/236456.JPG',\n",
       " '/home/fjcamillo/Desktop/Hackzilla2/dataset/coconutmite/i-download (1).jpg',\n",
       " '/home/fjcamillo/Desktop/Hackzilla2/dataset/coconutmite/Mite-Port-Vila_4394.jpg',\n",
       " '/home/fjcamillo/Desktop/Hackzilla2/dataset/coconutmite/27229698964_c547eb809f_o.jpg',\n",
       " '/home/fjcamillo/Desktop/Hackzilla2/dataset/coconutmite/37.JPG',\n",
       " '/home/fjcamillo/Desktop/Hackzilla2/dataset/coconutmite/116549.JPG',\n",
       " '/home/fjcamillo/Desktop/Hackzilla2/dataset/coconutmite/Coco_fruit_skin04lite.jpg',\n",
       " '/home/fjcamillo/Desktop/Hackzilla2/dataset/coconutmite/23.JPG',\n",
       " '/home/fjcamillo/Desktop/Hackzilla2/dataset/coconutmite/crop_prot_crop_insect_oil_coconut_clip_image002_0008.jpg',\n",
       " '/home/fjcamillo/Desktop/Hackzilla2/dataset/lethalyellow/lethalyellowing.jpeg',\n",
       " '/home/fjcamillo/Desktop/Hackzilla2/dataset/lethalyellow/LY_Jamaica_2005.jpg',\n",
       " '/home/fjcamillo/Desktop/Hackzilla2/dataset/lethalyellow/pel7a.JPG',\n",
       " '/home/fjcamillo/Desktop/Hackzilla2/dataset/lethalyellow/lethal-yellowing-coconut.jpg',\n",
       " '/home/fjcamillo/Desktop/Hackzilla2/dataset/lethalyellow/LY_Jamaica_Overview.jpg',\n",
       " '/home/fjcamillo/Desktop/Hackzilla2/dataset/lethalyellow/800x480_IMAGE62601526.jpg',\n",
       " '/home/fjcamillo/Desktop/Hackzilla2/dataset/lethalyellow/dollet-photo-1_lightbox.jpg',\n",
       " '/home/fjcamillo/Desktop/Hackzilla2/dataset/lethalyellow/palms-coconut-vdamaged.jpg',\n",
       " '/home/fjcamillo/Desktop/Hackzilla2/dataset/lethalyellow/563597_0.jpg',\n",
       " '/home/fjcamillo/Desktop/Hackzilla2/dataset/lethalyellow/LethalYellowing03.jpg',\n",
       " '/home/fjcamillo/Desktop/Hackzilla2/dataset/lethalyellow/1098_0.jpeg',\n",
       " '/home/fjcamillo/Desktop/Hackzilla2/dataset/lethalyellow/i-download.jpg',\n",
       " '/home/fjcamillo/Desktop/Hackzilla2/dataset/lethalyellow/ly_tree2Sm.jpg',\n",
       " '/home/fjcamillo/Desktop/Hackzilla2/dataset/lethalyellow/images (2).jpg',\n",
       " '/home/fjcamillo/Desktop/Hackzilla2/dataset/lethalyellow/lethalyellowing.jpg',\n",
       " '/home/fjcamillo/Desktop/Hackzilla2/dataset/lethalyellow/1.JPG',\n",
       " '/home/fjcamillo/Desktop/Hackzilla2/dataset/lethalyellow/Figure-1-Palms-showing-coconut-lethal-yellowing-phytoplasma-associated-diseases-a.png',\n",
       " '/home/fjcamillo/Desktop/Hackzilla2/dataset/lethalyellow/coconut-diseases-only-crownless-stem-remains.jpg',\n",
       " '/home/fjcamillo/Desktop/Hackzilla2/dataset/lethalyellow/Bze-Ag-Report-14_Page_03_Image_0002.jpg',\n",
       " '/home/fjcamillo/Desktop/Hackzilla2/dataset/lethalyellow/5476151.jpg',\n",
       " '/home/fjcamillo/Desktop/Hackzilla2/dataset/lethalyellow/tinangaja2.jpg',\n",
       " '/home/fjcamillo/Desktop/Hackzilla2/dataset/lethalyellow/d402f01.jpg',\n",
       " '/home/fjcamillo/Desktop/Hackzilla2/dataset/lethalyellow/pinneys coconuts.jpg',\n",
       " '/home/fjcamillo/Desktop/Hackzilla2/dataset/lethalyellow/chapelsm.jpg',\n",
       " '/home/fjcamillo/Desktop/Hackzilla2/dataset/lethalyellow/YooniqImages_221395948.jpg',\n",
       " '/home/fjcamillo/Desktop/Hackzilla2/dataset/lethalyellow/download.jpg',\n",
       " '/home/fjcamillo/Desktop/Hackzilla2/dataset/lethalyellow/5.jpg',\n",
       " '/home/fjcamillo/Desktop/Hackzilla2/dataset/lethalyellow/images.jpg',\n",
       " '/home/fjcamillo/Desktop/Hackzilla2/dataset/lethalyellow/d287f01.jpg',\n",
       " '/home/fjcamillo/Desktop/Hackzilla2/dataset/lethalyellow/YooniqImages_221395920.jpg',\n",
       " '/home/fjcamillo/Desktop/Hackzilla2/dataset/lethalyellow/DSC04863.JPG',\n",
       " '/home/fjcamillo/Desktop/Hackzilla2/dataset/lethalyellow/110501y0.jpg',\n",
       " '/home/fjcamillo/Desktop/Hackzilla2/dataset/lethalyellow/images (1).jpg',\n",
       " '/home/fjcamillo/Desktop/Hackzilla2/dataset/lethalyellow/images (3).jpg',\n",
       " '/home/fjcamillo/Desktop/Hackzilla2/dataset/lethalyellow/queen-with-brown-leaf2.jpg',\n",
       " '/home/fjcamillo/Desktop/Hackzilla2/dataset/lethalyellow/Phoenix_canariensis.jpg',\n",
       " '/home/fjcamillo/Desktop/Hackzilla2/dataset/lethalyellow/0656009.jpg',\n",
       " '/home/fjcamillo/Desktop/Hackzilla2/dataset/lethalyellow/LethalYellowing15.jpg',\n",
       " '/home/fjcamillo/Desktop/Hackzilla2/dataset/lethalyellow/2008-04-18e.jpg',\n",
       " '/home/fjcamillo/Desktop/Hackzilla2/dataset/lethalyellow/PlantViruses30.jpg',\n",
       " '/home/fjcamillo/Desktop/Hackzilla2/dataset/lethalyellow/1455442_orig.jpg',\n",
       " '/home/fjcamillo/Desktop/Hackzilla2/dataset/lethalyellow/LethalYellowingFoliarSymptoms.jpg',\n",
       " '/home/fjcamillo/Desktop/Hackzilla2/dataset/lethalyellow/1.png',\n",
       " '/home/fjcamillo/Desktop/Hackzilla2/dataset/regular/coconut-palm-2.jpg',\n",
       " '/home/fjcamillo/Desktop/Hackzilla2/dataset/regular/cocosnuciferatall.jpg',\n",
       " '/home/fjcamillo/Desktop/Hackzilla2/dataset/regular/Coconut_Trees_in_Dhofar_Oman.jpg',\n",
       " '/home/fjcamillo/Desktop/Hackzilla2/dataset/stembleeding/dm15.jpg',\n",
       " '/home/fjcamillo/Desktop/Hackzilla2/dataset/stembleeding/stemblsy.jpg',\n",
       " '/home/fjcamillo/Desktop/Hackzilla2/dataset/stembleeding/8810309820_eb4c097b12_b.jpg',\n",
       " '/home/fjcamillo/Desktop/Hackzilla2/dataset/stembleeding/stem splitting.jpg',\n",
       " '/home/fjcamillo/Desktop/Hackzilla2/dataset/stembleeding/coco_stem_bleeding_1.JPG',\n",
       " '/home/fjcamillo/Desktop/Hackzilla2/dataset/stembleeding/53.jpg',\n",
       " '/home/fjcamillo/Desktop/Hackzilla2/dataset/stembleeding/5684239787_65feaa8c2f_b.jpg',\n",
       " '/home/fjcamillo/Desktop/Hackzilla2/dataset/stembleeding/33170183552_c64e465667_b.jpg',\n",
       " '/home/fjcamillo/Desktop/Hackzilla2/dataset/stembleeding/stem-bleeding-rot.jpg',\n",
       " '/home/fjcamillo/Desktop/Hackzilla2/dataset/stembleeding/bleeding_Xmas_palm_trunk.JPG',\n",
       " '/home/fjcamillo/Desktop/Hackzilla2/dataset/stembleeding/52.jpg',\n",
       " '/home/fjcamillo/Desktop/Hackzilla2/dataset/stembleeding/Thielaviopsis_Trunk.JPG',\n",
       " '/home/fjcamillo/Desktop/Hackzilla2/dataset/stembleeding/lE9ffrZ.jpg',\n",
       " '/home/fjcamillo/Desktop/Hackzilla2/dataset/stembleeding/Gum_and_sawdust_from_beetle_infestation_on_Carpentaria.jpg',\n",
       " '/home/fjcamillo/Desktop/Hackzilla2/dataset/stembleeding/P1010122.JPG',\n",
       " '/home/fjcamillo/Desktop/Hackzilla2/dataset/stembleeding/6.jpg',\n",
       " '/home/fjcamillo/Desktop/Hackzilla2/dataset/stembleeding/stembleeding.jpg',\n",
       " '/home/fjcamillo/Desktop/Hackzilla2/dataset/stembleeding/yellowleafdiseasetreated.jpg',\n",
       " '/home/fjcamillo/Desktop/Hackzilla2/dataset/stembleeding/Palm_1.jpg',\n",
       " '/home/fjcamillo/Desktop/Hackzilla2/dataset/stembleeding/Thielaviopsis_TrunkBleeding.jpg',\n",
       " '/home/fjcamillo/Desktop/Hackzilla2/dataset/stembleeding/Stem-Bleeding-of-Coconut-Scot-Nelson-sm.jpg',\n",
       " '/home/fjcamillo/Desktop/Hackzilla2/dataset/stembleeding/N1.1.jpg',\n",
       " '/home/fjcamillo/Desktop/Hackzilla2/dataset/stembleeding/coconut_palm_x.jpg',\n",
       " '/home/fjcamillo/Desktop/Hackzilla2/dataset/stembleeding/51.jpg',\n",
       " '/home/fjcamillo/Desktop/Hackzilla2/dataset/stembleeding/wound-on-lower-trunk-of-roystonia-palm.jpg',\n",
       " '/home/fjcamillo/Desktop/Hackzilla2/dataset/stembleeding/2coconew_1.jpg',\n",
       " '/home/fjcamillo/Desktop/Hackzilla2/dataset/stembleeding/4117.jpg',\n",
       " '/home/fjcamillo/Desktop/Hackzilla2/dataset/stembleeding/stembleeding001.jpg',\n",
       " '/home/fjcamillo/Desktop/Hackzilla2/dataset/stembleeding/2coco_new2.png',\n",
       " '/home/fjcamillo/Desktop/Hackzilla2/dataset/stembleeding/bleeding-stem-rot.jpg',\n",
       " '/home/fjcamillo/Desktop/Hackzilla2/dataset/stembleeding/dm16.jpg',\n",
       " '/home/fjcamillo/Desktop/Hackzilla2/dataset/stembleeding/10.jpg']"
      ]
     },
     "execution_count": 8,
     "metadata": {},
     "output_type": "execute_result"
    }
   ],
   "source": [
    "#Get links of images\n",
    "image_links = []\n",
    "for url in urls:\n",
    "    for dat in os.listdir(url):\n",
    "        image_links.append(url+dat)\n",
    "    \n",
    "image_links"
   ]
  },
  {
   "cell_type": "code",
   "execution_count": 9,
   "metadata": {
    "collapsed": false
   },
   "outputs": [
    {
     "data": {
      "text/plain": [
       "996"
      ]
     },
     "execution_count": 9,
     "metadata": {},
     "output_type": "execute_result"
    }
   ],
   "source": [
    "len(image_links)*6"
   ]
  },
  {
   "cell_type": "code",
   "execution_count": 10,
   "metadata": {
    "collapsed": false
   },
   "outputs": [],
   "source": [
    "for image in image_links:\n",
    "    name = image.split(\"/\")[-2]\n",
    "    key = image.split(\"/\")[-1].split(\".\")[0]\n",
    "#     key = \"key\"\n",
    "    label = \"ok\"\n",
    "    convert(image, SIZE, name, key, label)\n",
    "    time.sleep(5)"
   ]
  },
  {
   "cell_type": "code",
   "execution_count": 11,
   "metadata": {
    "collapsed": true
   },
   "outputs": [],
   "source": [
    "#helper function to create labels\n",
    "\n",
    "#rhino = 0\n",
    "#coconutmite = 1\n",
    "#lethalyellow = 2\n",
    "#stembleeding = 3\n",
    "#regular = 4\n",
    "\n",
    "def create_label(data):\n",
    "    if data==\"rhino\": return [1,0,0,0]\n",
    "    if data==\"coconutmite\": return [0,1,0,0]\n",
    "    if data==\"lethalyellow\": return [0,1,0,0]\n",
    "    if data==\"stembleeding\": return [0,1,0,0]\n",
    "    if data==\"regular\": return [0,1,0,0]"
   ]
  },
  {
   "cell_type": "code",
   "execution_count": null,
   "metadata": {
    "collapsed": true
   },
   "outputs": [],
   "source": [
    "labels = [create_label(labe.split(\"/\")[-2]) for labe in image_links]"
   ]
  },
  {
   "cell_type": "code",
   "execution_count": null,
   "metadata": {
    "collapsed": true
   },
   "outputs": [],
   "source": [
    "labels"
   ]
  },
  {
   "cell_type": "code",
   "execution_count": null,
   "metadata": {
    "collapsed": true
   },
   "outputs": [],
   "source": []
  },
  {
   "cell_type": "markdown",
   "metadata": {},
   "source": [
    "## Data Model (Image Classification)\n",
    "---\n",
    "\n",
    "A 5 convolutional neural network\n"
   ]
  },
  {
   "cell_type": "code",
   "execution_count": null,
   "metadata": {
    "collapsed": true
   },
   "outputs": [],
   "source": [
    "#Linear Model\n",
    "linear_model = tf.matmul(x,W) + b"
   ]
  },
  {
   "cell_type": "code",
   "execution_count": 34,
   "metadata": {
    "collapsed": false
   },
   "outputs": [],
   "source": [
    "#First Input Layer\n",
    "x = tf.placeholder(tf.float32, [None, 512, 512, 3])\n",
    "y_ = tf.placeholder(tf.float32, [None, 5.])\n",
    "W = tf.Variable(tf.zeros([512,512,10]))\n",
    "b = tf.Variable(tf.zeros([10]))"
   ]
  },
  {
   "cell_type": "code",
   "execution_count": 35,
   "metadata": {
    "collapsed": true
   },
   "outputs": [],
   "source": [
    "#Second Layer, First Convolution Input Layer\n",
    "\n",
    "W1 = tf.Variable(tf.truncated_normal([]), stddev=0.1)\n",
    "b1 = tf.Variable(tf.ones([])/5)"
   ]
  },
  {
   "cell_type": "code",
   "execution_count": null,
   "metadata": {
    "collapsed": true
   },
   "outputs": [],
   "source": [
    "#Third Layer, Second Convolution Input Layer\n",
    "W2 = tf.Variable(tf.truncated_normal([]), stddev=0.1)\n",
    "b2 = tf.Variable(tf.ones([])/5)"
   ]
  },
  {
   "cell_type": "code",
   "execution_count": null,
   "metadata": {
    "collapsed": true
   },
   "outputs": [],
   "source": [
    "#Fourth Layer, Third Convolution Input Layer\n",
    "W3 = tf.Variable(tf.truncated_normal([]), stddev=0.1)\n",
    "b3 = tf.Variable(tf.ones([])/5)"
   ]
  },
  {
   "cell_type": "code",
   "execution_count": null,
   "metadata": {
    "collapsed": true
   },
   "outputs": [],
   "source": [
    "#Fifth Layer, First Fully Connected Layer\n",
    "W4 = tf.Variable(tf.truncated_normal([]), stddev=0.1)\n",
    "b4 = tf.Variable(tf.ones([])/5)"
   ]
  },
  {
   "cell_type": "code",
   "execution_count": null,
   "metadata": {
    "collapsed": true
   },
   "outputs": [],
   "source": [
    "#Model\n",
    "conv1 = tf.nn.max_pool(tf.nn.relu(tf.nn.conv2d(x, W, strides=[], padding=\"SAME\")), )\n",
    "conv2 = tf.nn.relu(tf.nn.conv2d(conv1, W1, strides=[], padding=\"SAME\"))\n",
    "conv3 = tf.nn.relu(tf.nn.conv2d(conv2, W2, strides=[], padding=\"SAME\"))\n",
    "\n",
    "renter = tf.reshape(conv3, shape=[-1, ])\n",
    "\n",
    "fc1 = tf.nn.relu(tf.matmul(reenter,W3) + b3)\n",
    "fc2 = tf.nn.softmax(tf.matmul(fc1, w4) + b4)\n"
   ]
  },
  {
   "cell_type": "code",
   "execution_count": 36,
   "metadata": {
    "collapsed": true
   },
   "outputs": [],
   "source": []
  },
  {
   "cell_type": "markdown",
   "metadata": {},
   "source": [
    "# Data Model (Hardware)"
   ]
  },
  {
   "cell_type": "code",
   "execution_count": null,
   "metadata": {
    "collapsed": true
   },
   "outputs": [],
   "source": [
    "#Input Layer\n",
    "x = tf.placeholder(tf.float32, [None, 5])\n",
    "y_ = tf.placeholder(tf.float32, [5])\n",
    "W = tf.Variable(tf.zeros([]))\n",
    "b = tf.Variable(tf.zeros([]))"
   ]
  },
  {
   "cell_type": "code",
   "execution_count": null,
   "metadata": {
    "collapsed": true
   },
   "outputs": [],
   "source": [
    "#Second Layer\n",
    "W2 = tf.Variable(tf.truncated_normal([]), stddev=0.1)\n",
    "b2 = tf.Variable(tf.ones([]))"
   ]
  },
  {
   "cell_type": "code",
   "execution_count": null,
   "metadata": {
    "collapsed": true
   },
   "outputs": [],
   "source": [
    "#Third Layer\n",
    "W3 = tf.Variable(tf.truncated_normal([]), stddev=0.1)\n",
    "b3 = tf.Variable(tf.ones([]))"
   ]
  },
  {
   "cell_type": "code",
   "execution_count": null,
   "metadata": {
    "collapsed": true
   },
   "outputs": [],
   "source": [
    "#Fourth Layer\n",
    "W4 = tf.Variable(tf.truncated_normal([]), stddev=0.1)\n",
    "b4 = tf.Variable(tf.ones([]))"
   ]
  },
  {
   "cell_type": "code",
   "execution_count": null,
   "metadata": {
    "collapsed": true
   },
   "outputs": [],
   "source": [
    "#Fifth Layer\n",
    "W5 = tf.Variable(tf.truncated_normal([]), stddev=0.1)\n",
    "b5 = tf.Variable(tf.ones([]))"
   ]
  },
  {
   "cell_type": "code",
   "execution_count": null,
   "metadata": {
    "collapsed": true
   },
   "outputs": [],
   "source": [
    "#Model\n",
    "fc1 = tf.nn.relu(tf.matmul(x, W) + b)\n",
    "fc2 = tf.nn.relu(tf.matmul(fc1, W2) + b2)\n",
    "fc3 = tf.nn.relu(tf.matmul(fc2, W3) + b3)\n",
    "fc4 = tf.nn.relu(tf.matmul(fc3, W4) + b4)\n",
    "fc5 = tf.nn.softmax(tf.matmul(fc4, W5) + b5)"
   ]
  },
  {
   "cell_type": "code",
   "execution_count": null,
   "metadata": {
    "collapsed": true
   },
   "outputs": [],
   "source": []
  }
 ],
 "metadata": {
  "kernelspec": {
   "display_name": "Python 2",
   "language": "python",
   "name": "python2"
  },
  "language_info": {
   "codemirror_mode": {
    "name": "ipython",
    "version": 2
   },
   "file_extension": ".py",
   "mimetype": "text/x-python",
   "name": "python",
   "nbconvert_exporter": "python",
   "pygments_lexer": "ipython2",
   "version": "2.7.13"
  }
 },
 "nbformat": 4,
 "nbformat_minor": 0
}
