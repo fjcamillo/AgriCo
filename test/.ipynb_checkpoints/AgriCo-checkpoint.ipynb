{
 "cells": [
  {
   "cell_type": "markdown",
   "metadata": {},
   "source": [
    "# AgriCo\n",
    "---"
   ]
  },
  {
   "cell_type": "code",
   "execution_count": 1,
   "metadata": {
    "collapsed": true
   },
   "outputs": [],
   "source": [
    "import tensorflow as tf\n",
    "from PIL import Image\n",
    "import numpy as np\n"
   ]
  },
  {
   "cell_type": "code",
   "execution_count": 2,
   "metadata": {
    "collapsed": true
   },
   "outputs": [],
   "source": [
    "import os\n",
    "import pylab as pl\n",
    "%matplotlib inline"
   ]
  },
  {
   "cell_type": "code",
   "execution_count": 3,
   "metadata": {
    "collapsed": true
   },
   "outputs": [],
   "source": [
    "import time"
   ]
  },
  {
   "cell_type": "markdown",
   "metadata": {},
   "source": [
    "## Data  Preprocessing\n",
    "---"
   ]
  },
  {
   "cell_type": "code",
   "execution_count": 4,
   "metadata": {
    "collapsed": true
   },
   "outputs": [],
   "source": [
    "SIZE = (512,512)"
   ]
  },
  {
   "cell_type": "code",
   "execution_count": 5,
   "metadata": {
    "collapsed": true
   },
   "outputs": [],
   "source": [
    "rhino_url = \"/home/fjcamillo/Desktop/Hackzilla2/dataset/rhino/\"\n",
    "coconutmite_url = \"/home/fjcamillo/Desktop/Hackzilla2/dataset/coconutmite/\"\n",
    "lethalyellow_url = \"/home/fjcamillo/Desktop/Hackzilla2/dataset/lethalyellow/\"\n",
    "regular_url = \"/home/fjcamillo/Desktop/Hackzilla2/dataset/regular/\"\n",
    "stembleeding_url = \"/home/fjcamillo/Desktop/Hackzilla2/dataset/stembleeding/\""
   ]
  },
  {
   "cell_type": "code",
   "execution_count": 6,
   "metadata": {
    "collapsed": true
   },
   "outputs": [],
   "source": [
    "urls = [\n",
    "    rhino_url,\n",
    "    coconutmite_url,\n",
    "    lethalyellow_url,\n",
    "    regular_url,\n",
    "    stembleeding_url\n",
    "]"
   ]
  },
  {
   "cell_type": "code",
   "execution_count": 269,
   "metadata": {
    "collapsed": true
   },
   "outputs": [],
   "source": [
    "#helper function in creating new images\n",
    "\n",
    "#Populate Data Set\n",
    "def convert(filename, size, name, key, label):\n",
    "    img = Image.open(filename)\n",
    "    img = img.resize(size)\n",
    "    img.save(\"resized-{}-{}.png\".format(name, key))\n",
    "    rotate45 = img.rotate(45)\n",
    "    rotate45.save(\"rotate45-{}-{}.png\".format(name, key))\n",
    "    rotate90 = img.rotate(90)\n",
    "    rotate90.save(\"rotate90-{}-{}.png\".format(name, key))\n",
    "    bnw = img.convert(mode=\"L\")\n",
    "    bnw.save(\"bnw-{}-{}.png\".format(name, key))\n",
    "#     dit = img.convert(mode=\"P\")\n",
    "#     dit.save(\"dit-{}-{}.png\".format(name, key))\n",
    "    flip = img.transpose(Image.FLIP_LEFT_RIGHT)\n",
    "    flip.save(\"flip-{}-{}.png\".format(name, key))\n",
    "#     return img\n",
    "    \n",
    "    \n"
   ]
  },
  {
   "cell_type": "code",
   "execution_count": 248,
   "metadata": {
    "collapsed": true
   },
   "outputs": [
    {
     "data": {
      "text/plain": [
       "['/home/fjcamillo/Desktop/Hackzilla2/dataset/rhino/beetle_damage.jpg',\n",
       " '/home/fjcamillo/Desktop/Hackzilla2/dataset/rhino/81781084.jpg',\n",
       " '/home/fjcamillo/Desktop/Hackzilla2/dataset/rhino/21496283709_be697c4f46_o.jpg',\n",
       " '/home/fjcamillo/Desktop/Hackzilla2/dataset/rhino/21496192109_8504b89bfc_o.jpg',\n",
       " '/home/fjcamillo/Desktop/Hackzilla2/dataset/rhino/CRB-Boring-hole.jpg',\n",
       " '/home/fjcamillo/Desktop/Hackzilla2/dataset/rhino/21495158230_44ffbbe4d2_o.jpg',\n",
       " '/home/fjcamillo/Desktop/Hackzilla2/dataset/rhino/CRB_damage-hole-Nelson1.jpg',\n",
       " '/home/fjcamillo/Desktop/Hackzilla2/dataset/rhino/i-download.jpg',\n",
       " '/home/fjcamillo/Desktop/Hackzilla2/dataset/rhino/images (2).jpg',\n",
       " '/home/fjcamillo/Desktop/Hackzilla2/dataset/rhino/stock-photo-diseases-of-coconut-trees-in-kerala-frond-showing-characteristic-pattern-of-damage-caused-by-341174702.jpg',\n",
       " '/home/fjcamillo/Desktop/Hackzilla2/dataset/rhino/12544.JPG',\n",
       " '/home/fjcamillo/Desktop/Hackzilla2/dataset/rhino/1234.JPG',\n",
       " '/home/fjcamillo/Desktop/Hackzilla2/dataset/rhino/1.jpg',\n",
       " '/home/fjcamillo/Desktop/Hackzilla2/dataset/rhino/140208213030-05-coconut-rhinoceros-beetle-horizontal-large-gallery.jpg',\n",
       " '/home/fjcamillo/Desktop/Hackzilla2/dataset/rhino/severedamagepalau.jpg',\n",
       " '/home/fjcamillo/Desktop/Hackzilla2/dataset/rhino/125965.JPG',\n",
       " '/home/fjcamillo/Desktop/Hackzilla2/dataset/rhino/severedamagepalau2.jpg',\n",
       " '/home/fjcamillo/Desktop/Hackzilla2/dataset/rhino/CRB-Feeding-Damage.jpg',\n",
       " '/home/fjcamillo/Desktop/Hackzilla2/dataset/rhino/Oryctes_rhinoceros01.jpg',\n",
       " '/home/fjcamillo/Desktop/Hackzilla2/dataset/rhino/images.jpg',\n",
       " '/home/fjcamillo/Desktop/Hackzilla2/dataset/rhino/RB-Damage_site_3.jpg',\n",
       " '/home/fjcamillo/Desktop/Hackzilla2/dataset/rhino/hqdefault.jpg',\n",
       " '/home/fjcamillo/Desktop/Hackzilla2/dataset/rhino/maxresdefault.jpg',\n",
       " '/home/fjcamillo/Desktop/Hackzilla2/dataset/rhino/images (1).jpg',\n",
       " '/home/fjcamillo/Desktop/Hackzilla2/dataset/rhino/Oryctes_rhinoceros01 (1).jpg',\n",
       " '/home/fjcamillo/Desktop/Hackzilla2/dataset/rhino/1254.JPG',\n",
       " '/home/fjcamillo/Desktop/Hackzilla2/dataset/rhino/21692293501_65b7f56649_o.jpg',\n",
       " '/home/fjcamillo/Desktop/Hackzilla2/dataset/rhino/12165.JPG',\n",
       " '/home/fjcamillo/Desktop/Hackzilla2/dataset/rhino/21062132553_a0aba80212_o.jpg',\n",
       " '/home/fjcamillo/Desktop/Hackzilla2/dataset/rhino/ad522e04.jpg',\n",
       " '/home/fjcamillo/Desktop/Hackzilla2/dataset/rhino/156496.JPG',\n",
       " '/home/fjcamillo/Desktop/Hackzilla2/dataset/rhino/3-Boring-Holes.jpg',\n",
       " '/home/fjcamillo/Desktop/Hackzilla2/dataset/rhino/19874539088_968ffb8d6e_o.jpg',\n",
       " '/home/fjcamillo/Desktop/Hackzilla2/dataset/rhino/1254769.JPG',\n",
       " '/home/fjcamillo/Desktop/Hackzilla2/dataset/rhino/CRB-Feeding-Damage-2-e1389382788779.jpg',\n",
       " '/home/fjcamillo/Desktop/Hackzilla2/dataset/rhino/OryctespalmdamageinGuam.jpg',\n",
       " '/home/fjcamillo/Desktop/Hackzilla2/dataset/rhino/1478.JPG',\n",
       " '/home/fjcamillo/Desktop/Hackzilla2/dataset/rhino/Oryctes damage.jpg',\n",
       " '/home/fjcamillo/Desktop/Hackzilla2/dataset/rhino/18475003604_131ab7f0da_o.jpg',\n",
       " '/home/fjcamillo/Desktop/Hackzilla2/dataset/coconutmite/1212.JPG',\n",
       " '/home/fjcamillo/Desktop/Hackzilla2/dataset/coconutmite/3.JPG',\n",
       " '/home/fjcamillo/Desktop/Hackzilla2/dataset/coconutmite/53700.img',\n",
       " '/home/fjcamillo/Desktop/Hackzilla2/dataset/coconutmite/mitesm.jpg',\n",
       " '/home/fjcamillo/Desktop/Hackzilla2/dataset/coconutmite/9717450317_b2a91112c0_o.jpg',\n",
       " '/home/fjcamillo/Desktop/Hackzilla2/dataset/coconutmite/Coco_fruit_skin05lite (1).jpg',\n",
       " '/home/fjcamillo/Desktop/Hackzilla2/dataset/coconutmite/CoconutMites2.jpg',\n",
       " '/home/fjcamillo/Desktop/Hackzilla2/dataset/coconutmite/5684782962_738761780a_o.jpg',\n",
       " '/home/fjcamillo/Desktop/Hackzilla2/dataset/coconutmite/mitedamagelate.jpg',\n",
       " '/home/fjcamillo/Desktop/Hackzilla2/dataset/coconutmite/red_palm_weevil_sypt001.jpg',\n",
       " '/home/fjcamillo/Desktop/Hackzilla2/dataset/coconutmite/71620661475111419.jpg',\n",
       " '/home/fjcamillo/Desktop/Hackzilla2/dataset/coconutmite/1105_0.jpeg',\n",
       " '/home/fjcamillo/Desktop/Hackzilla2/dataset/coconutmite/Coconut_mite_damage2-e1449812427764-300x166.jpg',\n",
       " '/home/fjcamillo/Desktop/Hackzilla2/dataset/coconutmite/4.JPG',\n",
       " '/home/fjcamillo/Desktop/Hackzilla2/dataset/coconutmite/9130785469_a020f12f29_o.jpg',\n",
       " '/home/fjcamillo/Desktop/Hackzilla2/dataset/coconutmite/i-download.jpg',\n",
       " '/home/fjcamillo/Desktop/Hackzilla2/dataset/coconutmite/4. eriophyid mite symp1.JPG',\n",
       " '/home/fjcamillo/Desktop/Hackzilla2/dataset/coconutmite/21.JPG',\n",
       " '/home/fjcamillo/Desktop/Hackzilla2/dataset/coconutmite/132165465.JPG',\n",
       " '/home/fjcamillo/Desktop/Hackzilla2/dataset/coconutmite/1.JPG',\n",
       " '/home/fjcamillo/Desktop/Hackzilla2/dataset/coconutmite/9132994058_afa8215f4d.jpg',\n",
       " '/home/fjcamillo/Desktop/Hackzilla2/dataset/coconutmite/2.JPG',\n",
       " '/home/fjcamillo/Desktop/Hackzilla2/dataset/coconutmite/1095.400x400_3_0.jpeg',\n",
       " '/home/fjcamillo/Desktop/Hackzilla2/dataset/coconutmite/rat001.jpg',\n",
       " '/home/fjcamillo/Desktop/Hackzilla2/dataset/coconutmite/aceria_guerreronis03.jpg',\n",
       " '/home/fjcamillo/Desktop/Hackzilla2/dataset/coconutmite/12546.JPG',\n",
       " '/home/fjcamillo/Desktop/Hackzilla2/dataset/coconutmite/1215462.JPG',\n",
       " '/home/fjcamillo/Desktop/Hackzilla2/dataset/coconutmite/30104202625_f73fbb3961_o.jpg',\n",
       " '/home/fjcamillo/Desktop/Hackzilla2/dataset/coconutmite/rat002.jpg',\n",
       " '/home/fjcamillo/Desktop/Hackzilla2/dataset/coconutmite/samoan_coco_eriophyid_mites_1.jpg',\n",
       " '/home/fjcamillo/Desktop/Hackzilla2/dataset/coconutmite/154.JPG',\n",
       " '/home/fjcamillo/Desktop/Hackzilla2/dataset/coconutmite/75.JPG',\n",
       " '/home/fjcamillo/Desktop/Hackzilla2/dataset/coconutmite/Capture.JPG',\n",
       " '/home/fjcamillo/Desktop/Hackzilla2/dataset/coconutmite/Coco_fruit_skin05lite.jpg',\n",
       " '/home/fjcamillo/Desktop/Hackzilla2/dataset/coconutmite/132165.JPG',\n",
       " '/home/fjcamillo/Desktop/Hackzilla2/dataset/coconutmite/576842.JPG',\n",
       " '/home/fjcamillo/Desktop/Hackzilla2/dataset/coconutmite/1254264.JPG',\n",
       " '/home/fjcamillo/Desktop/Hackzilla2/dataset/coconutmite/1254.JPG',\n",
       " '/home/fjcamillo/Desktop/Hackzilla2/dataset/coconutmite/Coconut_mite_damage.jpg',\n",
       " '/home/fjcamillo/Desktop/Hackzilla2/dataset/coconutmite/14257.JPG',\n",
       " '/home/fjcamillo/Desktop/Hackzilla2/dataset/coconutmite/236456.JPG',\n",
       " '/home/fjcamillo/Desktop/Hackzilla2/dataset/coconutmite/i-download (1).jpg',\n",
       " '/home/fjcamillo/Desktop/Hackzilla2/dataset/coconutmite/Mite-Port-Vila_4394.jpg',\n",
       " '/home/fjcamillo/Desktop/Hackzilla2/dataset/coconutmite/27229698964_c547eb809f_o.jpg',\n",
       " '/home/fjcamillo/Desktop/Hackzilla2/dataset/coconutmite/37.JPG',\n",
       " '/home/fjcamillo/Desktop/Hackzilla2/dataset/coconutmite/116549.JPG',\n",
       " '/home/fjcamillo/Desktop/Hackzilla2/dataset/coconutmite/Coco_fruit_skin04lite.jpg',\n",
       " '/home/fjcamillo/Desktop/Hackzilla2/dataset/coconutmite/23.JPG',\n",
       " '/home/fjcamillo/Desktop/Hackzilla2/dataset/coconutmite/crop_prot_crop_insect_oil_coconut_clip_image002_0008.jpg',\n",
       " '/home/fjcamillo/Desktop/Hackzilla2/dataset/lethalyellow/lethalyellowing.jpeg',\n",
       " '/home/fjcamillo/Desktop/Hackzilla2/dataset/lethalyellow/LY_Jamaica_2005.jpg',\n",
       " '/home/fjcamillo/Desktop/Hackzilla2/dataset/lethalyellow/pel7a.JPG',\n",
       " '/home/fjcamillo/Desktop/Hackzilla2/dataset/lethalyellow/lethal-yellowing-coconut.jpg',\n",
       " '/home/fjcamillo/Desktop/Hackzilla2/dataset/lethalyellow/LY_Jamaica_Overview.jpg',\n",
       " '/home/fjcamillo/Desktop/Hackzilla2/dataset/lethalyellow/800x480_IMAGE62601526.jpg',\n",
       " '/home/fjcamillo/Desktop/Hackzilla2/dataset/lethalyellow/dollet-photo-1_lightbox.jpg',\n",
       " '/home/fjcamillo/Desktop/Hackzilla2/dataset/lethalyellow/palms-coconut-vdamaged.jpg',\n",
       " '/home/fjcamillo/Desktop/Hackzilla2/dataset/lethalyellow/563597_0.jpg',\n",
       " '/home/fjcamillo/Desktop/Hackzilla2/dataset/lethalyellow/LethalYellowing03.jpg',\n",
       " '/home/fjcamillo/Desktop/Hackzilla2/dataset/lethalyellow/1098_0.jpeg',\n",
       " '/home/fjcamillo/Desktop/Hackzilla2/dataset/lethalyellow/i-download.jpg',\n",
       " '/home/fjcamillo/Desktop/Hackzilla2/dataset/lethalyellow/ly_tree2Sm.jpg',\n",
       " '/home/fjcamillo/Desktop/Hackzilla2/dataset/lethalyellow/images (2).jpg',\n",
       " '/home/fjcamillo/Desktop/Hackzilla2/dataset/lethalyellow/lethalyellowing.jpg',\n",
       " '/home/fjcamillo/Desktop/Hackzilla2/dataset/lethalyellow/1.JPG',\n",
       " '/home/fjcamillo/Desktop/Hackzilla2/dataset/lethalyellow/Figure-1-Palms-showing-coconut-lethal-yellowing-phytoplasma-associated-diseases-a.png',\n",
       " '/home/fjcamillo/Desktop/Hackzilla2/dataset/lethalyellow/coconut-diseases-only-crownless-stem-remains.jpg',\n",
       " '/home/fjcamillo/Desktop/Hackzilla2/dataset/lethalyellow/Bze-Ag-Report-14_Page_03_Image_0002.jpg',\n",
       " '/home/fjcamillo/Desktop/Hackzilla2/dataset/lethalyellow/5476151.jpg',\n",
       " '/home/fjcamillo/Desktop/Hackzilla2/dataset/lethalyellow/tinangaja2.jpg',\n",
       " '/home/fjcamillo/Desktop/Hackzilla2/dataset/lethalyellow/d402f01.jpg',\n",
       " '/home/fjcamillo/Desktop/Hackzilla2/dataset/lethalyellow/pinneys coconuts.jpg',\n",
       " '/home/fjcamillo/Desktop/Hackzilla2/dataset/lethalyellow/chapelsm.jpg',\n",
       " '/home/fjcamillo/Desktop/Hackzilla2/dataset/lethalyellow/YooniqImages_221395948.jpg',\n",
       " '/home/fjcamillo/Desktop/Hackzilla2/dataset/lethalyellow/download.jpg',\n",
       " '/home/fjcamillo/Desktop/Hackzilla2/dataset/lethalyellow/5.jpg',\n",
       " '/home/fjcamillo/Desktop/Hackzilla2/dataset/lethalyellow/images.jpg',\n",
       " '/home/fjcamillo/Desktop/Hackzilla2/dataset/lethalyellow/d287f01.jpg',\n",
       " '/home/fjcamillo/Desktop/Hackzilla2/dataset/lethalyellow/YooniqImages_221395920.jpg',\n",
       " '/home/fjcamillo/Desktop/Hackzilla2/dataset/lethalyellow/DSC04863.JPG',\n",
       " '/home/fjcamillo/Desktop/Hackzilla2/dataset/lethalyellow/110501y0.jpg',\n",
       " '/home/fjcamillo/Desktop/Hackzilla2/dataset/lethalyellow/images (1).jpg',\n",
       " '/home/fjcamillo/Desktop/Hackzilla2/dataset/lethalyellow/images (3).jpg',\n",
       " '/home/fjcamillo/Desktop/Hackzilla2/dataset/lethalyellow/queen-with-brown-leaf2.jpg',\n",
       " '/home/fjcamillo/Desktop/Hackzilla2/dataset/lethalyellow/Phoenix_canariensis.jpg',\n",
       " '/home/fjcamillo/Desktop/Hackzilla2/dataset/lethalyellow/0656009.jpg',\n",
       " '/home/fjcamillo/Desktop/Hackzilla2/dataset/lethalyellow/LethalYellowing15.jpg',\n",
       " '/home/fjcamillo/Desktop/Hackzilla2/dataset/lethalyellow/2008-04-18e.jpg',\n",
       " '/home/fjcamillo/Desktop/Hackzilla2/dataset/lethalyellow/PlantViruses30.jpg',\n",
       " '/home/fjcamillo/Desktop/Hackzilla2/dataset/lethalyellow/1455442_orig.jpg',\n",
       " '/home/fjcamillo/Desktop/Hackzilla2/dataset/lethalyellow/LethalYellowingFoliarSymptoms.jpg',\n",
       " '/home/fjcamillo/Desktop/Hackzilla2/dataset/lethalyellow/1.png',\n",
       " '/home/fjcamillo/Desktop/Hackzilla2/dataset/regular/coconut-palm-2.jpg',\n",
       " '/home/fjcamillo/Desktop/Hackzilla2/dataset/regular/cocosnuciferatall.jpg',\n",
       " '/home/fjcamillo/Desktop/Hackzilla2/dataset/regular/Coconut_Trees_in_Dhofar_Oman.jpg',\n",
       " '/home/fjcamillo/Desktop/Hackzilla2/dataset/stembleeding/dm15.jpg',\n",
       " '/home/fjcamillo/Desktop/Hackzilla2/dataset/stembleeding/stemblsy.jpg',\n",
       " '/home/fjcamillo/Desktop/Hackzilla2/dataset/stembleeding/8810309820_eb4c097b12_b.jpg',\n",
       " '/home/fjcamillo/Desktop/Hackzilla2/dataset/stembleeding/stem splitting.jpg',\n",
       " '/home/fjcamillo/Desktop/Hackzilla2/dataset/stembleeding/coco_stem_bleeding_1.JPG',\n",
       " '/home/fjcamillo/Desktop/Hackzilla2/dataset/stembleeding/53.jpg',\n",
       " '/home/fjcamillo/Desktop/Hackzilla2/dataset/stembleeding/5684239787_65feaa8c2f_b.jpg',\n",
       " '/home/fjcamillo/Desktop/Hackzilla2/dataset/stembleeding/33170183552_c64e465667_b.jpg',\n",
       " '/home/fjcamillo/Desktop/Hackzilla2/dataset/stembleeding/stem-bleeding-rot.jpg',\n",
       " '/home/fjcamillo/Desktop/Hackzilla2/dataset/stembleeding/bleeding_Xmas_palm_trunk.JPG',\n",
       " '/home/fjcamillo/Desktop/Hackzilla2/dataset/stembleeding/52.jpg',\n",
       " '/home/fjcamillo/Desktop/Hackzilla2/dataset/stembleeding/Thielaviopsis_Trunk.JPG',\n",
       " '/home/fjcamillo/Desktop/Hackzilla2/dataset/stembleeding/lE9ffrZ.jpg',\n",
       " '/home/fjcamillo/Desktop/Hackzilla2/dataset/stembleeding/Gum_and_sawdust_from_beetle_infestation_on_Carpentaria.jpg',\n",
       " '/home/fjcamillo/Desktop/Hackzilla2/dataset/stembleeding/P1010122.JPG',\n",
       " '/home/fjcamillo/Desktop/Hackzilla2/dataset/stembleeding/6.jpg',\n",
       " '/home/fjcamillo/Desktop/Hackzilla2/dataset/stembleeding/stembleeding.jpg',\n",
       " '/home/fjcamillo/Desktop/Hackzilla2/dataset/stembleeding/yellowleafdiseasetreated.jpg',\n",
       " '/home/fjcamillo/Desktop/Hackzilla2/dataset/stembleeding/Palm_1.jpg',\n",
       " '/home/fjcamillo/Desktop/Hackzilla2/dataset/stembleeding/Thielaviopsis_TrunkBleeding.jpg',\n",
       " '/home/fjcamillo/Desktop/Hackzilla2/dataset/stembleeding/Stem-Bleeding-of-Coconut-Scot-Nelson-sm.jpg',\n",
       " '/home/fjcamillo/Desktop/Hackzilla2/dataset/stembleeding/N1.1.jpg',\n",
       " '/home/fjcamillo/Desktop/Hackzilla2/dataset/stembleeding/coconut_palm_x.jpg',\n",
       " '/home/fjcamillo/Desktop/Hackzilla2/dataset/stembleeding/51.jpg',\n",
       " '/home/fjcamillo/Desktop/Hackzilla2/dataset/stembleeding/wound-on-lower-trunk-of-roystonia-palm.jpg',\n",
       " '/home/fjcamillo/Desktop/Hackzilla2/dataset/stembleeding/2coconew_1.jpg',\n",
       " '/home/fjcamillo/Desktop/Hackzilla2/dataset/stembleeding/4117.jpg',\n",
       " '/home/fjcamillo/Desktop/Hackzilla2/dataset/stembleeding/stembleeding001.jpg',\n",
       " '/home/fjcamillo/Desktop/Hackzilla2/dataset/stembleeding/2coco_new2.png',\n",
       " '/home/fjcamillo/Desktop/Hackzilla2/dataset/stembleeding/bleeding-stem-rot.jpg',\n",
       " '/home/fjcamillo/Desktop/Hackzilla2/dataset/stembleeding/dm16.jpg',\n",
       " '/home/fjcamillo/Desktop/Hackzilla2/dataset/stembleeding/10.jpg']"
      ]
     },
     "execution_count": 248,
     "metadata": {},
     "output_type": "execute_result"
    }
   ],
   "source": [
    "#Get links of images\n",
    "image_links = []\n",
    "for url in urls:\n",
    "    for dat in os.listdir(url):\n",
    "        image_links.append(url+dat)\n",
    "    \n",
    "image_links"
   ]
  },
  {
   "cell_type": "code",
   "execution_count": 249,
   "metadata": {
    "collapsed": false
   },
   "outputs": [
    {
     "data": {
      "text/plain": [
       "996"
      ]
     },
     "execution_count": 249,
     "metadata": {},
     "output_type": "execute_result"
    }
   ],
   "source": [
    "len(image_links)*6"
   ]
  },
  {
   "cell_type": "code",
   "execution_count": 270,
   "metadata": {
    "collapsed": true
   },
   "outputs": [],
   "source": [
    "for image in image_links:\n",
    "    name = image.split(\"/\")[-2]\n",
    "    key = image.split(\"/\")[-1].split(\".\")[0]\n",
    "#     key = \"key\"\n",
    "    label = \"ok\"\n",
    "    convert(image, SIZE, name, key, label)\n",
    "    time.sleep(5)"
   ]
  },
  {
   "cell_type": "code",
   "execution_count": 250,
   "metadata": {
    "collapsed": false
   },
   "outputs": [],
   "source": [
    "#helper function to create labels\n",
    "\n",
    "#rhino = 0\n",
    "#coconutmite = 1\n",
    "#lethalyellow = 2\n",
    "#stembleeding = 3\n",
    "#regular = 4\n",
    "\n",
    "def create_label(data):\n",
    "    if \"rhino\" in data: return [1,0,0,0,0]\n",
    "    if \"coconutmite\" in data: return [0,1,0,0,0]\n",
    "    if \"lethalyellow\" in data: return [0,0,1,0,0]\n",
    "    if \"stembleeding\" in data: return [0,0,0,1,0]\n",
    "    if \"regular\" in data: return [0,0,0,0,1]"
   ]
  },
  {
   "cell_type": "code",
   "execution_count": 329,
   "metadata": {
    "collapsed": true
   },
   "outputs": [
    {
     "data": {
      "text/plain": [
       "[[0, 1, 0, 0, 0],\n",
       " [0, 1, 0, 0, 0],\n",
       " [0, 0, 1, 0, 0],\n",
       " [1, 0, 0, 0, 0],\n",
       " [0, 1, 0, 0, 0],\n",
       " [0, 0, 0, 1, 0],\n",
       " [0, 0, 1, 0, 0],\n",
       " [0, 1, 0, 0, 0],\n",
       " [1, 0, 0, 0, 0],\n",
       " [0, 1, 0, 0, 0],\n",
       " [0, 0, 0, 1, 0],\n",
       " [1, 0, 0, 0, 0],\n",
       " [0, 1, 0, 0, 0],\n",
       " [1, 0, 0, 0, 0],\n",
       " [0, 1, 0, 0, 0],\n",
       " [0, 1, 0, 0, 0],\n",
       " [0, 1, 0, 0, 0],\n",
       " [1, 0, 0, 0, 0],\n",
       " [1, 0, 0, 0, 0],\n",
       " [0, 0, 1, 0, 0],\n",
       " [0, 0, 0, 1, 0],\n",
       " [0, 0, 1, 0, 0],\n",
       " [0, 1, 0, 0, 0],\n",
       " [0, 0, 0, 1, 0],\n",
       " [0, 1, 0, 0, 0],\n",
       " [0, 0, 1, 0, 0],\n",
       " [0, 1, 0, 0, 0],\n",
       " [0, 0, 1, 0, 0],\n",
       " [1, 0, 0, 0, 0],\n",
       " [1, 0, 0, 0, 0],\n",
       " [0, 1, 0, 0, 0],\n",
       " [0, 0, 0, 1, 0],\n",
       " [0, 0, 1, 0, 0],\n",
       " [0, 0, 0, 1, 0],\n",
       " [1, 0, 0, 0, 0],\n",
       " [0, 0, 0, 1, 0],\n",
       " [0, 0, 1, 0, 0],\n",
       " [0, 1, 0, 0, 0],\n",
       " [0, 0, 1, 0, 0],\n",
       " [0, 0, 0, 1, 0],\n",
       " [0, 1, 0, 0, 0],\n",
       " [0, 0, 0, 1, 0],\n",
       " [0, 1, 0, 0, 0],\n",
       " [0, 1, 0, 0, 0],\n",
       " [0, 0, 1, 0, 0],\n",
       " [1, 0, 0, 0, 0],\n",
       " [1, 0, 0, 0, 0],\n",
       " [0, 1, 0, 0, 0],\n",
       " [1, 0, 0, 0, 0],\n",
       " [0, 1, 0, 0, 0],\n",
       " [1, 0, 0, 0, 0],\n",
       " [0, 0, 0, 1, 0],\n",
       " [0, 1, 0, 0, 0],\n",
       " [0, 0, 1, 0, 0],\n",
       " [0, 0, 0, 1, 0],\n",
       " [0, 0, 0, 1, 0],\n",
       " [1, 0, 0, 0, 0],\n",
       " [0, 0, 0, 1, 0],\n",
       " [1, 0, 0, 0, 0],\n",
       " [0, 0, 0, 1, 0],\n",
       " [1, 0, 0, 0, 0],\n",
       " [0, 1, 0, 0, 0],\n",
       " [0, 1, 0, 0, 0],\n",
       " [0, 0, 1, 0, 0],\n",
       " [0, 0, 1, 0, 0],\n",
       " [0, 1, 0, 0, 0],\n",
       " [1, 0, 0, 0, 0],\n",
       " [0, 1, 0, 0, 0],\n",
       " [0, 0, 0, 1, 0],\n",
       " [0, 1, 0, 0, 0],\n",
       " [0, 0, 1, 0, 0],\n",
       " [0, 1, 0, 0, 0],\n",
       " [0, 0, 0, 1, 0],\n",
       " [1, 0, 0, 0, 0],\n",
       " [0, 0, 0, 0, 1],\n",
       " [1, 0, 0, 0, 0],\n",
       " [0, 0, 0, 1, 0],\n",
       " [0, 1, 0, 0, 0],\n",
       " [1, 0, 0, 0, 0],\n",
       " [1, 0, 0, 0, 0],\n",
       " [0, 1, 0, 0, 0],\n",
       " [0, 0, 1, 0, 0],\n",
       " [1, 0, 0, 0, 0],\n",
       " [1, 0, 0, 0, 0],\n",
       " [0, 0, 1, 0, 0],\n",
       " [0, 0, 0, 0, 1],\n",
       " [1, 0, 0, 0, 0],\n",
       " [0, 0, 0, 1, 0],\n",
       " [1, 0, 0, 0, 0],\n",
       " [1, 0, 0, 0, 0],\n",
       " [0, 1, 0, 0, 0],\n",
       " [0, 0, 1, 0, 0],\n",
       " [0, 1, 0, 0, 0],\n",
       " [0, 0, 0, 1, 0],\n",
       " [0, 0, 0, 1, 0],\n",
       " [0, 0, 1, 0, 0],\n",
       " [0, 0, 0, 1, 0],\n",
       " [0, 0, 1, 0, 0],\n",
       " [0, 0, 1, 0, 0],\n",
       " [0, 0, 1, 0, 0],\n",
       " [0, 1, 0, 0, 0],\n",
       " [0, 0, 1, 0, 0],\n",
       " [0, 0, 0, 1, 0],\n",
       " [0, 0, 1, 0, 0],\n",
       " [0, 0, 0, 1, 0],\n",
       " [0, 1, 0, 0, 0],\n",
       " [0, 0, 1, 0, 0],\n",
       " [0, 0, 1, 0, 0],\n",
       " [0, 1, 0, 0, 0],\n",
       " [0, 0, 1, 0, 0],\n",
       " [0, 1, 0, 0, 0],\n",
       " [0, 0, 0, 1, 0],\n",
       " [0, 1, 0, 0, 0],\n",
       " [0, 0, 0, 1, 0],\n",
       " [0, 1, 0, 0, 0],\n",
       " [0, 0, 1, 0, 0],\n",
       " [0, 0, 1, 0, 0],\n",
       " [0, 0, 1, 0, 0],\n",
       " [1, 0, 0, 0, 0],\n",
       " [0, 0, 0, 1, 0],\n",
       " [1, 0, 0, 0, 0],\n",
       " [0, 0, 1, 0, 0],\n",
       " [0, 0, 0, 1, 0],\n",
       " [0, 0, 1, 0, 0],\n",
       " [0, 0, 1, 0, 0],\n",
       " [0, 0, 1, 0, 0],\n",
       " [0, 1, 0, 0, 0],\n",
       " [0, 0, 1, 0, 0],\n",
       " [0, 0, 1, 0, 0],\n",
       " [0, 1, 0, 0, 0],\n",
       " [0, 0, 1, 0, 0],\n",
       " [0, 1, 0, 0, 0],\n",
       " [1, 0, 0, 0, 0],\n",
       " [0, 1, 0, 0, 0],\n",
       " [1, 0, 0, 0, 0],\n",
       " [0, 0, 1, 0, 0],\n",
       " [0, 0, 1, 0, 0],\n",
       " [0, 0, 0, 1, 0],\n",
       " [1, 0, 0, 0, 0],\n",
       " [1, 0, 0, 0, 0],\n",
       " [0, 1, 0, 0, 0],\n",
       " [0, 0, 0, 1, 0],\n",
       " [0, 0, 0, 0, 1],\n",
       " [0, 1, 0, 0, 0],\n",
       " [0, 1, 0, 0, 0],\n",
       " [1, 0, 0, 0, 0],\n",
       " [0, 1, 0, 0, 0],\n",
       " [0, 0, 1, 0, 0],\n",
       " [1, 0, 0, 0, 0],\n",
       " [0, 0, 1, 0, 0],\n",
       " [0, 0, 0, 1, 0],\n",
       " [0, 0, 1, 0, 0],\n",
       " [1, 0, 0, 0, 0],\n",
       " [0, 1, 0, 0, 0],\n",
       " [0, 0, 0, 1, 0],\n",
       " [0, 1, 0, 0, 0],\n",
       " [1, 0, 0, 0, 0],\n",
       " [0, 1, 0, 0, 0],\n",
       " [0, 0, 0, 1, 0],\n",
       " [0, 0, 0, 1, 0],\n",
       " [0, 1, 0, 0, 0],\n",
       " [1, 0, 0, 0, 0],\n",
       " [0, 1, 0, 0, 0],\n",
       " [0, 0, 0, 1, 0],\n",
       " [0, 1, 0, 0, 0],\n",
       " [0, 1, 0, 0, 0],\n",
       " [0, 0, 1, 0, 0],\n",
       " [0, 0, 1, 0, 0],\n",
       " [1, 0, 0, 0, 0],\n",
       " [0, 1, 0, 0, 0],\n",
       " [1, 0, 0, 0, 0],\n",
       " [0, 0, 0, 1, 0],\n",
       " [0, 0, 1, 0, 0],\n",
       " [1, 0, 0, 0, 0],\n",
       " [0, 1, 0, 0, 0],\n",
       " [0, 1, 0, 0, 0],\n",
       " [0, 0, 1, 0, 0],\n",
       " [1, 0, 0, 0, 0],\n",
       " [0, 0, 0, 0, 1],\n",
       " [0, 0, 0, 0, 1],\n",
       " [0, 0, 1, 0, 0],\n",
       " [0, 1, 0, 0, 0],\n",
       " [1, 0, 0, 0, 0],\n",
       " [0, 0, 1, 0, 0],\n",
       " [0, 0, 0, 1, 0],\n",
       " [0, 0, 0, 1, 0],\n",
       " [0, 0, 1, 0, 0],\n",
       " [1, 0, 0, 0, 0],\n",
       " [0, 0, 1, 0, 0],\n",
       " [0, 1, 0, 0, 0],\n",
       " [0, 1, 0, 0, 0],\n",
       " [0, 0, 0, 1, 0],\n",
       " [0, 0, 0, 1, 0],\n",
       " [1, 0, 0, 0, 0],\n",
       " [0, 1, 0, 0, 0],\n",
       " [0, 0, 1, 0, 0],\n",
       " [0, 1, 0, 0, 0],\n",
       " [0, 0, 1, 0, 0],\n",
       " [0, 0, 1, 0, 0],\n",
       " [0, 1, 0, 0, 0],\n",
       " [0, 1, 0, 0, 0],\n",
       " [0, 0, 1, 0, 0],\n",
       " [0, 0, 0, 1, 0],\n",
       " [1, 0, 0, 0, 0],\n",
       " [1, 0, 0, 0, 0],\n",
       " [0, 1, 0, 0, 0],\n",
       " [0, 0, 0, 1, 0],\n",
       " [0, 0, 1, 0, 0],\n",
       " [0, 0, 1, 0, 0],\n",
       " [0, 0, 0, 1, 0],\n",
       " [0, 0, 1, 0, 0],\n",
       " [0, 1, 0, 0, 0],\n",
       " [0, 0, 1, 0, 0],\n",
       " [0, 0, 1, 0, 0],\n",
       " [0, 0, 1, 0, 0],\n",
       " [1, 0, 0, 0, 0],\n",
       " [1, 0, 0, 0, 0],\n",
       " [1, 0, 0, 0, 0],\n",
       " [0, 0, 0, 1, 0],\n",
       " [0, 1, 0, 0, 0],\n",
       " [1, 0, 0, 0, 0],\n",
       " [1, 0, 0, 0, 0],\n",
       " [1, 0, 0, 0, 0],\n",
       " [0, 1, 0, 0, 0],\n",
       " [0, 0, 1, 0, 0],\n",
       " [0, 0, 1, 0, 0],\n",
       " [0, 1, 0, 0, 0],\n",
       " [1, 0, 0, 0, 0],\n",
       " [0, 1, 0, 0, 0],\n",
       " [1, 0, 0, 0, 0],\n",
       " [0, 0, 0, 1, 0],\n",
       " [1, 0, 0, 0, 0],\n",
       " [0, 0, 1, 0, 0],\n",
       " [1, 0, 0, 0, 0],\n",
       " [0, 0, 1, 0, 0],\n",
       " [1, 0, 0, 0, 0],\n",
       " [1, 0, 0, 0, 0],\n",
       " [0, 1, 0, 0, 0],\n",
       " [0, 1, 0, 0, 0],\n",
       " [0, 1, 0, 0, 0],\n",
       " [0, 0, 0, 1, 0],\n",
       " [0, 1, 0, 0, 0],\n",
       " [1, 0, 0, 0, 0],\n",
       " [1, 0, 0, 0, 0],\n",
       " [1, 0, 0, 0, 0],\n",
       " [0, 0, 1, 0, 0],\n",
       " [0, 1, 0, 0, 0],\n",
       " [0, 0, 1, 0, 0],\n",
       " [0, 0, 1, 0, 0],\n",
       " [1, 0, 0, 0, 0],\n",
       " [0, 1, 0, 0, 0],\n",
       " [1, 0, 0, 0, 0],\n",
       " [0, 0, 1, 0, 0],\n",
       " [0, 1, 0, 0, 0],\n",
       " [0, 0, 0, 1, 0],\n",
       " [0, 1, 0, 0, 0],\n",
       " [0, 1, 0, 0, 0],\n",
       " [1, 0, 0, 0, 0],\n",
       " [1, 0, 0, 0, 0],\n",
       " [0, 0, 0, 1, 0],\n",
       " [0, 0, 1, 0, 0],\n",
       " [0, 1, 0, 0, 0],\n",
       " [0, 1, 0, 0, 0],\n",
       " [1, 0, 0, 0, 0],\n",
       " [0, 1, 0, 0, 0],\n",
       " [0, 0, 1, 0, 0],\n",
       " [0, 0, 0, 1, 0],\n",
       " [1, 0, 0, 0, 0],\n",
       " [0, 0, 0, 1, 0],\n",
       " [0, 0, 1, 0, 0],\n",
       " [0, 0, 0, 1, 0],\n",
       " [0, 1, 0, 0, 0],\n",
       " [0, 0, 1, 0, 0],\n",
       " [0, 1, 0, 0, 0],\n",
       " [1, 0, 0, 0, 0],\n",
       " [1, 0, 0, 0, 0],\n",
       " [0, 1, 0, 0, 0],\n",
       " [1, 0, 0, 0, 0],\n",
       " [0, 0, 1, 0, 0],\n",
       " [1, 0, 0, 0, 0],\n",
       " [0, 0, 0, 1, 0],\n",
       " [0, 0, 0, 1, 0],\n",
       " [0, 1, 0, 0, 0],\n",
       " [1, 0, 0, 0, 0],\n",
       " [1, 0, 0, 0, 0],\n",
       " [0, 0, 0, 0, 1],\n",
       " [1, 0, 0, 0, 0],\n",
       " [0, 1, 0, 0, 0],\n",
       " [0, 1, 0, 0, 0],\n",
       " [0, 1, 0, 0, 0],\n",
       " [1, 0, 0, 0, 0],\n",
       " [0, 1, 0, 0, 0],\n",
       " [0, 1, 0, 0, 0],\n",
       " [1, 0, 0, 0, 0],\n",
       " [1, 0, 0, 0, 0],\n",
       " [1, 0, 0, 0, 0],\n",
       " [0, 0, 1, 0, 0],\n",
       " [0, 0, 0, 1, 0],\n",
       " [1, 0, 0, 0, 0],\n",
       " [0, 1, 0, 0, 0],\n",
       " [0, 1, 0, 0, 0],\n",
       " [1, 0, 0, 0, 0],\n",
       " [1, 0, 0, 0, 0],\n",
       " [1, 0, 0, 0, 0],\n",
       " [1, 0, 0, 0, 0],\n",
       " [0, 0, 1, 0, 0],\n",
       " [0, 1, 0, 0, 0],\n",
       " [0, 0, 1, 0, 0],\n",
       " [0, 0, 0, 1, 0],\n",
       " [0, 0, 1, 0, 0],\n",
       " [1, 0, 0, 0, 0],\n",
       " [1, 0, 0, 0, 0],\n",
       " [0, 1, 0, 0, 0],\n",
       " [0, 1, 0, 0, 0],\n",
       " [0, 0, 1, 0, 0],\n",
       " [0, 1, 0, 0, 0],\n",
       " [1, 0, 0, 0, 0],\n",
       " [0, 0, 1, 0, 0],\n",
       " [0, 1, 0, 0, 0],\n",
       " [0, 1, 0, 0, 0],\n",
       " [0, 1, 0, 0, 0],\n",
       " [0, 1, 0, 0, 0],\n",
       " [0, 0, 0, 1, 0],\n",
       " [1, 0, 0, 0, 0],\n",
       " [0, 1, 0, 0, 0],\n",
       " [0, 1, 0, 0, 0],\n",
       " [0, 1, 0, 0, 0],\n",
       " [1, 0, 0, 0, 0],\n",
       " [0, 0, 0, 1, 0],\n",
       " [0, 0, 1, 0, 0],\n",
       " [0, 0, 0, 1, 0],\n",
       " [0, 1, 0, 0, 0],\n",
       " [0, 0, 1, 0, 0],\n",
       " [0, 0, 1, 0, 0],\n",
       " [0, 1, 0, 0, 0],\n",
       " [0, 0, 1, 0, 0],\n",
       " [0, 0, 0, 0, 1],\n",
       " [0, 0, 0, 1, 0],\n",
       " [0, 1, 0, 0, 0],\n",
       " [0, 1, 0, 0, 0],\n",
       " [0, 0, 0, 1, 0],\n",
       " [0, 1, 0, 0, 0],\n",
       " [0, 0, 1, 0, 0],\n",
       " [1, 0, 0, 0, 0],\n",
       " [0, 1, 0, 0, 0],\n",
       " [0, 1, 0, 0, 0],\n",
       " [0, 0, 0, 1, 0],\n",
       " [0, 1, 0, 0, 0],\n",
       " [0, 1, 0, 0, 0],\n",
       " [1, 0, 0, 0, 0],\n",
       " [0, 1, 0, 0, 0],\n",
       " [0, 1, 0, 0, 0],\n",
       " [0, 1, 0, 0, 0],\n",
       " [0, 0, 1, 0, 0],\n",
       " [0, 1, 0, 0, 0],\n",
       " [0, 1, 0, 0, 0],\n",
       " [0, 0, 1, 0, 0],\n",
       " [0, 0, 0, 1, 0],\n",
       " [0, 0, 0, 1, 0],\n",
       " [0, 1, 0, 0, 0],\n",
       " [0, 1, 0, 0, 0],\n",
       " [0, 1, 0, 0, 0],\n",
       " [0, 0, 1, 0, 0],\n",
       " [0, 1, 0, 0, 0],\n",
       " [1, 0, 0, 0, 0],\n",
       " [0, 0, 1, 0, 0],\n",
       " [0, 0, 0, 1, 0],\n",
       " [0, 1, 0, 0, 0],\n",
       " [0, 0, 1, 0, 0],\n",
       " [0, 1, 0, 0, 0],\n",
       " [0, 0, 0, 1, 0],\n",
       " [1, 0, 0, 0, 0],\n",
       " [0, 1, 0, 0, 0],\n",
       " [1, 0, 0, 0, 0],\n",
       " [1, 0, 0, 0, 0],\n",
       " [0, 0, 1, 0, 0],\n",
       " [1, 0, 0, 0, 0],\n",
       " [0, 0, 1, 0, 0],\n",
       " [1, 0, 0, 0, 0],\n",
       " [0, 0, 0, 1, 0],\n",
       " [0, 1, 0, 0, 0],\n",
       " [1, 0, 0, 0, 0],\n",
       " [0, 0, 1, 0, 0],\n",
       " [0, 1, 0, 0, 0],\n",
       " [0, 0, 0, 1, 0],\n",
       " [0, 0, 0, 1, 0],\n",
       " [0, 0, 0, 1, 0],\n",
       " [0, 0, 0, 1, 0],\n",
       " [1, 0, 0, 0, 0],\n",
       " [1, 0, 0, 0, 0],\n",
       " [0, 1, 0, 0, 0],\n",
       " [0, 1, 0, 0, 0],\n",
       " [0, 0, 0, 1, 0],\n",
       " [0, 0, 0, 1, 0],\n",
       " [0, 0, 1, 0, 0],\n",
       " [0, 1, 0, 0, 0],\n",
       " [1, 0, 0, 0, 0],\n",
       " [0, 0, 1, 0, 0],\n",
       " [1, 0, 0, 0, 0],\n",
       " [0, 0, 1, 0, 0],\n",
       " [0, 1, 0, 0, 0],\n",
       " [0, 0, 1, 0, 0],\n",
       " [1, 0, 0, 0, 0],\n",
       " [0, 0, 1, 0, 0],\n",
       " [0, 1, 0, 0, 0],\n",
       " [1, 0, 0, 0, 0],\n",
       " [0, 0, 0, 0, 1],\n",
       " [0, 1, 0, 0, 0],\n",
       " [0, 1, 0, 0, 0],\n",
       " [0, 0, 1, 0, 0],\n",
       " [1, 0, 0, 0, 0],\n",
       " [0, 0, 0, 1, 0],\n",
       " [0, 1, 0, 0, 0],\n",
       " [0, 0, 0, 1, 0],\n",
       " [0, 1, 0, 0, 0],\n",
       " [0, 0, 1, 0, 0],\n",
       " [0, 1, 0, 0, 0],\n",
       " [1, 0, 0, 0, 0],\n",
       " [0, 0, 1, 0, 0],\n",
       " [0, 1, 0, 0, 0],\n",
       " [0, 1, 0, 0, 0],\n",
       " [0, 0, 1, 0, 0],\n",
       " [1, 0, 0, 0, 0],\n",
       " [1, 0, 0, 0, 0],\n",
       " [1, 0, 0, 0, 0],\n",
       " [0, 0, 1, 0, 0],\n",
       " [0, 0, 0, 1, 0],\n",
       " [0, 1, 0, 0, 0],\n",
       " [1, 0, 0, 0, 0],\n",
       " [0, 0, 0, 1, 0],\n",
       " [0, 1, 0, 0, 0],\n",
       " [0, 0, 0, 1, 0],\n",
       " [0, 1, 0, 0, 0],\n",
       " [0, 0, 0, 1, 0],\n",
       " [0, 1, 0, 0, 0],\n",
       " [1, 0, 0, 0, 0],\n",
       " [0, 1, 0, 0, 0],\n",
       " [1, 0, 0, 0, 0],\n",
       " [1, 0, 0, 0, 0],\n",
       " [0, 1, 0, 0, 0],\n",
       " [0, 0, 0, 1, 0],\n",
       " [0, 0, 0, 1, 0],\n",
       " [0, 1, 0, 0, 0],\n",
       " [0, 1, 0, 0, 0],\n",
       " [0, 0, 0, 1, 0],\n",
       " [0, 1, 0, 0, 0],\n",
       " [0, 1, 0, 0, 0],\n",
       " [1, 0, 0, 0, 0],\n",
       " [0, 0, 0, 1, 0],\n",
       " [0, 0, 1, 0, 0],\n",
       " [0, 1, 0, 0, 0],\n",
       " [0, 0, 1, 0, 0],\n",
       " [1, 0, 0, 0, 0],\n",
       " [0, 0, 1, 0, 0],\n",
       " [0, 0, 0, 1, 0],\n",
       " [1, 0, 0, 0, 0],\n",
       " [0, 0, 1, 0, 0],\n",
       " [0, 0, 1, 0, 0],\n",
       " [0, 0, 0, 1, 0],\n",
       " [0, 0, 0, 1, 0],\n",
       " [0, 0, 1, 0, 0],\n",
       " [0, 1, 0, 0, 0],\n",
       " [0, 1, 0, 0, 0],\n",
       " [0, 1, 0, 0, 0],\n",
       " [1, 0, 0, 0, 0],\n",
       " [0, 0, 1, 0, 0],\n",
       " [0, 0, 0, 1, 0],\n",
       " [1, 0, 0, 0, 0],\n",
       " [0, 1, 0, 0, 0],\n",
       " [0, 1, 0, 0, 0],\n",
       " [0, 1, 0, 0, 0],\n",
       " [1, 0, 0, 0, 0],\n",
       " [0, 1, 0, 0, 0],\n",
       " [0, 0, 1, 0, 0],\n",
       " [1, 0, 0, 0, 0],\n",
       " [1, 0, 0, 0, 0],\n",
       " [0, 0, 0, 1, 0],\n",
       " [0, 0, 0, 1, 0],\n",
       " [0, 0, 0, 1, 0],\n",
       " [0, 1, 0, 0, 0],\n",
       " [0, 0, 0, 1, 0],\n",
       " [1, 0, 0, 0, 0],\n",
       " [0, 1, 0, 0, 0],\n",
       " [0, 0, 1, 0, 0],\n",
       " [0, 1, 0, 0, 0],\n",
       " [0, 0, 0, 1, 0],\n",
       " [0, 0, 1, 0, 0],\n",
       " [0, 0, 1, 0, 0],\n",
       " [0, 0, 0, 1, 0],\n",
       " [0, 1, 0, 0, 0],\n",
       " [0, 0, 0, 1, 0],\n",
       " [1, 0, 0, 0, 0],\n",
       " [0, 0, 1, 0, 0],\n",
       " [0, 0, 0, 0, 1],\n",
       " [0, 0, 1, 0, 0],\n",
       " [0, 0, 1, 0, 0],\n",
       " [0, 0, 0, 1, 0],\n",
       " [0, 0, 1, 0, 0],\n",
       " [0, 1, 0, 0, 0],\n",
       " [1, 0, 0, 0, 0],\n",
       " [1, 0, 0, 0, 0],\n",
       " [1, 0, 0, 0, 0],\n",
       " [0, 0, 1, 0, 0],\n",
       " [0, 1, 0, 0, 0],\n",
       " [1, 0, 0, 0, 0],\n",
       " [0, 1, 0, 0, 0],\n",
       " [0, 0, 0, 0, 1],\n",
       " [1, 0, 0, 0, 0],\n",
       " [0, 0, 0, 0, 1],\n",
       " [0, 0, 1, 0, 0],\n",
       " [1, 0, 0, 0, 0],\n",
       " [1, 0, 0, 0, 0],\n",
       " [0, 1, 0, 0, 0],\n",
       " [0, 1, 0, 0, 0],\n",
       " [1, 0, 0, 0, 0],\n",
       " [1, 0, 0, 0, 0],\n",
       " [0, 0, 1, 0, 0],\n",
       " [0, 0, 1, 0, 0],\n",
       " [0, 0, 0, 1, 0],\n",
       " [0, 1, 0, 0, 0],\n",
       " [1, 0, 0, 0, 0],\n",
       " [0, 0, 1, 0, 0],\n",
       " [0, 0, 1, 0, 0],\n",
       " [0, 0, 1, 0, 0],\n",
       " [0, 0, 1, 0, 0],\n",
       " [1, 0, 0, 0, 0],\n",
       " [1, 0, 0, 0, 0],\n",
       " [0, 1, 0, 0, 0],\n",
       " [1, 0, 0, 0, 0],\n",
       " [0, 0, 1, 0, 0],\n",
       " [0, 1, 0, 0, 0],\n",
       " [0, 0, 0, 1, 0],\n",
       " [0, 1, 0, 0, 0],\n",
       " [1, 0, 0, 0, 0],\n",
       " [1, 0, 0, 0, 0],\n",
       " [1, 0, 0, 0, 0],\n",
       " [0, 1, 0, 0, 0],\n",
       " [0, 1, 0, 0, 0],\n",
       " [0, 0, 0, 1, 0],\n",
       " [0, 1, 0, 0, 0],\n",
       " [0, 0, 1, 0, 0],\n",
       " [0, 1, 0, 0, 0],\n",
       " [0, 0, 1, 0, 0],\n",
       " [0, 1, 0, 0, 0],\n",
       " [0, 0, 1, 0, 0],\n",
       " [0, 0, 1, 0, 0],\n",
       " [0, 1, 0, 0, 0],\n",
       " [0, 0, 1, 0, 0],\n",
       " [0, 0, 1, 0, 0],\n",
       " [0, 0, 0, 1, 0],\n",
       " [1, 0, 0, 0, 0],\n",
       " [0, 1, 0, 0, 0],\n",
       " [0, 0, 1, 0, 0],\n",
       " [0, 0, 0, 1, 0],\n",
       " [0, 0, 0, 1, 0],\n",
       " [0, 0, 0, 1, 0],\n",
       " [1, 0, 0, 0, 0],\n",
       " [0, 0, 0, 1, 0],\n",
       " [1, 0, 0, 0, 0],\n",
       " [0, 0, 0, 1, 0],\n",
       " [0, 0, 1, 0, 0],\n",
       " [0, 0, 1, 0, 0],\n",
       " [0, 0, 0, 1, 0],\n",
       " [0, 1, 0, 0, 0],\n",
       " [0, 0, 0, 1, 0],\n",
       " [0, 0, 1, 0, 0],\n",
       " [0, 0, 0, 1, 0],\n",
       " [0, 0, 0, 0, 1],\n",
       " [0, 0, 0, 1, 0],\n",
       " [0, 0, 0, 1, 0],\n",
       " [0, 0, 0, 1, 0],\n",
       " [0, 0, 1, 0, 0],\n",
       " [0, 0, 0, 1, 0],\n",
       " [1, 0, 0, 0, 0],\n",
       " [0, 1, 0, 0, 0],\n",
       " [0, 0, 1, 0, 0],\n",
       " [1, 0, 0, 0, 0],\n",
       " [0, 1, 0, 0, 0],\n",
       " [0, 1, 0, 0, 0],\n",
       " [0, 0, 1, 0, 0],\n",
       " [0, 0, 1, 0, 0],\n",
       " [0, 0, 1, 0, 0],\n",
       " [0, 1, 0, 0, 0],\n",
       " [0, 0, 1, 0, 0],\n",
       " [0, 0, 0, 1, 0],\n",
       " [1, 0, 0, 0, 0],\n",
       " [0, 1, 0, 0, 0],\n",
       " [0, 0, 0, 1, 0],\n",
       " [1, 0, 0, 0, 0],\n",
       " [1, 0, 0, 0, 0],\n",
       " [0, 0, 0, 1, 0],\n",
       " [0, 0, 0, 1, 0],\n",
       " [0, 1, 0, 0, 0],\n",
       " [0, 0, 1, 0, 0],\n",
       " [0, 0, 1, 0, 0],\n",
       " [1, 0, 0, 0, 0],\n",
       " [0, 0, 1, 0, 0],\n",
       " [0, 0, 1, 0, 0],\n",
       " [0, 0, 1, 0, 0],\n",
       " [0, 0, 1, 0, 0],\n",
       " [0, 0, 1, 0, 0],\n",
       " [1, 0, 0, 0, 0],\n",
       " [1, 0, 0, 0, 0],\n",
       " [0, 0, 0, 1, 0],\n",
       " [0, 0, 0, 1, 0],\n",
       " [0, 1, 0, 0, 0],\n",
       " [0, 0, 1, 0, 0],\n",
       " [0, 0, 0, 1, 0],\n",
       " [0, 0, 1, 0, 0],\n",
       " [0, 0, 1, 0, 0],\n",
       " [0, 0, 1, 0, 0],\n",
       " [0, 0, 0, 1, 0],\n",
       " [0, 0, 0, 1, 0],\n",
       " [0, 0, 1, 0, 0],\n",
       " [0, 1, 0, 0, 0],\n",
       " [0, 0, 0, 1, 0],\n",
       " [0, 0, 1, 0, 0],\n",
       " [0, 0, 1, 0, 0],\n",
       " [0, 0, 0, 1, 0],\n",
       " [0, 0, 0, 1, 0],\n",
       " [0, 0, 1, 0, 0],\n",
       " [1, 0, 0, 0, 0],\n",
       " [0, 0, 1, 0, 0],\n",
       " [1, 0, 0, 0, 0],\n",
       " [0, 0, 0, 1, 0],\n",
       " [0, 1, 0, 0, 0],\n",
       " [0, 0, 0, 1, 0],\n",
       " [0, 0, 0, 1, 0],\n",
       " [0, 1, 0, 0, 0],\n",
       " [0, 1, 0, 0, 0],\n",
       " [1, 0, 0, 0, 0],\n",
       " [0, 0, 1, 0, 0],\n",
       " [0, 0, 1, 0, 0],\n",
       " [0, 0, 1, 0, 0],\n",
       " [0, 1, 0, 0, 0],\n",
       " [1, 0, 0, 0, 0],\n",
       " [1, 0, 0, 0, 0],\n",
       " [0, 0, 0, 1, 0],\n",
       " [0, 1, 0, 0, 0],\n",
       " [0, 1, 0, 0, 0],\n",
       " [0, 1, 0, 0, 0],\n",
       " [1, 0, 0, 0, 0],\n",
       " [0, 1, 0, 0, 0],\n",
       " [1, 0, 0, 0, 0],\n",
       " [0, 0, 0, 1, 0],\n",
       " [0, 0, 0, 1, 0],\n",
       " [0, 1, 0, 0, 0],\n",
       " [0, 0, 0, 1, 0]]"
      ]
     },
     "execution_count": 329,
     "metadata": {},
     "output_type": "execute_result"
    }
   ],
   "source": [
    "labels = [create_label(labe.split(\"-\")) for labe in os.listdir(final_dataset_link)]\n",
    "labels"
   ]
  },
  {
   "cell_type": "code",
   "execution_count": null,
   "metadata": {
    "collapsed": true
   },
   "outputs": [],
   "source": []
  },
  {
   "cell_type": "code",
   "execution_count": 323,
   "metadata": {
    "collapsed": false
   },
   "outputs": [
    {
     "data": {
      "text/plain": [
       "652"
      ]
     },
     "execution_count": 323,
     "metadata": {},
     "output_type": "execute_result"
    }
   ],
   "source": [
    "len(labels)"
   ]
  },
  {
   "cell_type": "code",
   "execution_count": 14,
   "metadata": {
    "collapsed": true
   },
   "outputs": [],
   "source": [
    "np.savetxt(\"labels.txt\", labels)"
   ]
  },
  {
   "cell_type": "code",
   "execution_count": null,
   "metadata": {
    "collapsed": false
   },
   "outputs": [],
   "source": [
    "label_file = open(\"labels.txt\", \"w\")\n",
    "label_file.write(str(labels))\n",
    "label_file.close()"
   ]
  },
  {
   "cell_type": "code",
   "execution_count": 583,
   "metadata": {
    "collapsed": true
   },
   "outputs": [],
   "source": [
    "#helper functions to create training set\n",
    "def convertimage(filename, verbose=False):\n",
    "    img = Image.open(filename)\n",
    "#     pl.imshow(img)\n",
    "#     img = img.resize(size)\n",
    "    img = [list(img.getdata())]\n",
    "    img = map(list, img)\n",
    "#     img = np.array(img)\n",
    "    return np.array(img, dtype=np.int32)"
   ]
  },
  {
   "cell_type": "code",
   "execution_count": 111,
   "metadata": {
    "collapsed": true
   },
   "outputs": [],
   "source": [
    "imga = Image.open('/home/fjcamillo/Desktop/Hackzilla2/dataset/Final/resized-coconutmite-red_palm_weevil_sypt001.png')"
   ]
  },
  {
   "cell_type": "code",
   "execution_count": 561,
   "metadata": {
    "collapsed": false
   },
   "outputs": [
    {
     "data": {
      "text/plain": [
       "(512, 512, 3)"
      ]
     },
     "execution_count": 561,
     "metadata": {},
     "output_type": "execute_result"
    }
   ],
   "source": [
    "np.array(imga).shape"
   ]
  },
  {
   "cell_type": "code",
   "execution_count": 16,
   "metadata": {
    "collapsed": true
   },
   "outputs": [],
   "source": [
    "final_dataset_link = \"/home/fjcamillo/Desktop/Hackzilla2/dataset/Final/\""
   ]
  },
  {
   "cell_type": "code",
   "execution_count": 109,
   "metadata": {
    "collapsed": false
   },
   "outputs": [
    {
     "data": {
      "text/plain": [
       "'/home/fjcamillo/Desktop/Hackzilla2/dataset/Final/resized-coconutmite-red_palm_weevil_sypt001.png'"
      ]
     },
     "execution_count": 109,
     "metadata": {},
     "output_type": "execute_result"
    }
   ],
   "source": [
    "a = os.listdir(final_dataset_link)\n",
    "final_dataset_link+a[0]"
   ]
  },
  {
   "cell_type": "code",
   "execution_count": 584,
   "metadata": {
    "collapsed": false
   },
   "outputs": [],
   "source": [
    "dataset = [[convertimage(final_dataset_link+filen)] for filen in os.listdir(final_dataset_link)]"
   ]
  },
  {
   "cell_type": "code",
   "execution_count": 21,
   "metadata": {
    "collapsed": true
   },
   "outputs": [
    {
     "ename": "ValueError",
     "evalue": "could not broadcast input array from shape (262144,3) into shape (1)",
     "output_type": "error",
     "traceback": [
      "\u001b[1;31m---------------------------------------------------------------------------\u001b[0m",
      "\u001b[1;31mValueError\u001b[0m                                Traceback (most recent call last)",
      "\u001b[1;32m<ipython-input-21-f07046ca6723>\u001b[0m in \u001b[0;36m<module>\u001b[1;34m()\u001b[0m\n\u001b[1;32m----> 1\u001b[1;33m \u001b[0mnp\u001b[0m\u001b[1;33m.\u001b[0m\u001b[0msavetxt\u001b[0m\u001b[1;33m(\u001b[0m\u001b[1;34m\"asset.txt\"\u001b[0m\u001b[1;33m,\u001b[0m \u001b[0mdataset\u001b[0m\u001b[1;33m)\u001b[0m\u001b[1;33m\u001b[0m\u001b[0m\n\u001b[0m",
      "\u001b[1;32m/home/fjcamillo/anaconda2/envs/tensorflow/lib/python2.7/site-packages/numpy/lib/npyio.pyc\u001b[0m in \u001b[0;36msavetxt\u001b[1;34m(fname, X, fmt, delimiter, newline, header, footer, comments)\u001b[0m\n\u001b[0;32m   1160\u001b[0m \u001b[1;33m\u001b[0m\u001b[0m\n\u001b[0;32m   1161\u001b[0m     \u001b[1;32mtry\u001b[0m\u001b[1;33m:\u001b[0m\u001b[1;33m\u001b[0m\u001b[0m\n\u001b[1;32m-> 1162\u001b[1;33m         \u001b[0mX\u001b[0m \u001b[1;33m=\u001b[0m \u001b[0mnp\u001b[0m\u001b[1;33m.\u001b[0m\u001b[0masarray\u001b[0m\u001b[1;33m(\u001b[0m\u001b[0mX\u001b[0m\u001b[1;33m)\u001b[0m\u001b[1;33m\u001b[0m\u001b[0m\n\u001b[0m\u001b[0;32m   1163\u001b[0m \u001b[1;33m\u001b[0m\u001b[0m\n\u001b[0;32m   1164\u001b[0m         \u001b[1;31m# Handle 1-dimensional arrays\u001b[0m\u001b[1;33m\u001b[0m\u001b[1;33m\u001b[0m\u001b[0m\n",
      "\u001b[1;32m/home/fjcamillo/anaconda2/envs/tensorflow/lib/python2.7/site-packages/numpy/core/numeric.pyc\u001b[0m in \u001b[0;36masarray\u001b[1;34m(a, dtype, order)\u001b[0m\n\u001b[0;32m    529\u001b[0m \u001b[1;33m\u001b[0m\u001b[0m\n\u001b[0;32m    530\u001b[0m     \"\"\"\n\u001b[1;32m--> 531\u001b[1;33m     \u001b[1;32mreturn\u001b[0m \u001b[0marray\u001b[0m\u001b[1;33m(\u001b[0m\u001b[0ma\u001b[0m\u001b[1;33m,\u001b[0m \u001b[0mdtype\u001b[0m\u001b[1;33m,\u001b[0m \u001b[0mcopy\u001b[0m\u001b[1;33m=\u001b[0m\u001b[0mFalse\u001b[0m\u001b[1;33m,\u001b[0m \u001b[0morder\u001b[0m\u001b[1;33m=\u001b[0m\u001b[0morder\u001b[0m\u001b[1;33m)\u001b[0m\u001b[1;33m\u001b[0m\u001b[0m\n\u001b[0m\u001b[0;32m    532\u001b[0m \u001b[1;33m\u001b[0m\u001b[0m\n\u001b[0;32m    533\u001b[0m \u001b[1;33m\u001b[0m\u001b[0m\n",
      "\u001b[1;31mValueError\u001b[0m: could not broadcast input array from shape (262144,3) into shape (1)"
     ]
    }
   ],
   "source": [
    "np.savetxt(\"asset.txt\", dataset)"
   ]
  },
  {
   "cell_type": "code",
   "execution_count": null,
   "metadata": {
    "collapsed": false
   },
   "outputs": [],
   "source": [
    "txt_file = open(\"dataset.txt\",\"w\")\n",
    "txt_file.write(str(dataset))\n",
    "txt_file.close()"
   ]
  },
  {
   "cell_type": "code",
   "execution_count": null,
   "metadata": {
    "collapsed": true
   },
   "outputs": [],
   "source": []
  },
  {
   "cell_type": "markdown",
   "metadata": {},
   "source": [
    "## Data Model (Image Classification)\n",
    "---\n",
    "\n",
    "A 5 convolutional neural network\n"
   ]
  },
  {
   "cell_type": "code",
   "execution_count": 23,
   "metadata": {
    "collapsed": false
   },
   "outputs": [
    {
     "ename": "ValueError",
     "evalue": "could not broadcast input array from shape (262144,3) into shape (1)",
     "output_type": "error",
     "traceback": [
      "\u001b[1;31m---------------------------------------------------------------------------\u001b[0m",
      "\u001b[1;31mValueError\u001b[0m                                Traceback (most recent call last)",
      "\u001b[1;32m<ipython-input-23-110e0eaaffe9>\u001b[0m in \u001b[0;36m<module>\u001b[1;34m()\u001b[0m\n\u001b[1;32m----> 1\u001b[1;33m \u001b[0mdataset\u001b[0m \u001b[1;33m=\u001b[0m \u001b[0mnp\u001b[0m\u001b[1;33m.\u001b[0m\u001b[0marray\u001b[0m\u001b[1;33m(\u001b[0m\u001b[0mdataset\u001b[0m\u001b[1;33m)\u001b[0m\u001b[1;33m\u001b[0m\u001b[0m\n\u001b[0m",
      "\u001b[1;31mValueError\u001b[0m: could not broadcast input array from shape (262144,3) into shape (1)"
     ]
    }
   ],
   "source": [
    "dataset = np.array(dataset)"
   ]
  },
  {
   "cell_type": "code",
   "execution_count": 42,
   "metadata": {
    "collapsed": false
   },
   "outputs": [
    {
     "ename": "NameError",
     "evalue": "name 'x' is not defined",
     "output_type": "error",
     "traceback": [
      "\u001b[1;31m---------------------------------------------------------------------------\u001b[0m",
      "\u001b[1;31mNameError\u001b[0m                                 Traceback (most recent call last)",
      "\u001b[1;32m<ipython-input-42-359dfab70aba>\u001b[0m in \u001b[0;36m<module>\u001b[1;34m()\u001b[0m\n\u001b[0;32m      1\u001b[0m \u001b[1;31m#Linear Model\u001b[0m\u001b[1;33m\u001b[0m\u001b[1;33m\u001b[0m\u001b[0m\n\u001b[1;32m----> 2\u001b[1;33m \u001b[0mlinear_model\u001b[0m \u001b[1;33m=\u001b[0m \u001b[0mtf\u001b[0m\u001b[1;33m.\u001b[0m\u001b[0mmatmul\u001b[0m\u001b[1;33m(\u001b[0m\u001b[0mx\u001b[0m\u001b[1;33m,\u001b[0m\u001b[0mW\u001b[0m\u001b[1;33m)\u001b[0m \u001b[1;33m+\u001b[0m \u001b[0mb\u001b[0m\u001b[1;33m\u001b[0m\u001b[0m\n\u001b[0m",
      "\u001b[1;31mNameError\u001b[0m: name 'x' is not defined"
     ]
    }
   ],
   "source": [
    "#Linear Model\n",
    "linear_model = tf.matmul(x,W) + b"
   ]
  },
  {
   "cell_type": "code",
   "execution_count": 568,
   "metadata": {
    "collapsed": false
   },
   "outputs": [
    {
     "data": {
      "text/plain": [
       "262144"
      ]
     },
     "execution_count": 568,
     "metadata": {},
     "output_type": "execute_result"
    }
   ],
   "source": [
    "512*512"
   ]
  },
  {
   "cell_type": "code",
   "execution_count": 688,
   "metadata": {
    "collapsed": false
   },
   "outputs": [],
   "source": [
    "#First Input Layer\n",
    "x = tf.placeholder(tf.float32, [None,1,262144,3])\n",
    "y_ = tf.placeholder(tf.float32, [None,5, 262144,3])\n",
    "W = tf.Variable(tf.zeros([512,512,3]))\n",
    "b = tf.Variable(tf.zeros([5]))"
   ]
  },
  {
   "cell_type": "code",
   "execution_count": 689,
   "metadata": {
    "collapsed": false
   },
   "outputs": [],
   "source": [
    "#Second Layer, First Convolution Input Layer\n",
    "\n",
    "W1 = tf.Variable(tf.truncated_normal([8,8,3,8], stddev=0.1))\n",
    "b1 = tf.Variable(tf.ones([8]))"
   ]
  },
  {
   "cell_type": "code",
   "execution_count": 690,
   "metadata": {
    "collapsed": true
   },
   "outputs": [],
   "source": [
    "#Third Layer, Second Convolution Input Layer\n",
    "W2 = tf.Variable(tf.truncated_normal([4,4,8,12], stddev=0.1))\n",
    "b2 = tf.Variable(tf.ones([12]))"
   ]
  },
  {
   "cell_type": "code",
   "execution_count": 691,
   "metadata": {
    "collapsed": true
   },
   "outputs": [],
   "source": [
    "#Fourth Layer, Third Convolution Input Layer\n",
    "W3 = tf.Variable(tf.truncated_normal([2,2,12,14], stddev=0.1))\n",
    "b3 = tf.Variable(tf.ones([14]))"
   ]
  },
  {
   "cell_type": "code",
   "execution_count": 692,
   "metadata": {
    "collapsed": false
   },
   "outputs": [],
   "source": [
    "#Fifth Layer, First Fully Connected Layer\n",
    "W4 = tf.Variable(tf.truncated_normal([8*8*14,200], stddev=0.1))\n",
    "b4 = tf.Variable(tf.ones([200]))"
   ]
  },
  {
   "cell_type": "code",
   "execution_count": 693,
   "metadata": {
    "collapsed": true
   },
   "outputs": [],
   "source": [
    "#Fifth Layer, First Fully Connected Layer\n",
    "W5 = tf.Variable(tf.truncated_normal([200,5], stddev=0.1))\n",
    "b5 = tf.Variable(tf.ones([5]))"
   ]
  },
  {
   "cell_type": "code",
   "execution_count": 694,
   "metadata": {
    "collapsed": false
   },
   "outputs": [],
   "source": [
    "#Model\n",
    "conv1 = tf.nn.relu(tf.nn.conv2d(x, W1, strides=[1,1,1,1], padding=\"SAME\"))\n",
    "conv2 = tf.nn.relu(tf.nn.conv2d(conv1, W2, strides=[1,1,1,1], padding=\"SAME\"))\n",
    "conv3 = tf.nn.relu(tf.nn.conv2d(conv2, W3, strides=[1,1,1,1], padding=\"SAME\"))\n",
    "\n",
    "reenter = tf.reshape(conv3, [-1,8*8*14])\n",
    "\n",
    "\n",
    "fc1 = tf.nn.relu(tf.matmul(reenter,W4) + b4)\n",
    "fc2 = tf.reduce_mean(tf.nn.softmax(tf.matmul(fc1, W5) + b5))\n"
   ]
  },
  {
   "cell_type": "code",
   "execution_count": 695,
   "metadata": {
    "collapsed": false
   },
   "outputs": [],
   "source": [
    "#loss function \n",
    "train_step = tf.train.GradientDescentOptimizer(0.0001).minimize(fc2)\n"
   ]
  },
  {
   "cell_type": "code",
   "execution_count": 696,
   "metadata": {
    "collapsed": false
   },
   "outputs": [],
   "source": [
    "#accuracy\n",
    "correct_prediction = tf.equal(tf.argmax(x,1),tf.argmax(y_,1))\n",
    "accuracy=tf.reduce_mean(tf.cast(correct_prediction,tf.float32))"
   ]
  },
  {
   "cell_type": "code",
   "execution_count": 563,
   "metadata": {
    "collapsed": false
   },
   "outputs": [
    {
     "ename": "ValueError",
     "evalue": "could not broadcast input array from shape (512,3) into shape (512)",
     "output_type": "error",
     "traceback": [
      "\u001b[1;31m---------------------------------------------------------------------------\u001b[0m",
      "\u001b[1;31mValueError\u001b[0m                                Traceback (most recent call last)",
      "\u001b[1;32m<ipython-input-563-91e2fd566375>\u001b[0m in \u001b[0;36m<module>\u001b[1;34m()\u001b[0m\n\u001b[1;32m----> 1\u001b[1;33m \u001b[0mdataset\u001b[0m \u001b[1;33m=\u001b[0m \u001b[1;33m[\u001b[0m\u001b[1;33m[\u001b[0m\u001b[0mnp\u001b[0m\u001b[1;33m.\u001b[0m\u001b[0marray\u001b[0m\u001b[1;33m(\u001b[0m\u001b[0mdataset\u001b[0m\u001b[1;33m)\u001b[0m\u001b[1;33m.\u001b[0m\u001b[0mreshape\u001b[0m\u001b[1;33m(\u001b[0m\u001b[1;33m(\u001b[0m\u001b[1;36m512\u001b[0m\u001b[1;33m,\u001b[0m\u001b[1;36m512\u001b[0m\u001b[1;33m)\u001b[0m\u001b[1;33m)\u001b[0m\u001b[1;33m]\u001b[0m \u001b[1;32mfor\u001b[0m \u001b[0mdat\u001b[0m \u001b[1;32min\u001b[0m \u001b[0mdataset\u001b[0m\u001b[1;33m]\u001b[0m\u001b[1;33m\u001b[0m\u001b[0m\n\u001b[0m",
      "\u001b[1;31mValueError\u001b[0m: could not broadcast input array from shape (512,3) into shape (512)"
     ]
    }
   ],
   "source": [
    "dataset = [[np.array(dataset).reshape((512,512))] for dat in dataset]"
   ]
  },
  {
   "cell_type": "code",
   "execution_count": 585,
   "metadata": {
    "collapsed": false
   },
   "outputs": [
    {
     "data": {
      "text/plain": [
       "648"
      ]
     },
     "execution_count": 585,
     "metadata": {},
     "output_type": "execute_result"
    }
   ],
   "source": [
    "len(dataset)"
   ]
  },
  {
   "cell_type": "code",
   "execution_count": 586,
   "metadata": {
    "collapsed": false
   },
   "outputs": [
    {
     "data": {
      "text/plain": [
       "648"
      ]
     },
     "execution_count": 586,
     "metadata": {},
     "output_type": "execute_result"
    }
   ],
   "source": [
    "len(labels)"
   ]
  },
  {
   "cell_type": "code",
   "execution_count": 426,
   "metadata": {
    "collapsed": true
   },
   "outputs": [],
   "source": [
    "training_features = [[dat] for dat in datas for datas in dataset[:548]]\n",
    "training_labels = [datas[0] for datas in labels[:548]]\n",
    "test_features = [datas[0] for datas in dataset[549:]]\n",
    "test_labels = [datas[0] for datas in labels[549:]]"
   ]
  },
  {
   "cell_type": "code",
   "execution_count": 697,
   "metadata": {
    "collapsed": false
   },
   "outputs": [],
   "source": [
    "training_features = dataset[:548]\n",
    "training_labels = labels[:548]\n",
    "test_features = dataset[548:]\n",
    "test_labels = labels[548:]"
   ]
  },
  {
   "cell_type": "code",
   "execution_count": null,
   "metadata": {
    "collapsed": true
   },
   "outputs": [],
   "source": [
    "# tf.nn.c"
   ]
  },
  {
   "cell_type": "code",
   "execution_count": 64,
   "metadata": {
    "collapsed": true
   },
   "outputs": [],
   "source": [
    "sess = tf.InteractiveSession()"
   ]
  },
  {
   "cell_type": "code",
   "execution_count": 539,
   "metadata": {
    "collapsed": true
   },
   "outputs": [],
   "source": [
    "sess.run(tf.global_variables_initializer())"
   ]
  },
  {
   "cell_type": "code",
   "execution_count": 698,
   "metadata": {
    "collapsed": false
   },
   "outputs": [
    {
     "ename": "ValueError",
     "evalue": "could not broadcast input array from shape (262144,3) into shape (1,262144)",
     "output_type": "error",
     "traceback": [
      "\u001b[1;31m---------------------------------------------------------------------------\u001b[0m",
      "\u001b[1;31mValueError\u001b[0m                                Traceback (most recent call last)",
      "\u001b[1;32m<ipython-input-698-a5f1b622d24c>\u001b[0m in \u001b[0;36m<module>\u001b[1;34m()\u001b[0m\n\u001b[0;32m      4\u001b[0m \u001b[1;31m#     print(i)\u001b[0m\u001b[1;33m\u001b[0m\u001b[1;33m\u001b[0m\u001b[0m\n\u001b[0;32m      5\u001b[0m     \u001b[1;32mif\u001b[0m \u001b[0mi\u001b[0m\u001b[1;33m%\u001b[0m\u001b[1;36m100\u001b[0m\u001b[1;33m==\u001b[0m\u001b[1;36m0\u001b[0m\u001b[1;33m:\u001b[0m\u001b[1;33m\u001b[0m\u001b[0m\n\u001b[1;32m----> 6\u001b[1;33m         \u001b[0mtrain_accuracy\u001b[0m \u001b[1;33m=\u001b[0m \u001b[0maccuracy\u001b[0m\u001b[1;33m.\u001b[0m\u001b[0meval\u001b[0m\u001b[1;33m(\u001b[0m\u001b[0mfeed_dict\u001b[0m\u001b[1;33m=\u001b[0m\u001b[1;33m{\u001b[0m\u001b[0mx\u001b[0m\u001b[1;33m:\u001b[0m\u001b[0mtraining_features\u001b[0m\u001b[1;33m[\u001b[0m\u001b[1;33m:\u001b[0m\u001b[1;36m100\u001b[0m\u001b[1;33m]\u001b[0m\u001b[1;33m,\u001b[0m\u001b[0my_\u001b[0m\u001b[1;33m:\u001b[0m\u001b[0mtraining_labels\u001b[0m\u001b[1;33m[\u001b[0m\u001b[1;33m:\u001b[0m\u001b[1;36m100\u001b[0m\u001b[1;33m]\u001b[0m\u001b[1;33m}\u001b[0m\u001b[1;33m)\u001b[0m\u001b[1;33m\u001b[0m\u001b[0m\n\u001b[0m\u001b[0;32m      7\u001b[0m         \u001b[1;32mprint\u001b[0m\u001b[1;33m(\u001b[0m\u001b[1;34m\"Step {}, training accuracy {}\"\u001b[0m\u001b[1;33m.\u001b[0m\u001b[0mformat\u001b[0m\u001b[1;33m(\u001b[0m\u001b[0mi\u001b[0m\u001b[1;33m,\u001b[0m \u001b[0mtrain_accuracy\u001b[0m\u001b[1;33m)\u001b[0m\u001b[1;33m)\u001b[0m\u001b[1;33m\u001b[0m\u001b[0m\n\u001b[0;32m      8\u001b[0m     \u001b[0mtrain_step\u001b[0m\u001b[1;33m.\u001b[0m\u001b[0mrun\u001b[0m\u001b[1;33m(\u001b[0m\u001b[0mfeed_dict\u001b[0m\u001b[1;33m=\u001b[0m\u001b[1;33m{\u001b[0m\u001b[0mx\u001b[0m\u001b[1;33m:\u001b[0m\u001b[0mtraining_features\u001b[0m\u001b[1;33m[\u001b[0m\u001b[1;33m:\u001b[0m\u001b[1;36m100\u001b[0m\u001b[1;33m]\u001b[0m\u001b[1;33m,\u001b[0m\u001b[0my_\u001b[0m\u001b[1;33m:\u001b[0m\u001b[0mtraining_labels\u001b[0m\u001b[1;33m[\u001b[0m\u001b[1;33m:\u001b[0m\u001b[1;36m100\u001b[0m\u001b[1;33m]\u001b[0m\u001b[1;33m}\u001b[0m\u001b[1;33m)\u001b[0m\u001b[1;33m\u001b[0m\u001b[0m\n",
      "\u001b[1;32m/home/fjcamillo/anaconda2/envs/tensorflow/lib/python2.7/site-packages/tensorflow/python/framework/ops.pyc\u001b[0m in \u001b[0;36meval\u001b[1;34m(self, feed_dict, session)\u001b[0m\n\u001b[0;32m    565\u001b[0m \u001b[1;33m\u001b[0m\u001b[0m\n\u001b[0;32m    566\u001b[0m     \"\"\"\n\u001b[1;32m--> 567\u001b[1;33m     \u001b[1;32mreturn\u001b[0m \u001b[0m_eval_using_default_session\u001b[0m\u001b[1;33m(\u001b[0m\u001b[0mself\u001b[0m\u001b[1;33m,\u001b[0m \u001b[0mfeed_dict\u001b[0m\u001b[1;33m,\u001b[0m \u001b[0mself\u001b[0m\u001b[1;33m.\u001b[0m\u001b[0mgraph\u001b[0m\u001b[1;33m,\u001b[0m \u001b[0msession\u001b[0m\u001b[1;33m)\u001b[0m\u001b[1;33m\u001b[0m\u001b[0m\n\u001b[0m\u001b[0;32m    568\u001b[0m \u001b[1;33m\u001b[0m\u001b[0m\n\u001b[0;32m    569\u001b[0m \u001b[1;33m\u001b[0m\u001b[0m\n",
      "\u001b[1;32m/home/fjcamillo/anaconda2/envs/tensorflow/lib/python2.7/site-packages/tensorflow/python/framework/ops.pyc\u001b[0m in \u001b[0;36m_eval_using_default_session\u001b[1;34m(tensors, feed_dict, graph, session)\u001b[0m\n\u001b[0;32m   3727\u001b[0m                        \u001b[1;34m\"the tensor's graph is different from the session's \"\u001b[0m\u001b[1;33m\u001b[0m\u001b[0m\n\u001b[0;32m   3728\u001b[0m                        \"graph.\")\n\u001b[1;32m-> 3729\u001b[1;33m   \u001b[1;32mreturn\u001b[0m \u001b[0msession\u001b[0m\u001b[1;33m.\u001b[0m\u001b[0mrun\u001b[0m\u001b[1;33m(\u001b[0m\u001b[0mtensors\u001b[0m\u001b[1;33m,\u001b[0m \u001b[0mfeed_dict\u001b[0m\u001b[1;33m)\u001b[0m\u001b[1;33m\u001b[0m\u001b[0m\n\u001b[0m\u001b[0;32m   3730\u001b[0m \u001b[1;33m\u001b[0m\u001b[0m\n\u001b[0;32m   3731\u001b[0m \u001b[1;33m\u001b[0m\u001b[0m\n",
      "\u001b[1;32m/home/fjcamillo/anaconda2/envs/tensorflow/lib/python2.7/site-packages/tensorflow/python/client/session.pyc\u001b[0m in \u001b[0;36mrun\u001b[1;34m(self, fetches, feed_dict, options, run_metadata)\u001b[0m\n\u001b[0;32m    765\u001b[0m     \u001b[1;32mtry\u001b[0m\u001b[1;33m:\u001b[0m\u001b[1;33m\u001b[0m\u001b[0m\n\u001b[0;32m    766\u001b[0m       result = self._run(None, fetches, feed_dict, options_ptr,\n\u001b[1;32m--> 767\u001b[1;33m                          run_metadata_ptr)\n\u001b[0m\u001b[0;32m    768\u001b[0m       \u001b[1;32mif\u001b[0m \u001b[0mrun_metadata\u001b[0m\u001b[1;33m:\u001b[0m\u001b[1;33m\u001b[0m\u001b[0m\n\u001b[0;32m    769\u001b[0m         \u001b[0mproto_data\u001b[0m \u001b[1;33m=\u001b[0m \u001b[0mtf_session\u001b[0m\u001b[1;33m.\u001b[0m\u001b[0mTF_GetBuffer\u001b[0m\u001b[1;33m(\u001b[0m\u001b[0mrun_metadata_ptr\u001b[0m\u001b[1;33m)\u001b[0m\u001b[1;33m\u001b[0m\u001b[0m\n",
      "\u001b[1;32m/home/fjcamillo/anaconda2/envs/tensorflow/lib/python2.7/site-packages/tensorflow/python/client/session.pyc\u001b[0m in \u001b[0;36m_run\u001b[1;34m(self, handle, fetches, feed_dict, options, run_metadata)\u001b[0m\n\u001b[0;32m    936\u001b[0m                 ' to a larger type (e.g. int64).')\n\u001b[0;32m    937\u001b[0m \u001b[1;33m\u001b[0m\u001b[0m\n\u001b[1;32m--> 938\u001b[1;33m           \u001b[0mnp_val\u001b[0m \u001b[1;33m=\u001b[0m \u001b[0mnp\u001b[0m\u001b[1;33m.\u001b[0m\u001b[0masarray\u001b[0m\u001b[1;33m(\u001b[0m\u001b[0msubfeed_val\u001b[0m\u001b[1;33m,\u001b[0m \u001b[0mdtype\u001b[0m\u001b[1;33m=\u001b[0m\u001b[0msubfeed_dtype\u001b[0m\u001b[1;33m)\u001b[0m\u001b[1;33m\u001b[0m\u001b[0m\n\u001b[0m\u001b[0;32m    939\u001b[0m \u001b[1;33m\u001b[0m\u001b[0m\n\u001b[0;32m    940\u001b[0m           \u001b[1;32mif\u001b[0m \u001b[1;32mnot\u001b[0m \u001b[0msubfeed_t\u001b[0m\u001b[1;33m.\u001b[0m\u001b[0mget_shape\u001b[0m\u001b[1;33m(\u001b[0m\u001b[1;33m)\u001b[0m\u001b[1;33m.\u001b[0m\u001b[0mis_compatible_with\u001b[0m\u001b[1;33m(\u001b[0m\u001b[0mnp_val\u001b[0m\u001b[1;33m.\u001b[0m\u001b[0mshape\u001b[0m\u001b[1;33m)\u001b[0m\u001b[1;33m:\u001b[0m\u001b[1;33m\u001b[0m\u001b[0m\n",
      "\u001b[1;32m/home/fjcamillo/anaconda2/envs/tensorflow/lib/python2.7/site-packages/numpy/core/numeric.pyc\u001b[0m in \u001b[0;36masarray\u001b[1;34m(a, dtype, order)\u001b[0m\n\u001b[0;32m    529\u001b[0m \u001b[1;33m\u001b[0m\u001b[0m\n\u001b[0;32m    530\u001b[0m     \"\"\"\n\u001b[1;32m--> 531\u001b[1;33m     \u001b[1;32mreturn\u001b[0m \u001b[0marray\u001b[0m\u001b[1;33m(\u001b[0m\u001b[0ma\u001b[0m\u001b[1;33m,\u001b[0m \u001b[0mdtype\u001b[0m\u001b[1;33m,\u001b[0m \u001b[0mcopy\u001b[0m\u001b[1;33m=\u001b[0m\u001b[0mFalse\u001b[0m\u001b[1;33m,\u001b[0m \u001b[0morder\u001b[0m\u001b[1;33m=\u001b[0m\u001b[0morder\u001b[0m\u001b[1;33m)\u001b[0m\u001b[1;33m\u001b[0m\u001b[0m\n\u001b[0m\u001b[0;32m    532\u001b[0m \u001b[1;33m\u001b[0m\u001b[0m\n\u001b[0;32m    533\u001b[0m \u001b[1;33m\u001b[0m\u001b[0m\n",
      "\u001b[1;31mValueError\u001b[0m: could not broadcast input array from shape (262144,3) into shape (1,262144)"
     ]
    }
   ],
   "source": [
    "#train\n",
    "for i in range(20000):\n",
    "#     batch = mnist.train.next_batch(50)\n",
    "#     print(i)\n",
    "    if i%100==0:\n",
    "        train_accuracy = accuracy.eval(feed_dict={x:training_features[:100],y_:training_labels[:100]})\n",
    "        print(\"Step {}, training accuracy {}\".format(i, train_accuracy))\n",
    "    train_step.run(feed_dict={x:training_features[:100],y_:training_labels[:100]})\n",
    "\n",
    "print(\"test accuracy {}\".format(accuracy.eval(feed_dict={x:test_features, y_:test_labels})))"
   ]
  },
  {
   "cell_type": "markdown",
   "metadata": {},
   "source": [
    "# Data Model (Hardware)"
   ]
  },
  {
   "cell_type": "code",
   "execution_count": 1096,
   "metadata": {
    "collapsed": true
   },
   "outputs": [
    {
     "data": {
      "text/plain": [
       "[[164, 141, 49, 194, 132, 64],\n",
       " [42, 176, 135, 97, 40, 27],\n",
       " [142, 111, 20, 51, 146, 21],\n",
       " [82, 80, 179, 121, 33, 142],\n",
       " [148, 110, 133, 182, 63, 140],\n",
       " [9, 61, 40, 55, 102, 116],\n",
       " [159, 176, 44, 128, 91, 155],\n",
       " [66, 29, 106, 126, 145, 186],\n",
       " [112, 4, 186, 188, 84, 105],\n",
       " [139, 182, 129, 124, 151, 86],\n",
       " [105, 158, 9, 160, 39, 121],\n",
       " [99, 7, 166, 185, 155, 2],\n",
       " [136, 151, 40, 109, 46, 44],\n",
       " [34, 77, 186, 195, 7, 18],\n",
       " [166, 113, 135, 56, 165, 88],\n",
       " [153, 134, 27, 30, 38, 26],\n",
       " [164, 130, 3, 81, 45, 98],\n",
       " [172, 175, 74, 71, 15, 174],\n",
       " [145, 71, 15, 142, 85, 41],\n",
       " [99, 20, 192, 126, 62, 95],\n",
       " [181, 166, 95, 41, 31, 54],\n",
       " [157, 196, 125, 46, 48, 171],\n",
       " [112, 82, 65, 64, 191, 127],\n",
       " [50, 140, 46, 184, 91, 193],\n",
       " [89, 13, 96, 86, 93, 46],\n",
       " [157, 173, 93, 78, 102, 112],\n",
       " [189, 171, 55, 59, 189, 154],\n",
       " [198, 193, 155, 181, 28, 28],\n",
       " [199, 189, 36, 53, 10, 1],\n",
       " [150, 86, 20, 126, 35, 150],\n",
       " [121, 155, 149, 33, 73, 128],\n",
       " [10, 191, 55, 41, 119, 137],\n",
       " [185, 85, 40, 183, 189, 115],\n",
       " [163, 151, 126, 87, 158, 33],\n",
       " [109, 127, 56, 51, 173, 147],\n",
       " [160, 45, 158, 79, 64, 76],\n",
       " [180, 173, 50, 45, 172, 81],\n",
       " [133, 117, 129, 70, 89, 33],\n",
       " [18, 174, 81, 90, 58, 111],\n",
       " [136, 70, 22, 144, 178, 84],\n",
       " [105, 9, 64, 184, 106, 98],\n",
       " [156, 99, 132, 94, 113, 184],\n",
       " [74, 126, 55, 144, 117, 29],\n",
       " [94, 168, 167, 87, 43, 55],\n",
       " [181, 199, 130, 120, 103, 24],\n",
       " [102, 123, 84, 24, 18, 146],\n",
       " [111, 199, 91, 199, 128, 29],\n",
       " [165, 133, 195, 167, 42, 97],\n",
       " [129, 99, 90, 132, 46, 100],\n",
       " [15, 156, 188, 78, 171, 69],\n",
       " [98, 17, 12, 91, 154, 174],\n",
       " [145, 168, 117, 191, 1, 117],\n",
       " [146, 109, 18, 69, 90, 16],\n",
       " [75, 104, 57, 127, 100, 81],\n",
       " [44, 84, 70, 142, 1, 34],\n",
       " [116, 183, 100, 27, 23, 56],\n",
       " [179, 78, 182, 178, 156, 135],\n",
       " [48, 62, 107, 53, 10, 106],\n",
       " [40, 26, 87, 76, 53, 192],\n",
       " [4, 75, 77, 34, 151, 116],\n",
       " [91, 28, 185, 44, 72, 186],\n",
       " [122, 65, 57, 121, 133, 20],\n",
       " [188, 136, 194, 160, 183, 197],\n",
       " [111, 65, 127, 102, 106, 101],\n",
       " [11, 70, 107, 160, 92, 6],\n",
       " [106, 156, 8, 159, 40, 79],\n",
       " [131, 85, 49, 15, 37, 77],\n",
       " [119, 148, 152, 60, 111, 119],\n",
       " [173, 173, 177, 178, 22, 45],\n",
       " [179, 45, 40, 91, 129, 131],\n",
       " [128, 65, 58, 78, 127, 144],\n",
       " [44, 143, 33, 120, 137, 64],\n",
       " [52, 155, 90, 137, 53, 172],\n",
       " [102, 128, 195, 161, 134, 109],\n",
       " [58, 167, 129, 34, 118, 66],\n",
       " [161, 132, 187, 117, 98, 132],\n",
       " [26, 116, 11, 103, 146, 56],\n",
       " [160, 193, 143, 121, 58, 7],\n",
       " [112, 57, 4, 62, 153, 66],\n",
       " [4, 24, 177, 65, 122, 61],\n",
       " [136, 198, 29, 151, 89, 50],\n",
       " [54, 85, 117, 55, 11, 155],\n",
       " [166, 41, 47, 191, 188, 29],\n",
       " [31, 87, 90, 57, 103, 145],\n",
       " [140, 29, 68, 51, 176, 1],\n",
       " [167, 153, 119, 23, 166, 11],\n",
       " [18, 43, 140, 49, 198, 190],\n",
       " [145, 102, 187, 77, 93, 148],\n",
       " [85, 94, 144, 16, 110, 80],\n",
       " [91, 142, 98, 194, 156, 165],\n",
       " [116, 56, 189, 61, 56, 195],\n",
       " [61, 98, 182, 64, 123, 197],\n",
       " [173, 72, 126, 133, 126, 133],\n",
       " [38, 94, 30, 87, 74, 32],\n",
       " [103, 63, 119, 141, 59, 2],\n",
       " [88, 36, 45, 173, 169, 141],\n",
       " [127, 10, 166, 88, 34, 89],\n",
       " [52, 15, 141, 121, 84, 118],\n",
       " [179, 131, 68, 42, 113, 118],\n",
       " [136, 16, 35, 91, 197, 67],\n",
       " [119, 64, 185, 65, 120, 119],\n",
       " [118, 25, 28, 51, 159, 190],\n",
       " [63, 26, 174, 97, 107, 141],\n",
       " [148, 192, 191, 23, 91, 179],\n",
       " [9, 181, 46, 171, 174, 18],\n",
       " [37, 31, 89, 112, 3, 64],\n",
       " [13, 48, 104, 170, 16, 40],\n",
       " [38, 101, 116, 87, 70, 126],\n",
       " [122, 26, 127, 69, 155, 129],\n",
       " [171, 34, 173, 158, 11, 72],\n",
       " [43, 195, 8, 25, 118, 159],\n",
       " [47, 45, 69, 186, 125, 49],\n",
       " [148, 26, 16, 132, 125, 134],\n",
       " [19, 64, 82, 58, 115, 107],\n",
       " [94, 72, 186, 157, 172, 173],\n",
       " [177, 183, 184, 152, 68, 43],\n",
       " [58, 149, 40, 125, 147, 32],\n",
       " [145, 3, 123, 25, 23, 89],\n",
       " [92, 62, 62, 65, 132, 190],\n",
       " [73, 41, 6, 193, 45, 110],\n",
       " [135, 95, 69, 52, 60, 63],\n",
       " [82, 162, 6, 18, 100, 187],\n",
       " [7, 36, 95, 108, 30, 14],\n",
       " [4, 162, 112, 187, 195, 77],\n",
       " [96, 49, 162, 114, 23, 75],\n",
       " [19, 114, 41, 162, 112, 57],\n",
       " [145, 23, 178, 26, 31, 71],\n",
       " [64, 174, 117, 159, 55, 182],\n",
       " [98, 162, 41, 100, 137, 51],\n",
       " [114, 47, 30, 10, 99, 100],\n",
       " [182, 178, 166, 36, 142, 54],\n",
       " [33, 83, 107, 89, 143, 179],\n",
       " [193, 113, 19, 168, 7, 191],\n",
       " [55, 92, 143, 16, 124, 82],\n",
       " [171, 72, 182, 119, 102, 136],\n",
       " [122, 45, 179, 90, 137, 72],\n",
       " [123, 125, 79, 133, 193, 54],\n",
       " [89, 17, 114, 103, 105, 12],\n",
       " [4, 43, 90, 16, 102, 156],\n",
       " [178, 15, 176, 76, 135, 38],\n",
       " [192, 29, 93, 193, 174, 192],\n",
       " [76, 97, 182, 52, 112, 81],\n",
       " [61, 15, 170, 20, 124, 166],\n",
       " [174, 114, 74, 1, 79, 101],\n",
       " [56, 118, 83, 167, 142, 63],\n",
       " [123, 162, 118, 156, 68, 47],\n",
       " [172, 121, 124, 124, 106, 66],\n",
       " [140, 131, 102, 77, 133, 131],\n",
       " [138, 143, 123, 6, 117, 1],\n",
       " [76, 89, 174, 178, 170, 140],\n",
       " [183, 56, 64, 52, 32, 20],\n",
       " [35, 192, 163, 157, 85, 100],\n",
       " [55, 190, 121, 67, 49, 142],\n",
       " [77, 170, 143, 122, 164, 161],\n",
       " [52, 90, 76, 148, 186, 197],\n",
       " [120, 123, 148, 30, 81, 61],\n",
       " [177, 120, 92, 70, 63, 172],\n",
       " [156, 103, 85, 29, 150, 69],\n",
       " [71, 147, 18, 77, 120, 161],\n",
       " [79, 93, 74, 176, 70, 73],\n",
       " [63, 191, 86, 124, 78, 19],\n",
       " [3, 2, 168, 188, 7, 80],\n",
       " [145, 188, 167, 31, 190, 36],\n",
       " [155, 99, 144, 152, 29, 89],\n",
       " [58, 144, 138, 127, 74, 55],\n",
       " [130, 162, 177, 88, 75, 138],\n",
       " [11, 178, 119, 131, 152, 108],\n",
       " [186, 121, 36, 72, 181, 153],\n",
       " [13, 103, 101, 88, 20, 150],\n",
       " [187, 168, 37, 164, 152, 45],\n",
       " [43, 54, 194, 114, 173, 154],\n",
       " [106, 119, 42, 175, 17, 58],\n",
       " [153, 53, 147, 34, 80, 153],\n",
       " [176, 141, 23, 40, 196, 51],\n",
       " [4, 105, 87, 170, 11, 12],\n",
       " [12, 164, 6, 22, 113, 158],\n",
       " [186, 4, 147, 44, 169, 83],\n",
       " [187, 105, 181, 92, 170, 3],\n",
       " [114, 161, 81, 46, 16, 187],\n",
       " [185, 106, 143, 23, 183, 183],\n",
       " [86, 113, 144, 66, 55, 67],\n",
       " [7, 11, 96, 13, 81, 7],\n",
       " [100, 131, 174, 74, 26, 124],\n",
       " [186, 67, 120, 105, 50, 66],\n",
       " [103, 32, 101, 164, 82, 152],\n",
       " [55, 196, 90, 7, 69, 134],\n",
       " [105, 88, 71, 109, 198, 11],\n",
       " [21, 46, 136, 140, 137, 186],\n",
       " [32, 95, 79, 114, 181, 96],\n",
       " [123, 46, 20, 34, 129, 137],\n",
       " [63, 68, 98, 44, 152, 185],\n",
       " [69, 4, 98, 116, 198, 192],\n",
       " [174, 136, 95, 157, 74, 91],\n",
       " [156, 178, 170, 22, 128, 34],\n",
       " [102, 45, 182, 128, 105, 101],\n",
       " [97, 183, 132, 163, 137, 133],\n",
       " [70, 79, 98, 133, 18, 21],\n",
       " [29, 73, 145, 141, 172, 27],\n",
       " [8, 72, 147, 86, 49, 88],\n",
       " [187, 172, 134, 196, 70, 166],\n",
       " [13, 195, 118, 154, 4, 101],\n",
       " [151, 165, 22, 3, 149, 158],\n",
       " [10, 74, 33, 153, 20, 96],\n",
       " [72, 73, 160, 13, 170, 18],\n",
       " [23, 17, 158, 195, 120, 110],\n",
       " [97, 191, 167, 129, 62, 191],\n",
       " [118, 1, 140, 162, 20, 131],\n",
       " [43, 167, 50, 7, 42, 144],\n",
       " [80, 192, 71, 58, 174, 109],\n",
       " [6, 113, 127, 127, 157, 60],\n",
       " [192, 149, 146, 152, 137, 129],\n",
       " [62, 131, 179, 181, 193, 134],\n",
       " [54, 112, 114, 108, 110, 123],\n",
       " [27, 35, 70, 42, 42, 83],\n",
       " [198, 166, 84, 24, 181, 19],\n",
       " [59, 73, 64, 178, 123, 67],\n",
       " [186, 93, 77, 88, 87, 150],\n",
       " [45, 60, 74, 45, 6, 131],\n",
       " [112, 137, 124, 117, 96, 149],\n",
       " [125, 176, 168, 192, 132, 57],\n",
       " [110, 122, 158, 91, 184, 199],\n",
       " [75, 131, 58, 172, 179, 67],\n",
       " [174, 186, 159, 185, 198, 168],\n",
       " [189, 81, 118, 45, 16, 111],\n",
       " [151, 25, 158, 68, 102, 151],\n",
       " [42, 132, 14, 167, 195, 145],\n",
       " [59, 65, 183, 155, 9, 143],\n",
       " [197, 93, 95, 8, 17, 120],\n",
       " [14, 147, 113, 96, 85, 177],\n",
       " [123, 60, 53, 73, 87, 86],\n",
       " [134, 90, 199, 65, 100, 120],\n",
       " [33, 70, 122, 129, 169, 89],\n",
       " [183, 10, 171, 173, 99, 140],\n",
       " [23, 84, 43, 36, 173, 45],\n",
       " [150, 147, 166, 97, 169, 106],\n",
       " [21, 34, 96, 173, 32, 47],\n",
       " [65, 111, 183, 129, 23, 128],\n",
       " [16, 131, 171, 149, 64, 198],\n",
       " [194, 82, 155, 167, 110, 124],\n",
       " [40, 153, 10, 161, 133, 103],\n",
       " [53, 24, 95, 83, 52, 192],\n",
       " [164, 144, 190, 137, 184, 18],\n",
       " [70, 169, 49, 117, 161, 113],\n",
       " [134, 160, 99, 165, 145, 187],\n",
       " [73, 171, 83, 149, 92, 186],\n",
       " [127, 199, 151, 84, 171, 192],\n",
       " [171, 161, 81, 91, 138, 161],\n",
       " [45, 174, 62, 169, 9, 64],\n",
       " [83, 13, 53, 120, 61, 169],\n",
       " [130, 49, 129, 137, 25, 58],\n",
       " [100, 138, 136, 132, 187, 175],\n",
       " [66, 73, 66, 139, 89, 118],\n",
       " [38, 17, 136, 16, 151, 195],\n",
       " [75, 145, 51, 165, 18, 46],\n",
       " [194, 156, 187, 36, 25, 169],\n",
       " [51, 140, 56, 24, 99, 88],\n",
       " [52, 108, 8, 49, 62, 80],\n",
       " [110, 11, 18, 142, 99, 187],\n",
       " [60, 155, 114, 39, 100, 108],\n",
       " [147, 174, 61, 193, 175, 92],\n",
       " [16, 180, 44, 48, 193, 199],\n",
       " [112, 37, 103, 111, 196, 23],\n",
       " [108, 134, 174, 72, 197, 124],\n",
       " [152, 24, 150, 6, 110, 144],\n",
       " [155, 42, 70, 43, 193, 169],\n",
       " [185, 187, 15, 137, 22, 140],\n",
       " [87, 63, 128, 110, 145, 56],\n",
       " [94, 156, 28, 35, 68, 36],\n",
       " [191, 11, 54, 198, 154, 76],\n",
       " [1, 132, 105, 96, 160, 56],\n",
       " [168, 6, 35, 94, 32, 64],\n",
       " [169, 130, 92, 43, 22, 135],\n",
       " [79, 196, 25, 120, 168, 43],\n",
       " [87, 143, 179, 99, 138, 64],\n",
       " [52, 100, 72, 165, 77, 120],\n",
       " [1, 163, 90, 14, 4, 101],\n",
       " [66, 93, 189, 155, 91, 33],\n",
       " [73, 182, 106, 60, 56, 109],\n",
       " [192, 134, 88, 172, 12, 141],\n",
       " [79, 63, 197, 77, 182, 170],\n",
       " [12, 55, 18, 3, 75, 99],\n",
       " [125, 15, 131, 140, 88, 61],\n",
       " [39, 77, 188, 174, 101, 3],\n",
       " [132, 59, 57, 33, 57, 130],\n",
       " [40, 165, 159, 170, 23, 74],\n",
       " [2, 123, 155, 196, 59, 189],\n",
       " [171, 68, 3, 81, 87, 151],\n",
       " [168, 81, 183, 178, 85, 175],\n",
       " [99, 132, 82, 27, 43, 119],\n",
       " [30, 6, 80, 79, 174, 33],\n",
       " [10, 162, 3, 107, 70, 19],\n",
       " [71, 94, 147, 151, 188, 195],\n",
       " [57, 40, 32, 126, 124, 23],\n",
       " [189, 126, 184, 196, 58, 103],\n",
       " [72, 184, 189, 58, 170, 181],\n",
       " [59, 48, 18, 166, 134, 85],\n",
       " [36, 39, 54, 124, 108, 38],\n",
       " [128, 110, 41, 157, 37, 157],\n",
       " [145, 84, 170, 40, 18, 43],\n",
       " [154, 87, 78, 14, 190, 30],\n",
       " [88, 156, 65, 7, 46, 176],\n",
       " [75, 155, 188, 121, 195, 2],\n",
       " [117, 58, 90, 58, 7, 40],\n",
       " [120, 146, 64, 161, 62, 185],\n",
       " [165, 33, 30, 7, 83, 48],\n",
       " [144, 48, 16, 98, 2, 152],\n",
       " [164, 118, 154, 144, 87, 195],\n",
       " [111, 196, 20, 195, 74, 19],\n",
       " [189, 10, 113, 89, 107, 148],\n",
       " [158, 45, 162, 152, 51, 8],\n",
       " [36, 142, 138, 40, 11, 50],\n",
       " [62, 18, 161, 94, 25, 87],\n",
       " [25, 175, 49, 53, 85, 50],\n",
       " [155, 133, 173, 31, 27, 21],\n",
       " [72, 173, 29, 42, 130, 40],\n",
       " [74, 96, 49, 108, 22, 111],\n",
       " [69, 189, 94, 132, 95, 7],\n",
       " [148, 99, 12, 72, 63, 180],\n",
       " [154, 161, 108, 183, 61, 71],\n",
       " [64, 192, 70, 1, 114, 110],\n",
       " [183, 1, 49, 180, 19, 50],\n",
       " [165, 26, 140, 7, 56, 10],\n",
       " [174, 133, 60, 175, 122, 147],\n",
       " [54, 25, 3, 100, 117, 33],\n",
       " [70, 48, 177, 1, 32, 52],\n",
       " [78, 103, 97, 39, 68, 46],\n",
       " [158, 1, 48, 65, 132, 98],\n",
       " [111, 31, 120, 119, 157, 73],\n",
       " [123, 110, 145, 35, 189, 187],\n",
       " [82, 158, 177, 7, 6, 110],\n",
       " [30, 77, 134, 4, 21, 9],\n",
       " [57, 194, 10, 67, 70, 148],\n",
       " [16, 35, 19, 100, 2, 58],\n",
       " [33, 98, 88, 10, 162, 109],\n",
       " [123, 148, 158, 50, 12, 143],\n",
       " [61, 118, 163, 166, 170, 76],\n",
       " [33, 119, 17, 42, 148, 111],\n",
       " [185, 174, 157, 114, 82, 40],\n",
       " [146, 60, 110, 144, 163, 9],\n",
       " [79, 48, 183, 147, 56, 171],\n",
       " [125, 155, 15, 16, 40, 100],\n",
       " [151, 38, 40, 108, 187, 169],\n",
       " [47, 1, 132, 19, 24, 101],\n",
       " [168, 148, 59, 120, 108, 94],\n",
       " [129, 60, 35, 178, 84, 46],\n",
       " [176, 83, 167, 10, 1, 31],\n",
       " [61, 9, 176, 175, 53, 136],\n",
       " [26, 21, 106, 68, 188, 48],\n",
       " [126, 87, 74, 105, 63, 161],\n",
       " [178, 108, 192, 10, 164, 101],\n",
       " [65, 167, 53, 88, 5, 116],\n",
       " [106, 180, 92, 164, 101, 167],\n",
       " [65, 190, 90, 87, 80, 30],\n",
       " [16, 4, 10, 58, 48, 163],\n",
       " [59, 151, 136, 130, 159, 166],\n",
       " [65, 10, 154, 24, 132, 199],\n",
       " [100, 137, 51, 52, 90, 136],\n",
       " [144, 133, 25, 184, 100, 21],\n",
       " [178, 187, 134, 28, 53, 2],\n",
       " [176, 38, 78, 35, 165, 118],\n",
       " [62, 91, 175, 7, 69, 129],\n",
       " [14, 185, 97, 22, 19, 124],\n",
       " [133, 163, 136, 148, 162, 89],\n",
       " [149, 185, 102, 105, 109, 15],\n",
       " [166, 7, 183, 72, 106, 162],\n",
       " [75, 119, 64, 43, 12, 95],\n",
       " [144, 25, 132, 196, 76, 14],\n",
       " [66, 2, 97, 2, 71, 184],\n",
       " [167, 18, 50, 82, 55, 39],\n",
       " [159, 103, 160, 72, 111, 150],\n",
       " [47, 150, 121, 45, 83, 33],\n",
       " [160, 176, 192, 146, 124, 61],\n",
       " [93, 88, 104, 172, 91, 51],\n",
       " [179, 171, 126, 185, 26, 122],\n",
       " [183, 127, 72, 151, 95, 64],\n",
       " [154, 178, 63, 148, 42, 114],\n",
       " [189, 48, 5, 117, 71, 34],\n",
       " [26, 175, 78, 28, 27, 89],\n",
       " [20, 147, 185, 187, 26, 129],\n",
       " [171, 175, 141, 37, 8, 124],\n",
       " [141, 121, 74, 48, 7, 87],\n",
       " [92, 17, 147, 127, 150, 135],\n",
       " [93, 190, 127, 126, 64, 135],\n",
       " [18, 84, 155, 58, 142, 194],\n",
       " [155, 138, 86, 24, 49, 44],\n",
       " [125, 109, 67, 199, 132, 6],\n",
       " [69, 120, 140, 164, 151, 6],\n",
       " [117, 36, 150, 89, 139, 22],\n",
       " [117, 150, 183, 89, 180, 63],\n",
       " [3, 179, 113, 142, 23, 169],\n",
       " [52, 79, 65, 104, 68, 182],\n",
       " [91, 121, 113, 11, 188, 23],\n",
       " [110, 6, 191, 148, 117, 141],\n",
       " [185, 175, 33, 108, 11, 7],\n",
       " [114, 30, 128, 158, 166, 102],\n",
       " [169, 152, 144, 56, 78, 43],\n",
       " [52, 99, 123, 175, 137, 93],\n",
       " [67, 54, 73, 75, 89, 34],\n",
       " [92, 75, 12, 166, 136, 198],\n",
       " [135, 185, 57, 139, 181, 75],\n",
       " [61, 112, 48, 65, 102, 54],\n",
       " [49, 120, 192, 194, 151, 37],\n",
       " [176, 199, 101, 41, 131, 69],\n",
       " [83, 188, 119, 112, 194, 90],\n",
       " [102, 141, 57, 124, 30, 97],\n",
       " [72, 37, 119, 130, 137, 132],\n",
       " [84, 42, 67, 109, 63, 138],\n",
       " [183, 146, 99, 38, 153, 35],\n",
       " [44, 27, 28, 71, 114, 71],\n",
       " [45, 21, 17, 124, 21, 127],\n",
       " [149, 23, 134, 102, 2, 72],\n",
       " [38, 22, 182, 173, 27, 56],\n",
       " [153, 14, 186, 41, 104, 10],\n",
       " [89, 127, 73, 50, 126, 174],\n",
       " [25, 35, 66, 175, 151, 150],\n",
       " [38, 86, 133, 80, 31, 83],\n",
       " [62, 96, 145, 133, 56, 147],\n",
       " [143, 55, 187, 94, 163, 41],\n",
       " [40, 97, 182, 13, 112, 59],\n",
       " [173, 157, 131, 136, 24, 192],\n",
       " [65, 189, 136, 112, 140, 38],\n",
       " [119, 40, 175, 2, 101, 163],\n",
       " [15, 54, 56, 40, 170, 188],\n",
       " [162, 150, 10, 187, 128, 118],\n",
       " [1, 1, 177, 175, 8, 110],\n",
       " [92, 22, 63, 156, 9, 129],\n",
       " [138, 13, 21, 193, 188, 109],\n",
       " [106, 154, 72, 141, 130, 188],\n",
       " [161, 59, 76, 156, 176, 98],\n",
       " [68, 128, 90, 65, 74, 168],\n",
       " [47, 88, 138, 154, 165, 43],\n",
       " [150, 12, 84, 92, 86, 55],\n",
       " [3, 9, 72, 72, 43, 11],\n",
       " [43, 94, 35, 169, 2, 106],\n",
       " [196, 13, 35, 90, 144, 88],\n",
       " [156, 63, 115, 115, 125, 65],\n",
       " [33, 25, 26, 2, 121, 157],\n",
       " [134, 193, 145, 74, 145, 194],\n",
       " [73, 21, 123, 179, 40, 106],\n",
       " [144, 139, 37, 90, 183, 85],\n",
       " [132, 115, 64, 145, 108, 85],\n",
       " [98, 14, 92, 43, 193, 55],\n",
       " [69, 188, 39, 62, 58, 59],\n",
       " [192, 118, 101, 64, 75, 135],\n",
       " [190, 86, 183, 30, 81, 55],\n",
       " [138, 133, 73, 163, 74, 146],\n",
       " [136, 166, 179, 103, 159, 129],\n",
       " [156, 78, 47, 166, 82, 10],\n",
       " [175, 150, 108, 97, 190, 149],\n",
       " [98, 10, 25, 34, 179, 49],\n",
       " [147, 197, 9, 58, 63, 99],\n",
       " [18, 124, 169, 23, 139, 76],\n",
       " [35, 133, 78, 62, 23, 179],\n",
       " [173, 96, 46, 176, 135, 44],\n",
       " [7, 99, 151, 150, 78, 145],\n",
       " [194, 195, 14, 199, 31, 115],\n",
       " [120, 189, 79, 40, 38, 163],\n",
       " [170, 41, 36, 76, 134, 77],\n",
       " [142, 164, 176, 176, 104, 134],\n",
       " [64, 53, 97, 174, 63, 128],\n",
       " [117, 149, 88, 14, 50, 81],\n",
       " [123, 151, 176, 17, 143, 177],\n",
       " [193, 107, 18, 158, 61, 9],\n",
       " [165, 27, 138, 124, 134, 175],\n",
       " [153, 43, 190, 131, 45, 10],\n",
       " [93, 22, 55, 171, 85, 186],\n",
       " [197, 12, 109, 88, 159, 123],\n",
       " [81, 33, 47, 6, 60, 148],\n",
       " [41, 92, 52, 11, 98, 85],\n",
       " [60, 80, 181, 4, 140, 165],\n",
       " [56, 153, 48, 129, 14, 114],\n",
       " [40, 153, 199, 98, 119, 197],\n",
       " [40, 44, 79, 64, 7, 50],\n",
       " [2, 58, 87, 111, 91, 33],\n",
       " [113, 34, 121, 66, 158, 17],\n",
       " [9, 59, 96, 97, 35, 148],\n",
       " [81, 103, 43, 123, 61, 172],\n",
       " [11, 79, 93, 188, 162, 95],\n",
       " [158, 82, 80, 127, 2, 124],\n",
       " [66, 199, 32, 63, 183, 48],\n",
       " [140, 150, 113, 17, 118, 147],\n",
       " [90, 57, 147, 158, 23, 5],\n",
       " [184, 144, 36, 33, 165, 85],\n",
       " [122, 48, 191, 65, 42, 131],\n",
       " [121, 68, 21, 135, 136, 114],\n",
       " [27, 60, 55, 52, 60, 1],\n",
       " [36, 6, 39, 35, 17, 162],\n",
       " [109, 167, 99, 73, 88, 181],\n",
       " [183, 82, 138, 191, 10, 2],\n",
       " [36, 3, 41, 135, 133, 97],\n",
       " [128, 153, 23, 170, 45, 96],\n",
       " [22, 66, 144, 193, 2, 183],\n",
       " [134, 199, 71, 123, 13, 156],\n",
       " [147, 167, 115, 101, 167, 131],\n",
       " [186, 172, 166, 79, 44, 18],\n",
       " [183, 125, 127, 184, 16, 131],\n",
       " [198, 148, 3, 120, 128, 116],\n",
       " [85, 64, 48, 88, 79, 110],\n",
       " [137, 126, 31, 111, 126, 86],\n",
       " [195, 2, 77, 98, 68, 140]]"
      ]
     },
     "execution_count": 1096,
     "metadata": {},
     "output_type": "execute_result"
    }
   ],
   "source": [
    "rhino_data = [[np.random.randint(1, 200), np.random.randint(1, 200),np.random.randint(1, 200),np.random.randint(1, 200),np.random.randint(1, 200),np.random.randint(1, 200)] for i in range(500)]\n",
    "rhino_data"
   ]
  },
  {
   "cell_type": "code",
   "execution_count": 1097,
   "metadata": {
    "collapsed": true
   },
   "outputs": [],
   "source": [
    "yellow_data=[[np.random.randint(201, 400), np.random.randint(201, 400),np.random.randint(201, 400),np.random.randint(201, 400),np.random.randint(201, 400),np.random.randint(201, 400)] for i in range(500)]"
   ]
  },
  {
   "cell_type": "code",
   "execution_count": 1098,
   "metadata": {
    "collapsed": true
   },
   "outputs": [],
   "source": [
    "stem_data=[[np.random.randint(301, 600), np.random.randint(301, 600),np.random.randint(301, 600),np.random.randint(301, 600),np.random.randint(301, 600),np.random.randint(301, 600)] for i in range(500)]"
   ]
  },
  {
   "cell_type": "code",
   "execution_count": 1099,
   "metadata": {
    "collapsed": true
   },
   "outputs": [],
   "source": [
    "regular_data=[[np.random.randint(401, 700), np.random.randint(401, 700),np.random.randint(401, 700),np.random.randint(401, 700),np.random.randint(401, 700),np.random.randint(401, 700)] for i in range(500)]"
   ]
  },
  {
   "cell_type": "code",
   "execution_count": 1100,
   "metadata": {
    "collapsed": true
   },
   "outputs": [],
   "source": [
    "coconutmite_data=[[np.random.randint(500, 800), np.random.randint(500, 800),np.random.randint(500, 800),np.random.randint(500, 800),np.random.randint(500, 800),np.random.randint(500, 800)] for i in range(500)]"
   ]
  },
  {
   "cell_type": "code",
   "execution_count": 1119,
   "metadata": {
    "collapsed": true
   },
   "outputs": [],
   "source": [
    "hard_data=[]"
   ]
  },
  {
   "cell_type": "code",
   "execution_count": 1116,
   "metadata": {
    "collapsed": false
   },
   "outputs": [],
   "source": [
    "hard_data.append([np.random.randint(201, 400), np.random.randint(201, 400),np.random.randint(201, 400),np.random.randint(201, 400),np.random.randint(201, 400),np.random.randint(201, 400)] for i in range(500))\n",
    "hard_data.append([np.random.randint(301, 600), np.random.randint(301, 600),np.random.randint(301, 600),np.random.randint(301, 600),np.random.randint(301, 600),np.random.randint(301, 600)] for i in range(500))\n",
    "hard_data.append([np.random.randint(1, 200), np.random.randint(1, 200),np.random.randint(1, 200),np.random.randint(1, 200),np.random.randint(1, 200),np.random.randint(1, 200)] for i in range(500))\n",
    "hard_data.append([np.random.randint(401, 700), np.random.randint(401, 700),np.random.randint(401, 700),np.random.randint(401, 700),np.random.randint(401, 700),np.random.randint(401, 700)] for i in range(500))\n",
    "hard_data.append([np.random.randint(500, 800), np.random.randint(500, 800),np.random.randint(500, 800),np.random.randint(500, 800),np.random.randint(500, 800),np.random.randint(500, 800)] for i in range(500))"
   ]
  },
  {
   "cell_type": "code",
   "execution_count": null,
   "metadata": {
    "collapsed": true
   },
   "outputs": [],
   "source": [
    "for rhi in rhino_data:\n",
    "    hard_data.append(rhi)\n",
    "\n",
    "for rhi in yellow_data:\n",
    "    hard_data.append(rhi)\n",
    "    \n",
    "for rhi in regular_data:\n",
    "    hard_data.append(rhi)\n",
    "\n",
    "for rhi in stem_data:\n",
    "    hard_data.append(rhi)\n",
    "\n",
    "for rhi in coconutmite_data:\n",
    "    hard_data.append(rhi)"
   ]
  },
  {
   "cell_type": "code",
   "execution_count": 1120,
   "metadata": {
    "collapsed": true
   },
   "outputs": [],
   "source": [
    "hard_data.append(rhi for rhi in rhino_data)\n",
    "hard_data.append(rhi for rhi in yellow_data)\n",
    "hard_data.append(rhi for rhi in regular_data)\n",
    "hard_data.append(rhi for rhi in stem_data)\n",
    "hard_data.append(rhi for rhi in coconutmite_data)"
   ]
  },
  {
   "cell_type": "code",
   "execution_count": 710,
   "metadata": {
    "collapsed": true
   },
   "outputs": [
    {
     "data": {
      "text/plain": [
       "[[22, 26, 622, 528, 110, 539],\n",
       " [26, 531, 23, 808, 829, 68],\n",
       " [21, 559, 345, 848, 793, 611],\n",
       " [1, 778, 303, 638, 582, 605],\n",
       " [25, 444, 21, 157, 116, 183],\n",
       " [6, 332, 901, 460, 875, 324],\n",
       " [27, 406, 841, 468, 847, 951],\n",
       " [7, 507, 265, 767, 21, 393],\n",
       " [13, 792, 263, 599, 349, 513],\n",
       " [22, 214, 716, 545, 255, 818],\n",
       " [24, 795, 329, 215, 945, 170],\n",
       " [17, 865, 219, 152, 808, 655],\n",
       " [16, 766, 172, 762, 202, 78],\n",
       " [23, 886, 187, 102, 473, 781],\n",
       " [9, 905, 376, 322, 674, 693],\n",
       " [7, 391, 265, 167, 256, 452],\n",
       " [25, 253, 539, 897, 85, 223],\n",
       " [5, 901, 915, 175, 886, 942],\n",
       " [3, 332, 649, 445, 32, 294],\n",
       " [17, 21, 913, 53, 646, 224],\n",
       " [12, 796, 47, 837, 882, 153],\n",
       " [0, 887, 307, 106, 968, 38],\n",
       " [22, 200, 955, 583, 899, 583],\n",
       " [19, 609, 398, 124, 13, 565],\n",
       " [10, 835, 103, 476, 211, 801],\n",
       " [21, 956, 265, 9, 594, 620],\n",
       " [24, 885, 620, 877, 116, 690],\n",
       " [24, 379, 714, 126, 453, 181],\n",
       " [6, 418, 209, 750, 197, 144],\n",
       " [2, 185, 753, 663, 859, 366],\n",
       " [16, 713, 686, 117, 36, 19],\n",
       " [8, 841, 458, 367, 479, 67],\n",
       " [13, 4, 153, 757, 812, 107],\n",
       " [9, 553, 799, 103, 126, 472],\n",
       " [18, 197, 299, 89, 395, 939],\n",
       " [26, 948, 385, 24, 216, 440],\n",
       " [7, 163, 30, 651, 562, 677],\n",
       " [28, 518, 689, 20, 14, 233],\n",
       " [0, 81, 424, 749, 952, 609],\n",
       " [21, 600, 646, 373, 547, 250],\n",
       " [5, 279, 442, 436, 594, 261],\n",
       " [6, 34, 949, 116, 6, 705],\n",
       " [13, 178, 680, 819, 542, 836],\n",
       " [27, 189, 43, 75, 409, 216],\n",
       " [11, 339, 945, 186, 81, 776],\n",
       " [29, 133, 146, 453, 614, 583],\n",
       " [19, 463, 111, 935, 793, 227],\n",
       " [16, 809, 235, 17, 393, 719],\n",
       " [6, 562, 179, 602, 665, 540],\n",
       " [18, 511, 310, 178, 854, 232],\n",
       " [23, 271, 469, 317, 622, 229],\n",
       " [8, 399, 419, 126, 331, 414],\n",
       " [24, 269, 80, 305, 678, 661],\n",
       " [10, 531, 480, 989, 506, 7],\n",
       " [7, 372, 681, 68, 667, 510],\n",
       " [22, 451, 804, 820, 205, 918],\n",
       " [9, 226, 313, 61, 584, 131],\n",
       " [29, 974, 459, 279, 911, 390],\n",
       " [22, 357, 484, 955, 595, 341],\n",
       " [12, 601, 487, 288, 550, 873],\n",
       " [3, 691, 78, 726, 184, 698],\n",
       " [19, 858, 142, 800, 647, 28],\n",
       " [23, 616, 423, 762, 486, 688],\n",
       " [16, 791, 972, 642, 246, 418],\n",
       " [0, 222, 296, 312, 461, 230],\n",
       " [4, 81, 505, 500, 675, 706],\n",
       " [5, 156, 258, 628, 278, 797],\n",
       " [29, 131, 230, 421, 597, 541],\n",
       " [16, 185, 773, 633, 176, 951],\n",
       " [9, 855, 920, 290, 980, 986],\n",
       " [5, 782, 658, 406, 27, 843],\n",
       " [7, 367, 245, 695, 902, 594],\n",
       " [21, 120, 539, 179, 895, 792],\n",
       " [25, 76, 194, 257, 314, 41],\n",
       " [0, 886, 298, 744, 703, 283],\n",
       " [19, 70, 516, 214, 449, 120],\n",
       " [9, 606, 545, 794, 707, 888],\n",
       " [23, 433, 800, 875, 624, 934],\n",
       " [24, 163, 603, 187, 541, 864],\n",
       " [24, 763, 249, 704, 1, 18],\n",
       " [16, 463, 847, 224, 21, 509],\n",
       " [11, 483, 680, 278, 429, 777],\n",
       " [4, 901, 562, 546, 206, 935],\n",
       " [19, 332, 295, 184, 760, 630],\n",
       " [21, 920, 385, 171, 387, 703],\n",
       " [4, 680, 543, 852, 406, 571],\n",
       " [9, 325, 641, 168, 614, 126],\n",
       " [23, 521, 270, 324, 304, 165],\n",
       " [16, 460, 653, 973, 114, 915],\n",
       " [10, 169, 844, 384, 90, 919],\n",
       " [15, 61, 264, 244, 711, 552],\n",
       " [1, 909, 785, 233, 45, 286],\n",
       " [6, 272, 373, 511, 479, 955],\n",
       " [29, 468, 931, 593, 934, 177],\n",
       " [6, 441, 19, 609, 521, 542],\n",
       " [14, 345, 693, 788, 326, 396],\n",
       " [28, 141, 165, 189, 346, 522],\n",
       " [13, 669, 880, 349, 56, 56],\n",
       " [15, 69, 747, 861, 452, 673],\n",
       " [2, 684, 613, 786, 207, 34],\n",
       " [0, 417, 176, 290, 365, 839],\n",
       " [8, 905, 741, 401, 905, 875],\n",
       " [17, 192, 741, 835, 826, 621],\n",
       " [9, 870, 168, 276, 982, 744],\n",
       " [10, 650, 541, 656, 979, 727],\n",
       " [28, 279, 55, 431, 156, 947],\n",
       " [14, 651, 789, 837, 103, 734],\n",
       " [13, 294, 944, 605, 83, 163],\n",
       " [21, 527, 249, 602, 743, 420],\n",
       " [23, 933, 926, 459, 723, 814],\n",
       " [19, 595, 831, 779, 489, 683],\n",
       " [23, 319, 383, 893, 731, 141],\n",
       " [27, 647, 824, 111, 744, 716],\n",
       " [0, 427, 653, 683, 858, 649],\n",
       " [8, 441, 151, 513, 791, 471],\n",
       " [2, 378, 190, 691, 24, 683],\n",
       " [10, 37, 649, 148, 955, 224],\n",
       " [13, 280, 546, 855, 663, 108],\n",
       " [12, 819, 616, 878, 537, 945],\n",
       " [13, 170, 204, 104, 592, 438],\n",
       " [15, 329, 825, 552, 703, 269],\n",
       " [15, 667, 841, 835, 453, 402],\n",
       " [27, 12, 188, 436, 702, 315],\n",
       " [22, 295, 150, 987, 506, 218],\n",
       " [19, 982, 324, 278, 917, 388],\n",
       " [22, 722, 232, 308, 699, 662],\n",
       " [28, 481, 892, 131, 723, 51],\n",
       " [17, 374, 158, 45, 193, 470],\n",
       " [23, 772, 754, 346, 74, 585],\n",
       " [1, 737, 326, 522, 311, 0],\n",
       " [4, 725, 354, 605, 841, 520],\n",
       " [23, 350, 897, 132, 893, 522],\n",
       " [14, 393, 336, 535, 273, 634],\n",
       " [3, 803, 526, 11, 408, 112],\n",
       " [20, 162, 561, 803, 379, 732],\n",
       " [13, 678, 126, 715, 418, 648],\n",
       " [14, 135, 932, 721, 684, 881],\n",
       " [25, 830, 493, 191, 340, 567],\n",
       " [0, 975, 261, 884, 72, 279],\n",
       " [23, 78, 97, 513, 697, 76],\n",
       " [26, 855, 778, 601, 586, 283],\n",
       " [26, 837, 675, 224, 936, 108],\n",
       " [21, 493, 279, 900, 200, 612],\n",
       " [0, 876, 453, 105, 922, 283],\n",
       " [29, 673, 317, 896, 121, 542],\n",
       " [10, 503, 712, 161, 435, 487],\n",
       " [21, 737, 240, 564, 612, 722],\n",
       " [18, 292, 942, 790, 843, 652],\n",
       " [18, 422, 337, 911, 252, 213],\n",
       " [13, 59, 853, 295, 175, 287],\n",
       " [13, 172, 19, 215, 329, 726],\n",
       " [8, 609, 853, 385, 343, 499],\n",
       " [27, 412, 214, 85, 938, 507],\n",
       " [7, 870, 417, 255, 491, 563],\n",
       " [16, 284, 317, 296, 697, 743],\n",
       " [3, 71, 92, 642, 591, 619],\n",
       " [10, 864, 758, 644, 544, 482],\n",
       " [29, 790, 391, 438, 458, 758],\n",
       " [2, 740, 564, 614, 743, 970],\n",
       " [2, 75, 578, 308, 823, 218],\n",
       " [13, 367, 400, 50, 15, 194],\n",
       " [15, 463, 391, 82, 79, 904],\n",
       " [23, 631, 10, 52, 570, 416],\n",
       " [15, 519, 98, 823, 683, 13],\n",
       " [22, 661, 602, 808, 151, 842],\n",
       " [3, 385, 252, 375, 668, 136],\n",
       " [20, 864, 881, 425, 209, 194],\n",
       " [0, 626, 937, 82, 496, 671],\n",
       " [21, 369, 186, 685, 606, 587],\n",
       " [17, 352, 834, 372, 824, 234],\n",
       " [19, 438, 225, 629, 60, 546],\n",
       " [25, 506, 186, 120, 464, 128],\n",
       " [28, 220, 409, 973, 483, 582],\n",
       " [26, 343, 587, 884, 547, 536],\n",
       " [13, 703, 128, 50, 224, 954],\n",
       " [13, 497, 249, 780, 487, 19],\n",
       " [11, 388, 589, 829, 583, 389],\n",
       " [15, 536, 858, 352, 53, 917],\n",
       " [22, 469, 890, 433, 71, 373],\n",
       " [24, 942, 501, 132, 546, 808],\n",
       " [17, 90, 72, 266, 225, 989],\n",
       " [12, 369, 635, 456, 807, 673],\n",
       " [22, 160, 110, 501, 100, 193],\n",
       " [9, 926, 597, 722, 973, 253],\n",
       " [6, 978, 398, 66, 317, 517],\n",
       " [14, 892, 902, 408, 436, 142],\n",
       " [13, 421, 558, 253, 130, 315],\n",
       " [5, 779, 31, 358, 747, 808],\n",
       " [27, 380, 64, 48, 110, 73],\n",
       " [16, 572, 693, 634, 12, 161],\n",
       " [4, 31, 22, 443, 632, 782],\n",
       " [20, 851, 552, 297, 85, 354],\n",
       " [22, 440, 417, 563, 147, 805],\n",
       " [6, 958, 170, 604, 42, 639],\n",
       " [13, 819, 40, 819, 988, 884],\n",
       " [28, 451, 109, 846, 292, 230],\n",
       " [4, 324, 539, 950, 964, 584],\n",
       " [21, 807, 721, 481, 927, 55],\n",
       " [16, 963, 559, 713, 48, 987],\n",
       " [4, 411, 821, 907, 581, 938],\n",
       " [16, 963, 79, 765, 12, 489],\n",
       " [14, 224, 792, 291, 236, 268],\n",
       " [18, 406, 782, 111, 633, 252],\n",
       " [17, 646, 736, 524, 542, 761],\n",
       " [12, 330, 819, 817, 663, 46],\n",
       " [2, 797, 498, 989, 559, 921],\n",
       " [11, 524, 819, 206, 79, 112],\n",
       " [14, 808, 181, 77, 917, 817],\n",
       " [29, 787, 227, 902, 874, 230],\n",
       " [8, 844, 557, 202, 751, 584],\n",
       " [22, 632, 83, 724, 157, 910],\n",
       " [14, 425, 604, 813, 151, 299],\n",
       " [1, 253, 65, 866, 982, 271],\n",
       " [24, 145, 841, 625, 951, 894],\n",
       " [20, 137, 963, 578, 208, 694],\n",
       " [10, 773, 527, 31, 138, 199],\n",
       " [2, 845, 313, 236, 838, 276],\n",
       " [9, 0, 630, 572, 515, 895],\n",
       " [4, 874, 504, 749, 233, 902],\n",
       " [6, 79, 827, 287, 738, 669],\n",
       " [3, 575, 666, 874, 369, 397],\n",
       " [27, 319, 773, 324, 288, 287],\n",
       " [15, 347, 156, 645, 345, 825],\n",
       " [3, 116, 513, 875, 970, 179],\n",
       " [29, 406, 865, 681, 194, 27],\n",
       " [18, 33, 583, 598, 266, 985],\n",
       " [19, 476, 949, 507, 976, 466],\n",
       " [10, 54, 620, 960, 620, 844],\n",
       " [11, 30, 888, 546, 863, 985],\n",
       " [26, 813, 143, 481, 267, 989],\n",
       " [3, 597, 499, 984, 293, 210],\n",
       " [11, 616, 476, 495, 124, 935],\n",
       " [20, 193, 963, 547, 646, 576],\n",
       " [0, 907, 842, 779, 530, 22],\n",
       " [24, 952, 358, 398, 689, 302],\n",
       " [28, 813, 670, 723, 195, 353],\n",
       " [19, 958, 30, 635, 206, 131],\n",
       " [26, 191, 297, 239, 854, 429],\n",
       " [16, 671, 699, 164, 66, 139],\n",
       " [1, 547, 708, 403, 274, 868],\n",
       " [13, 192, 770, 543, 478, 486],\n",
       " [12, 682, 268, 40, 951, 232],\n",
       " [2, 281, 567, 966, 350, 302],\n",
       " [16, 954, 82, 410, 93, 22],\n",
       " [26, 425, 841, 173, 139, 981],\n",
       " [14, 710, 837, 37, 0, 739],\n",
       " [27, 897, 147, 796, 292, 546],\n",
       " [24, 312, 367, 485, 351, 931],\n",
       " [26, 851, 10, 625, 19, 116],\n",
       " [27, 360, 511, 807, 246, 686],\n",
       " [12, 934, 75, 630, 45, 144],\n",
       " [11, 416, 260, 477, 532, 678],\n",
       " [15, 423, 159, 718, 732, 505],\n",
       " [2, 472, 773, 281, 276, 905],\n",
       " [5, 445, 318, 258, 984, 286],\n",
       " [4, 335, 696, 441, 436, 17],\n",
       " [14, 972, 931, 512, 382, 315],\n",
       " [11, 432, 409, 74, 447, 366],\n",
       " [26, 721, 225, 194, 815, 893],\n",
       " [23, 330, 724, 798, 180, 155],\n",
       " [23, 831, 529, 909, 73, 195],\n",
       " [5, 917, 977, 827, 396, 839],\n",
       " [8, 201, 752, 317, 305, 252],\n",
       " [26, 478, 256, 120, 927, 62],\n",
       " [14, 296, 740, 843, 968, 516],\n",
       " [9, 649, 491, 291, 375, 370],\n",
       " [14, 720, 125, 328, 792, 303],\n",
       " [21, 803, 74, 594, 434, 721],\n",
       " [15, 585, 320, 439, 350, 18],\n",
       " [24, 960, 50, 316, 279, 186],\n",
       " [26, 742, 939, 133, 562, 414],\n",
       " [18, 28, 800, 939, 217, 609],\n",
       " [22, 954, 186, 742, 559, 517],\n",
       " [24, 811, 92, 561, 19, 369],\n",
       " [0, 337, 92, 872, 865, 719],\n",
       " [11, 375, 729, 718, 635, 521],\n",
       " [12, 450, 889, 179, 695, 632],\n",
       " [22, 412, 868, 837, 253, 777],\n",
       " [11, 652, 312, 133, 509, 885],\n",
       " [27, 100, 439, 506, 415, 256],\n",
       " [5, 292, 369, 28, 868, 47],\n",
       " [20, 965, 92, 774, 306, 517],\n",
       " [27, 628, 690, 895, 341, 210],\n",
       " [14, 869, 162, 918, 73, 492],\n",
       " [19, 504, 707, 629, 18, 310],\n",
       " [17, 586, 508, 3, 31, 467],\n",
       " [0, 279, 952, 485, 271, 759],\n",
       " [8, 720, 723, 2, 285, 561],\n",
       " [11, 469, 713, 142, 469, 281],\n",
       " [26, 843, 307, 467, 477, 902],\n",
       " [5, 11, 983, 37, 363, 500],\n",
       " [28, 661, 983, 829, 399, 420],\n",
       " [14, 264, 768, 131, 2, 977],\n",
       " [20, 403, 576, 581, 685, 34],\n",
       " [22, 662, 251, 507, 9, 675],\n",
       " [13, 985, 395, 358, 746, 635],\n",
       " [29, 29, 631, 549, 797, 179],\n",
       " [7, 684, 834, 929, 135, 936],\n",
       " [13, 450, 161, 278, 302, 461],\n",
       " [2, 671, 985, 863, 511, 303],\n",
       " [24, 232, 367, 551, 652, 532],\n",
       " [12, 904, 631, 183, 668, 520],\n",
       " [22, 909, 166, 962, 408, 689],\n",
       " [5, 714, 264, 715, 3, 886],\n",
       " [18, 437, 912, 324, 718, 529],\n",
       " [11, 74, 423, 403, 83, 88],\n",
       " [26, 479, 866, 935, 929, 675],\n",
       " [21, 959, 94, 530, 461, 852],\n",
       " [24, 773, 747, 825, 314, 104],\n",
       " [5, 166, 730, 597, 820, 625],\n",
       " [22, 99, 365, 472, 98, 490],\n",
       " [23, 961, 796, 27, 29, 180],\n",
       " [4, 476, 892, 188, 243, 785],\n",
       " [13, 822, 258, 154, 510, 75],\n",
       " [29, 127, 135, 672, 663, 36],\n",
       " [5, 404, 421, 216, 675, 726],\n",
       " [16, 810, 860, 374, 987, 470],\n",
       " [8, 768, 811, 167, 370, 953],\n",
       " [18, 356, 507, 989, 190, 368],\n",
       " [23, 644, 205, 774, 230, 407],\n",
       " [14, 573, 727, 820, 812, 349],\n",
       " [7, 822, 360, 125, 191, 935],\n",
       " [5, 932, 241, 887, 982, 572],\n",
       " [28, 809, 954, 23, 666, 272],\n",
       " [12, 501, 215, 258, 545, 647],\n",
       " [13, 563, 279, 135, 410, 378],\n",
       " [2, 837, 784, 435, 786, 811],\n",
       " [15, 143, 215, 732, 68, 360],\n",
       " [11, 866, 106, 522, 987, 639],\n",
       " [14, 815, 723, 121, 550, 655],\n",
       " [4, 799, 793, 215, 408, 136],\n",
       " [11, 864, 842, 666, 709, 3],\n",
       " [25, 274, 855, 134, 603, 4],\n",
       " [14, 202, 231, 742, 122, 372],\n",
       " [7, 901, 493, 363, 720, 196],\n",
       " [21, 914, 13, 854, 765, 245],\n",
       " [25, 454, 960, 263, 980, 396],\n",
       " [5, 72, 974, 492, 144, 458],\n",
       " [24, 980, 639, 721, 574, 534],\n",
       " [12, 166, 942, 53, 701, 48],\n",
       " [20, 81, 579, 313, 401, 54],\n",
       " [2, 933, 780, 170, 0, 256],\n",
       " [15, 253, 129, 707, 740, 520],\n",
       " [10, 187, 571, 709, 664, 944],\n",
       " [29, 291, 752, 640, 268, 7],\n",
       " [12, 52, 497, 664, 288, 210],\n",
       " [14, 626, 427, 154, 542, 443],\n",
       " [29, 659, 110, 121, 494, 677],\n",
       " [27, 917, 551, 657, 882, 615],\n",
       " [10, 457, 235, 163, 429, 348],\n",
       " [15, 984, 160, 75, 754, 371],\n",
       " [16, 593, 150, 364, 30, 449],\n",
       " [1, 891, 382, 750, 434, 336],\n",
       " [20, 734, 20, 571, 414, 565],\n",
       " [5, 176, 886, 112, 134, 343],\n",
       " [8, 919, 629, 173, 11, 418],\n",
       " [27, 731, 265, 168, 837, 609],\n",
       " [15, 913, 751, 481, 605, 930],\n",
       " [10, 958, 160, 570, 753, 453],\n",
       " [2, 527, 537, 320, 575, 159],\n",
       " [5, 435, 257, 20, 240, 529],\n",
       " [6, 44, 306, 312, 819, 754],\n",
       " [12, 959, 930, 75, 832, 831],\n",
       " [21, 456, 236, 252, 411, 768],\n",
       " [3, 916, 592, 793, 571, 512],\n",
       " [0, 911, 608, 377, 235, 25],\n",
       " [16, 643, 296, 32, 918, 501],\n",
       " [28, 920, 497, 955, 203, 899],\n",
       " [28, 111, 406, 428, 723, 611],\n",
       " [26, 932, 364, 424, 488, 855],\n",
       " [5, 304, 441, 207, 648, 772],\n",
       " [29, 989, 438, 454, 981, 63],\n",
       " [29, 123, 302, 96, 119, 211],\n",
       " [15, 665, 539, 868, 892, 400],\n",
       " [17, 823, 735, 172, 655, 433],\n",
       " [23, 971, 382, 469, 504, 521],\n",
       " [24, 679, 850, 862, 797, 414],\n",
       " [28, 501, 309, 296, 99, 92],\n",
       " [1, 415, 539, 915, 541, 125],\n",
       " [20, 467, 989, 22, 285, 232],\n",
       " [17, 484, 907, 75, 545, 435],\n",
       " [16, 390, 713, 729, 909, 817],\n",
       " [12, 380, 581, 970, 431, 981],\n",
       " [6, 806, 873, 865, 264, 985],\n",
       " [16, 56, 160, 237, 464, 295],\n",
       " [27, 19, 989, 562, 748, 886],\n",
       " [13, 755, 480, 821, 300, 814],\n",
       " [20, 418, 531, 232, 12, 376],\n",
       " [12, 841, 150, 462, 336, 693],\n",
       " [28, 428, 273, 983, 776, 274],\n",
       " [1, 672, 583, 195, 781, 593],\n",
       " [11, 453, 371, 312, 364, 184],\n",
       " [22, 423, 552, 274, 104, 112],\n",
       " [3, 343, 144, 876, 151, 773],\n",
       " [13, 911, 859, 318, 562, 699],\n",
       " [19, 643, 74, 467, 300, 498],\n",
       " [11, 223, 827, 896, 523, 903],\n",
       " [2, 701, 673, 567, 25, 312],\n",
       " [2, 441, 305, 608, 651, 270],\n",
       " [2, 855, 332, 710, 564, 839],\n",
       " [28, 782, 534, 430, 703, 444],\n",
       " [16, 25, 658, 951, 899, 591],\n",
       " [9, 471, 191, 466, 471, 759],\n",
       " [28, 955, 595, 850, 598, 59],\n",
       " [15, 18, 549, 207, 579, 209],\n",
       " [7, 248, 516, 374, 155, 517],\n",
       " [11, 948, 666, 938, 474, 627],\n",
       " [6, 610, 770, 207, 327, 847],\n",
       " [29, 343, 9, 154, 178, 354],\n",
       " [2, 92, 48, 988, 286, 698],\n",
       " [11, 736, 410, 557, 803, 468],\n",
       " [22, 643, 161, 545, 903, 765],\n",
       " [27, 302, 516, 728, 908, 222],\n",
       " [29, 430, 535, 95, 697, 818],\n",
       " [3, 451, 291, 805, 112, 869],\n",
       " [26, 423, 310, 195, 902, 145],\n",
       " [29, 472, 0, 277, 300, 404],\n",
       " [7, 291, 349, 844, 760, 893],\n",
       " [18, 163, 351, 526, 107, 976],\n",
       " [25, 827, 504, 43, 908, 47],\n",
       " [19, 919, 64, 445, 266, 708],\n",
       " [10, 860, 530, 926, 17, 677],\n",
       " [21, 587, 70, 457, 733, 612],\n",
       " [28, 624, 865, 394, 338, 682],\n",
       " [12, 337, 843, 213, 236, 843],\n",
       " [12, 692, 59, 514, 576, 808],\n",
       " [14, 849, 366, 721, 256, 596],\n",
       " [22, 626, 268, 853, 840, 519],\n",
       " [29, 929, 737, 905, 40, 154],\n",
       " [2, 920, 730, 909, 524, 388],\n",
       " [6, 890, 706, 985, 251, 773],\n",
       " [24, 651, 340, 385, 200, 249],\n",
       " [23, 825, 411, 162, 416, 343],\n",
       " [9, 25, 966, 534, 186, 824],\n",
       " [18, 556, 759, 810, 390, 357],\n",
       " [18, 108, 559, 655, 8, 398],\n",
       " [4, 757, 518, 719, 930, 454],\n",
       " [15, 787, 329, 27, 675, 755],\n",
       " [19, 474, 958, 742, 299, 253],\n",
       " [21, 901, 784, 881, 332, 920],\n",
       " [12, 131, 618, 323, 619, 243],\n",
       " [9, 299, 766, 196, 614, 830],\n",
       " [25, 808, 231, 490, 167, 371],\n",
       " [18, 366, 688, 45, 630, 251],\n",
       " [23, 938, 616, 277, 662, 255],\n",
       " [23, 963, 975, 459, 895, 186],\n",
       " [27, 156, 523, 858, 393, 976],\n",
       " [13, 630, 805, 606, 760, 161],\n",
       " [16, 213, 472, 88, 980, 193],\n",
       " [29, 777, 123, 726, 960, 816],\n",
       " [6, 754, 121, 856, 857, 165],\n",
       " [0, 783, 753, 869, 771, 947],\n",
       " [18, 538, 213, 262, 356, 750],\n",
       " [15, 772, 633, 231, 427, 276],\n",
       " [10, 208, 951, 114, 791, 432],\n",
       " [22, 482, 415, 812, 45, 239],\n",
       " [8, 31, 731, 947, 603, 554],\n",
       " [3, 909, 617, 979, 532, 489],\n",
       " [15, 585, 107, 588, 151, 770],\n",
       " [13, 530, 573, 631, 328, 551],\n",
       " [23, 388, 335, 635, 388, 850],\n",
       " [12, 547, 260, 760, 688, 20],\n",
       " [19, 222, 96, 73, 844, 811],\n",
       " [8, 961, 730, 304, 710, 309],\n",
       " [29, 677, 320, 860, 212, 103],\n",
       " [2, 242, 637, 547, 809, 174],\n",
       " [19, 724, 373, 250, 304, 426],\n",
       " [23, 137, 553, 448, 71, 239],\n",
       " [15, 45, 470, 72, 401, 292],\n",
       " [2, 86, 333, 803, 467, 304],\n",
       " [22, 661, 538, 40, 72, 86],\n",
       " [3, 355, 245, 431, 470, 623],\n",
       " [10, 81, 959, 387, 219, 290],\n",
       " [19, 192, 437, 541, 358, 962],\n",
       " [19, 320, 954, 539, 392, 239],\n",
       " [9, 221, 837, 520, 887, 626],\n",
       " [18, 878, 739, 117, 310, 785],\n",
       " [25, 855, 377, 338, 743, 723],\n",
       " [0, 585, 903, 51, 276, 634],\n",
       " [16, 12, 798, 528, 117, 139],\n",
       " [14, 417, 124, 836, 665, 160],\n",
       " [6, 178, 866, 329, 627, 841],\n",
       " [10, 152, 731, 165, 322, 626],\n",
       " [28, 272, 322, 335, 100, 113],\n",
       " [18, 407, 937, 486, 799, 27],\n",
       " [13, 623, 879, 913, 448, 652],\n",
       " [3, 22, 307, 166, 1, 685],\n",
       " [22, 832, 936, 688, 646, 171],\n",
       " [4, 550, 457, 11, 436, 436],\n",
       " [23, 252, 762, 658, 174, 287],\n",
       " [7, 136, 694, 214, 191, 638],\n",
       " [2, 145, 726, 268, 266, 275],\n",
       " [10, 182, 727, 320, 729, 155],\n",
       " [12, 367, 571, 637, 230, 225],\n",
       " [4, 783, 198, 581, 138, 553],\n",
       " [1, 400, 277, 246, 108, 128],\n",
       " [29, 498, 755, 377, 77, 975],\n",
       " [19, 467, 200, 151, 400, 771],\n",
       " [14, 300, 284, 973, 956, 778],\n",
       " [4, 492, 358, 495, 31, 242]]"
      ]
     },
     "execution_count": 710,
     "metadata": {},
     "output_type": "execute_result"
    }
   ],
   "source": [
    "# hard_data = [[np.random.randint(30), np.random.randint(990),np.random.randint(990),np.random.randint(990),np.random.randint(990), np.random.randint(990)] for i in range(500)]\n",
    "# hard_data"
   ]
  },
  {
   "cell_type": "code",
   "execution_count": 1121,
   "metadata": {
    "collapsed": false
   },
   "outputs": [
    {
     "data": {
      "text/plain": [
       "[<generator object <genexpr> at 0x7fef48b6bc80>,\n",
       " <generator object <genexpr> at 0x7fef48b6bb90>,\n",
       " <generator object <genexpr> at 0x7fef48b6bc30>,\n",
       " <generator object <genexpr> at 0x7fef48b6bdc0>,\n",
       " <generator object <genexpr> at 0x7fef48b6bd70>]"
      ]
     },
     "execution_count": 1121,
     "metadata": {},
     "output_type": "execute_result"
    }
   ],
   "source": [
    "hard_data"
   ]
  },
  {
   "cell_type": "code",
   "execution_count": 1117,
   "metadata": {
    "collapsed": false
   },
   "outputs": [
    {
     "data": {
      "text/plain": [
       "(5,)"
      ]
     },
     "execution_count": 1117,
     "metadata": {},
     "output_type": "execute_result"
    }
   ],
   "source": [
    "np.array(hard_data).shape"
   ]
  },
  {
   "cell_type": "code",
   "execution_count": 711,
   "metadata": {
    "collapsed": true
   },
   "outputs": [],
   "source": [
    "hard_labels = [\"coconut mite\", \"rhinocerus insect\", \"lethal yellowing\", \"stem bleeding\", \"regular\"]"
   ]
  },
  {
   "cell_type": "code",
   "execution_count": 712,
   "metadata": {
    "collapsed": true
   },
   "outputs": [],
   "source": [
    "\n",
    "def adjusthard(da):\n",
    "    if i\n",
    "    return hardware"
   ]
  },
  {
   "cell_type": "code",
   "execution_count": 715,
   "metadata": {
    "collapsed": false
   },
   "outputs": [],
   "source": [
    "hard_actual_labels = [adjusthard(i) for i in range(len(hard_data))]"
   ]
  },
  {
   "cell_type": "code",
   "execution_count": 857,
   "metadata": {
    "collapsed": false
   },
   "outputs": [
    {
     "data": {
      "text/plain": [
       "(500, 5)"
      ]
     },
     "execution_count": 857,
     "metadata": {},
     "output_type": "execute_result"
    }
   ],
   "source": [
    "np.array(hard_actual_labels).shape"
   ]
  },
  {
   "cell_type": "code",
   "execution_count": null,
   "metadata": {
    "collapsed": true
   },
   "outputs": [],
   "source": [
    "hard_data = [\n",
    "#   [Temperature, Distance, Light]\n",
    "#   [25-30, 900-990, 750-990]\n",
    "    [25, 70, 1500],\n",
    "]"
   ]
  },
  {
   "cell_type": "code",
   "execution_count": 922,
   "metadata": {
    "collapsed": false
   },
   "outputs": [],
   "source": [
    "training_hard = hard_data[:400]\n",
    "training_label = hard_actual_labels[:400]\n",
    "test_hard = hard_data[401:]\n",
    "test_label=hard_actual_labels[401:]"
   ]
  },
  {
   "cell_type": "code",
   "execution_count": 1079,
   "metadata": {
    "collapsed": true
   },
   "outputs": [],
   "source": [
    "def convertforsklearn(dat):\n",
    "    if dat[0] == 1: return int(0)\n",
    "    if dat[1] == 1: return int(1)\n",
    "    if dat[2] == 1: return int(2)\n",
    "    if dat[3] == 1: return int(3)\n",
    "    if dat[4] == 1: return int(4)"
   ]
  },
  {
   "cell_type": "code",
   "execution_count": 1080,
   "metadata": {
    "collapsed": false
   },
   "outputs": [],
   "source": [
    "converted_hard = [convertforsklearn(datr) for datr in hard_actual_labels]"
   ]
  },
  {
   "cell_type": "code",
   "execution_count": 1081,
   "metadata": {
    "collapsed": true
   },
   "outputs": [],
   "source": [
    "converted_train = converted_hard[:400]\n",
    "converted_test = converted_hard[401:]"
   ]
  },
  {
   "cell_type": "code",
   "execution_count": null,
   "metadata": {
    "collapsed": true
   },
   "outputs": [],
   "source": [
    "#[400,1,6], [6,200,1]."
   ]
  },
  {
   "cell_type": "code",
   "execution_count": null,
   "metadata": {
    "collapsed": true
   },
   "outputs": [],
   "source": []
  },
  {
   "cell_type": "code",
   "execution_count": 1086,
   "metadata": {
    "collapsed": false
   },
   "outputs": [],
   "source": [
    "from sklearn.ensemble import RandomForestClassifier, AdaBoostRegressor\n",
    "from sklearn.metrics import accuracy_score"
   ]
  },
  {
   "cell_type": "code",
   "execution_count": 1090,
   "metadata": {
    "collapsed": true
   },
   "outputs": [],
   "source": [
    "clf = RandomForestClassifier().fit(training_hard,converted_train)"
   ]
  },
  {
   "cell_type": "code",
   "execution_count": 1091,
   "metadata": {
    "collapsed": false
   },
   "outputs": [
    {
     "data": {
      "text/plain": [
       "array([4, 2, 2, 1, 4, 2, 3, 0, 0, 1, 3, 1, 3, 3, 2, 0, 4, 1, 3, 1, 2, 1, 2,\n",
       "       4, 1, 2, 0, 1, 2, 2, 1, 1, 0, 0, 3, 4, 2, 3, 0, 1, 0, 0, 3, 1, 4, 0,\n",
       "       3, 4, 2, 2, 4, 2, 4, 4, 1, 4, 2, 1, 2, 1, 4, 2, 4, 0, 2, 4, 3, 3, 3,\n",
       "       1, 2, 0, 4, 4, 1, 3, 1, 3, 1, 4, 0, 0, 1, 2, 3, 0, 3, 1, 4, 0, 1, 1,\n",
       "       1, 1, 1, 0, 2, 0, 1])"
      ]
     },
     "execution_count": 1091,
     "metadata": {},
     "output_type": "execute_result"
    }
   ],
   "source": [
    "pred = clf.predict(test_hard)\n",
    "pred"
   ]
  },
  {
   "cell_type": "code",
   "execution_count": 1092,
   "metadata": {
    "collapsed": false
   },
   "outputs": [
    {
     "data": {
      "text/plain": [
       "0.29292929292929293"
      ]
     },
     "execution_count": 1092,
     "metadata": {},
     "output_type": "execute_result"
    }
   ],
   "source": [
    "hard_score = accuracy_score(converted_test, pred)\n",
    "hard_score"
   ]
  },
  {
   "cell_type": "code",
   "execution_count": null,
   "metadata": {
    "collapsed": true
   },
   "outputs": [],
   "source": []
  },
  {
   "cell_type": "code",
   "execution_count": 1065,
   "metadata": {
    "collapsed": true
   },
   "outputs": [],
   "source": [
    "#Input Layer\n",
    "x = tf.placeholder(tf.float32, [400*6,5])\n",
    "# y_ = tf.placeholder(tf.float32, [None,6])\n",
    "W = tf.Variable(tf.zeros([400*6,5]))\n",
    "b = tf.Variable(tf.zeros([5]))"
   ]
  },
  {
   "cell_type": "code",
   "execution_count": 1066,
   "metadata": {
    "collapsed": false
   },
   "outputs": [],
   "source": [
    "#Second Layer\n",
    "W2 = tf.Variable(tf.truncated_normal([400,100],stddev=0.1) )\n",
    "b2 = tf.Variable(tf.ones([100]))"
   ]
  },
  {
   "cell_type": "code",
   "execution_count": 1067,
   "metadata": {
    "collapsed": false
   },
   "outputs": [],
   "source": [
    "#Third Layer\n",
    "W3 = tf.Variable(tf.truncated_normal([100,50],stddev=0.1) )\n",
    "b3 = tf.Variable(tf.ones([50]))"
   ]
  },
  {
   "cell_type": "code",
   "execution_count": 1068,
   "metadata": {
    "collapsed": false
   },
   "outputs": [],
   "source": [
    "#Fourth Layer\n",
    "W4 = tf.Variable(tf.truncated_normal([50,25],stddev=0.1))\n",
    "b4 = tf.Variable(tf.ones([25]))"
   ]
  },
  {
   "cell_type": "code",
   "execution_count": 1069,
   "metadata": {
    "collapsed": false
   },
   "outputs": [],
   "source": [
    "#Fifth Layer\n",
    "W5 = tf.Variable(tf.truncated_normal([25,5], stddev=0.1))\n",
    "b5 = tf.Variable(tf.ones([5]))"
   ]
  },
  {
   "cell_type": "code",
   "execution_count": 1063,
   "metadata": {
    "collapsed": true
   },
   "outputs": [],
   "source": [
    "sess.run(tf.global_variables_initializer())"
   ]
  },
  {
   "cell_type": "code",
   "execution_count": 1070,
   "metadata": {
    "collapsed": false
   },
   "outputs": [
    {
     "ename": "ValueError",
     "evalue": "Dimensions must be equal, but are 5 and 400 for 'MatMul_155' (op: 'MatMul') with input shapes: [5,5], [400,100].",
     "output_type": "error",
     "traceback": [
      "\u001b[1;31m---------------------------------------------------------------------------\u001b[0m",
      "\u001b[1;31mValueError\u001b[0m                                Traceback (most recent call last)",
      "\u001b[1;32m<ipython-input-1070-61eaa6b5fe60>\u001b[0m in \u001b[0;36m<module>\u001b[1;34m()\u001b[0m\n\u001b[0;32m      1\u001b[0m \u001b[1;31m#Model\u001b[0m\u001b[1;33m\u001b[0m\u001b[1;33m\u001b[0m\u001b[0m\n\u001b[0;32m      2\u001b[0m \u001b[0mfc1\u001b[0m \u001b[1;33m=\u001b[0m \u001b[0mtf\u001b[0m\u001b[1;33m.\u001b[0m\u001b[0mnn\u001b[0m\u001b[1;33m.\u001b[0m\u001b[0mrelu\u001b[0m\u001b[1;33m(\u001b[0m\u001b[0mtf\u001b[0m\u001b[1;33m.\u001b[0m\u001b[0mmatmul\u001b[0m\u001b[1;33m(\u001b[0m\u001b[0mx\u001b[0m\u001b[1;33m,\u001b[0m \u001b[0mW\u001b[0m\u001b[1;33m)\u001b[0m \u001b[1;33m+\u001b[0m \u001b[0mb\u001b[0m\u001b[1;33m)\u001b[0m\u001b[1;33m\u001b[0m\u001b[0m\n\u001b[1;32m----> 3\u001b[1;33m \u001b[0mfc2\u001b[0m \u001b[1;33m=\u001b[0m \u001b[0mtf\u001b[0m\u001b[1;33m.\u001b[0m\u001b[0mnn\u001b[0m\u001b[1;33m.\u001b[0m\u001b[0mrelu\u001b[0m\u001b[1;33m(\u001b[0m\u001b[0mtf\u001b[0m\u001b[1;33m.\u001b[0m\u001b[0mmatmul\u001b[0m\u001b[1;33m(\u001b[0m\u001b[0mfc1\u001b[0m\u001b[1;33m,\u001b[0m \u001b[0mW2\u001b[0m\u001b[1;33m)\u001b[0m \u001b[1;33m+\u001b[0m \u001b[0mb2\u001b[0m\u001b[1;33m)\u001b[0m\u001b[1;33m\u001b[0m\u001b[0m\n\u001b[0m\u001b[0;32m      4\u001b[0m \u001b[0mfc3\u001b[0m \u001b[1;33m=\u001b[0m \u001b[0mtf\u001b[0m\u001b[1;33m.\u001b[0m\u001b[0mnn\u001b[0m\u001b[1;33m.\u001b[0m\u001b[0mrelu\u001b[0m\u001b[1;33m(\u001b[0m\u001b[0mtf\u001b[0m\u001b[1;33m.\u001b[0m\u001b[0mmatmul\u001b[0m\u001b[1;33m(\u001b[0m\u001b[0mfc2\u001b[0m\u001b[1;33m,\u001b[0m \u001b[0mW3\u001b[0m\u001b[1;33m)\u001b[0m \u001b[1;33m+\u001b[0m \u001b[0mb3\u001b[0m\u001b[1;33m)\u001b[0m\u001b[1;33m\u001b[0m\u001b[0m\n\u001b[0;32m      5\u001b[0m \u001b[0mfc4\u001b[0m \u001b[1;33m=\u001b[0m \u001b[0mtf\u001b[0m\u001b[1;33m.\u001b[0m\u001b[0mnn\u001b[0m\u001b[1;33m.\u001b[0m\u001b[0mrelu\u001b[0m\u001b[1;33m(\u001b[0m\u001b[0mtf\u001b[0m\u001b[1;33m.\u001b[0m\u001b[0mmatmul\u001b[0m\u001b[1;33m(\u001b[0m\u001b[0mfc3\u001b[0m\u001b[1;33m,\u001b[0m \u001b[0mW4\u001b[0m\u001b[1;33m)\u001b[0m \u001b[1;33m+\u001b[0m \u001b[0mb4\u001b[0m\u001b[1;33m)\u001b[0m\u001b[1;33m\u001b[0m\u001b[0m\n",
      "\u001b[1;32m/home/fjcamillo/anaconda2/envs/tensorflow/lib/python2.7/site-packages/tensorflow/python/ops/math_ops.pyc\u001b[0m in \u001b[0;36mmatmul\u001b[1;34m(a, b, transpose_a, transpose_b, adjoint_a, adjoint_b, a_is_sparse, b_is_sparse, name)\u001b[0m\n\u001b[0;32m   1763\u001b[0m     \u001b[1;32melse\u001b[0m\u001b[1;33m:\u001b[0m\u001b[1;33m\u001b[0m\u001b[0m\n\u001b[0;32m   1764\u001b[0m       return gen_math_ops._mat_mul(\n\u001b[1;32m-> 1765\u001b[1;33m           a, b, transpose_a=transpose_a, transpose_b=transpose_b, name=name)\n\u001b[0m\u001b[0;32m   1766\u001b[0m \u001b[1;33m\u001b[0m\u001b[0m\n\u001b[0;32m   1767\u001b[0m \u001b[1;33m\u001b[0m\u001b[0m\n",
      "\u001b[1;32m/home/fjcamillo/anaconda2/envs/tensorflow/lib/python2.7/site-packages/tensorflow/python/ops/gen_math_ops.pyc\u001b[0m in \u001b[0;36m_mat_mul\u001b[1;34m(a, b, transpose_a, transpose_b, name)\u001b[0m\n\u001b[0;32m   1452\u001b[0m   \"\"\"\n\u001b[0;32m   1453\u001b[0m   result = _op_def_lib.apply_op(\"MatMul\", a=a, b=b, transpose_a=transpose_a,\n\u001b[1;32m-> 1454\u001b[1;33m                                 transpose_b=transpose_b, name=name)\n\u001b[0m\u001b[0;32m   1455\u001b[0m   \u001b[1;32mreturn\u001b[0m \u001b[0mresult\u001b[0m\u001b[1;33m\u001b[0m\u001b[0m\n\u001b[0;32m   1456\u001b[0m \u001b[1;33m\u001b[0m\u001b[0m\n",
      "\u001b[1;32m/home/fjcamillo/anaconda2/envs/tensorflow/lib/python2.7/site-packages/tensorflow/python/framework/op_def_library.pyc\u001b[0m in \u001b[0;36mapply_op\u001b[1;34m(self, op_type_name, name, **keywords)\u001b[0m\n\u001b[0;32m    761\u001b[0m         op = g.create_op(op_type_name, inputs, output_types, name=scope,\n\u001b[0;32m    762\u001b[0m                          \u001b[0minput_types\u001b[0m\u001b[1;33m=\u001b[0m\u001b[0minput_types\u001b[0m\u001b[1;33m,\u001b[0m \u001b[0mattrs\u001b[0m\u001b[1;33m=\u001b[0m\u001b[0mattr_protos\u001b[0m\u001b[1;33m,\u001b[0m\u001b[1;33m\u001b[0m\u001b[0m\n\u001b[1;32m--> 763\u001b[1;33m                          op_def=op_def)\n\u001b[0m\u001b[0;32m    764\u001b[0m         \u001b[1;32mif\u001b[0m \u001b[0moutput_structure\u001b[0m\u001b[1;33m:\u001b[0m\u001b[1;33m\u001b[0m\u001b[0m\n\u001b[0;32m    765\u001b[0m           \u001b[0moutputs\u001b[0m \u001b[1;33m=\u001b[0m \u001b[0mop\u001b[0m\u001b[1;33m.\u001b[0m\u001b[0moutputs\u001b[0m\u001b[1;33m\u001b[0m\u001b[0m\n",
      "\u001b[1;32m/home/fjcamillo/anaconda2/envs/tensorflow/lib/python2.7/site-packages/tensorflow/python/framework/ops.pyc\u001b[0m in \u001b[0;36mcreate_op\u001b[1;34m(self, op_type, inputs, dtypes, input_types, name, attrs, op_def, compute_shapes, compute_device)\u001b[0m\n\u001b[0;32m   2327\u001b[0m                     original_op=self._default_original_op, op_def=op_def)\n\u001b[0;32m   2328\u001b[0m     \u001b[1;32mif\u001b[0m \u001b[0mcompute_shapes\u001b[0m\u001b[1;33m:\u001b[0m\u001b[1;33m\u001b[0m\u001b[0m\n\u001b[1;32m-> 2329\u001b[1;33m       \u001b[0mset_shapes_for_outputs\u001b[0m\u001b[1;33m(\u001b[0m\u001b[0mret\u001b[0m\u001b[1;33m)\u001b[0m\u001b[1;33m\u001b[0m\u001b[0m\n\u001b[0m\u001b[0;32m   2330\u001b[0m     \u001b[0mself\u001b[0m\u001b[1;33m.\u001b[0m\u001b[0m_add_op\u001b[0m\u001b[1;33m(\u001b[0m\u001b[0mret\u001b[0m\u001b[1;33m)\u001b[0m\u001b[1;33m\u001b[0m\u001b[0m\n\u001b[0;32m   2331\u001b[0m     \u001b[0mself\u001b[0m\u001b[1;33m.\u001b[0m\u001b[0m_record_op_seen_by_control_dependencies\u001b[0m\u001b[1;33m(\u001b[0m\u001b[0mret\u001b[0m\u001b[1;33m)\u001b[0m\u001b[1;33m\u001b[0m\u001b[0m\n",
      "\u001b[1;32m/home/fjcamillo/anaconda2/envs/tensorflow/lib/python2.7/site-packages/tensorflow/python/framework/ops.pyc\u001b[0m in \u001b[0;36mset_shapes_for_outputs\u001b[1;34m(op)\u001b[0m\n\u001b[0;32m   1715\u001b[0m       \u001b[0mshape_func\u001b[0m \u001b[1;33m=\u001b[0m \u001b[0m_call_cpp_shape_fn_and_require_op\u001b[0m\u001b[1;33m\u001b[0m\u001b[0m\n\u001b[0;32m   1716\u001b[0m \u001b[1;33m\u001b[0m\u001b[0m\n\u001b[1;32m-> 1717\u001b[1;33m   \u001b[0mshapes\u001b[0m \u001b[1;33m=\u001b[0m \u001b[0mshape_func\u001b[0m\u001b[1;33m(\u001b[0m\u001b[0mop\u001b[0m\u001b[1;33m)\u001b[0m\u001b[1;33m\u001b[0m\u001b[0m\n\u001b[0m\u001b[0;32m   1718\u001b[0m   \u001b[1;32mif\u001b[0m \u001b[0mshapes\u001b[0m \u001b[1;32mis\u001b[0m \u001b[0mNone\u001b[0m\u001b[1;33m:\u001b[0m\u001b[1;33m\u001b[0m\u001b[0m\n\u001b[0;32m   1719\u001b[0m     raise RuntimeError(\n",
      "\u001b[1;32m/home/fjcamillo/anaconda2/envs/tensorflow/lib/python2.7/site-packages/tensorflow/python/framework/ops.pyc\u001b[0m in \u001b[0;36mcall_with_requiring\u001b[1;34m(op)\u001b[0m\n\u001b[0;32m   1665\u001b[0m \u001b[1;33m\u001b[0m\u001b[0m\n\u001b[0;32m   1666\u001b[0m   \u001b[1;32mdef\u001b[0m \u001b[0mcall_with_requiring\u001b[0m\u001b[1;33m(\u001b[0m\u001b[0mop\u001b[0m\u001b[1;33m)\u001b[0m\u001b[1;33m:\u001b[0m\u001b[1;33m\u001b[0m\u001b[0m\n\u001b[1;32m-> 1667\u001b[1;33m     \u001b[1;32mreturn\u001b[0m \u001b[0mcall_cpp_shape_fn\u001b[0m\u001b[1;33m(\u001b[0m\u001b[0mop\u001b[0m\u001b[1;33m,\u001b[0m \u001b[0mrequire_shape_fn\u001b[0m\u001b[1;33m=\u001b[0m\u001b[0mTrue\u001b[0m\u001b[1;33m)\u001b[0m\u001b[1;33m\u001b[0m\u001b[0m\n\u001b[0m\u001b[0;32m   1668\u001b[0m \u001b[1;33m\u001b[0m\u001b[0m\n\u001b[0;32m   1669\u001b[0m   \u001b[0m_call_cpp_shape_fn_and_require_op\u001b[0m \u001b[1;33m=\u001b[0m \u001b[0mcall_with_requiring\u001b[0m\u001b[1;33m\u001b[0m\u001b[0m\n",
      "\u001b[1;32m/home/fjcamillo/anaconda2/envs/tensorflow/lib/python2.7/site-packages/tensorflow/python/framework/common_shapes.pyc\u001b[0m in \u001b[0;36mcall_cpp_shape_fn\u001b[1;34m(op, input_tensors_needed, input_tensors_as_shapes_needed, debug_python_shape_fn, require_shape_fn)\u001b[0m\n\u001b[0;32m    608\u001b[0m     res = _call_cpp_shape_fn_impl(op, input_tensors_needed,\n\u001b[0;32m    609\u001b[0m                                   \u001b[0minput_tensors_as_shapes_needed\u001b[0m\u001b[1;33m,\u001b[0m\u001b[1;33m\u001b[0m\u001b[0m\n\u001b[1;32m--> 610\u001b[1;33m                                   debug_python_shape_fn, require_shape_fn)\n\u001b[0m\u001b[0;32m    611\u001b[0m     \u001b[1;32mif\u001b[0m \u001b[1;32mnot\u001b[0m \u001b[0misinstance\u001b[0m\u001b[1;33m(\u001b[0m\u001b[0mres\u001b[0m\u001b[1;33m,\u001b[0m \u001b[0mdict\u001b[0m\u001b[1;33m)\u001b[0m\u001b[1;33m:\u001b[0m\u001b[1;33m\u001b[0m\u001b[0m\n\u001b[0;32m    612\u001b[0m       \u001b[1;31m# Handles the case where _call_cpp_shape_fn_impl calls unknown_shape(op).\u001b[0m\u001b[1;33m\u001b[0m\u001b[1;33m\u001b[0m\u001b[0m\n",
      "\u001b[1;32m/home/fjcamillo/anaconda2/envs/tensorflow/lib/python2.7/site-packages/tensorflow/python/framework/common_shapes.pyc\u001b[0m in \u001b[0;36m_call_cpp_shape_fn_impl\u001b[1;34m(op, input_tensors_needed, input_tensors_as_shapes_needed, debug_python_shape_fn, require_shape_fn)\u001b[0m\n\u001b[0;32m    674\u001b[0m       \u001b[0mmissing_shape_fn\u001b[0m \u001b[1;33m=\u001b[0m \u001b[0mTrue\u001b[0m\u001b[1;33m\u001b[0m\u001b[0m\n\u001b[0;32m    675\u001b[0m     \u001b[1;32melse\u001b[0m\u001b[1;33m:\u001b[0m\u001b[1;33m\u001b[0m\u001b[0m\n\u001b[1;32m--> 676\u001b[1;33m       \u001b[1;32mraise\u001b[0m \u001b[0mValueError\u001b[0m\u001b[1;33m(\u001b[0m\u001b[0merr\u001b[0m\u001b[1;33m.\u001b[0m\u001b[0mmessage\u001b[0m\u001b[1;33m)\u001b[0m\u001b[1;33m\u001b[0m\u001b[0m\n\u001b[0m\u001b[0;32m    677\u001b[0m \u001b[1;33m\u001b[0m\u001b[0m\n\u001b[0;32m    678\u001b[0m   \u001b[1;32mif\u001b[0m \u001b[0mmissing_shape_fn\u001b[0m\u001b[1;33m:\u001b[0m\u001b[1;33m\u001b[0m\u001b[0m\n",
      "\u001b[1;31mValueError\u001b[0m: Dimensions must be equal, but are 5 and 400 for 'MatMul_155' (op: 'MatMul') with input shapes: [5,5], [400,100]."
     ]
    }
   ],
   "source": [
    "#Model\n",
    "fc1 = tf.nn.relu(tf.matmul(x, W) + b)\n",
    "fc2 = tf.nn.relu(tf.matmul(fc1, W2) + b2)\n",
    "fc3 = tf.nn.relu(tf.matmul(fc2, W3) + b3)\n",
    "fc4 = tf.nn.relu(tf.matmul(fc3, W4) + b4)\n",
    "fc5 = tf.nn.softmax(tf.matmul(fc4, W5) + b5)"
   ]
  },
  {
   "cell_type": "code",
   "execution_count": null,
   "metadata": {
    "collapsed": true
   },
   "outputs": [],
   "source": []
  },
  {
   "cell_type": "code",
   "execution_count": null,
   "metadata": {
    "collapsed": false
   },
   "outputs": [],
   "source": [
    "train_step = tf.train.GradientDescentOptimizer(fc5)"
   ]
  },
  {
   "cell_type": "code",
   "execution_count": null,
   "metadata": {
    "collapsed": true
   },
   "outputs": [],
   "source": []
  },
  {
   "cell_type": "code",
   "execution_count": null,
   "metadata": {
    "collapsed": true
   },
   "outputs": [],
   "source": []
  }
 ],
 "metadata": {
  "kernelspec": {
   "display_name": "Python 2",
   "language": "python",
   "name": "python2"
  },
  "language_info": {
   "codemirror_mode": {
    "name": "ipython",
    "version": 2
   },
   "file_extension": ".py",
   "mimetype": "text/x-python",
   "name": "python",
   "nbconvert_exporter": "python",
   "pygments_lexer": "ipython2",
   "version": "2.7.13"
  }
 },
 "nbformat": 4,
 "nbformat_minor": 0
}
