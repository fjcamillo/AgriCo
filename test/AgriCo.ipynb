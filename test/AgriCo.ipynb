{
 "cells": [
  {
   "cell_type": "markdown",
   "metadata": {},
   "source": [
    "# AgriCo\n",
    "---"
   ]
  },
  {
   "cell_type": "code",
   "execution_count": 1,
   "metadata": {
    "collapsed": true
   },
   "outputs": [],
   "source": [
    "import tensorflow as tf\n",
    "from PIL import Image\n",
    "import numpy as np\n"
   ]
  },
  {
   "cell_type": "code",
   "execution_count": 2,
   "metadata": {
    "collapsed": true
   },
   "outputs": [],
   "source": [
    "import os\n",
    "import pylab as pl\n",
    "%matplotlib inline"
   ]
  },
  {
   "cell_type": "code",
   "execution_count": 3,
   "metadata": {
    "collapsed": true
   },
   "outputs": [],
   "source": [
    "import time"
   ]
  },
  {
   "cell_type": "code",
   "execution_count": 4,
   "metadata": {
    "collapsed": true
   },
   "outputs": [],
   "source": [
    "import math"
   ]
  },
  {
   "cell_type": "markdown",
   "metadata": {},
   "source": [
    "## Data  Preprocessing\n",
    "---"
   ]
  },
  {
   "cell_type": "code",
   "execution_count": 5,
   "metadata": {
    "collapsed": true
   },
   "outputs": [],
   "source": [
    "SIZE = (28,28)"
   ]
  },
  {
   "cell_type": "code",
   "execution_count": 6,
   "metadata": {
    "collapsed": true
   },
   "outputs": [],
   "source": [
    "rhino_url = \"/home/fjcamillo/Desktop/Hackzilla2/dataset/rhino/\"\n",
    "coconutmite_url = \"/home/fjcamillo/Desktop/Hackzilla2/dataset/coconutmite/\"\n",
    "lethalyellow_url = \"/home/fjcamillo/Desktop/Hackzilla2/dataset/lethalyellow/\"\n",
    "regular_url = \"/home/fjcamillo/Desktop/Hackzilla2/dataset/regular/\"\n",
    "stembleeding_url = \"/home/fjcamillo/Desktop/Hackzilla2/dataset/stembleeding/\""
   ]
  },
  {
   "cell_type": "code",
   "execution_count": 7,
   "metadata": {
    "collapsed": true
   },
   "outputs": [],
   "source": [
    "urls = [\n",
    "    rhino_url,\n",
    "    coconutmite_url,\n",
    "    lethalyellow_url,\n",
    "    regular_url,\n",
    "    stembleeding_url\n",
    "]"
   ]
  },
  {
   "cell_type": "code",
   "execution_count": null,
   "metadata": {
    "collapsed": true
   },
   "outputs": [],
   "source": [
    "#helper function in creating new images\n",
    "\n",
    "#Populate Data Set\n",
    "def convert(filename, size, name, key, label):\n",
    "    img = Image.open(filename)\n",
    "    img = img.resize(size)\n",
    "    img.save(\"resized-{}-{}.png\".format(name, key))\n",
    "    rotate45 = img.rotate(45)\n",
    "    rotate45.save(\"rotate45-{}-{}.png\".format(name, key))\n",
    "    rotate90 = img.rotate(90)\n",
    "    rotate90.save(\"rotate90-{}-{}.png\".format(name, key))\n",
    "    bnw = img.convert(mode=\"L\")\n",
    "    bnw.save(\"bnw-{}-{}.png\".format(name, key))\n",
    "#     dit = img.convert(mode=\"P\")\n",
    "#     dit.save(\"dit-{}-{}.png\".format(name, key))\n",
    "    flip = img.transpose(Image.FLIP_LEFT_RIGHT)\n",
    "    flip.save(\"flip-{}-{}.png\".format(name, key))\n",
    "#     return img\n",
    "    \n",
    "    \n"
   ]
  },
  {
   "cell_type": "code",
   "execution_count": null,
   "metadata": {
    "collapsed": true
   },
   "outputs": [],
   "source": [
    "#Get links of images\n",
    "image_links = []\n",
    "for url in urls:\n",
    "    for dat in os.listdir(url):\n",
    "        image_links.append(url+dat)\n",
    "    \n",
    "image_links"
   ]
  },
  {
   "cell_type": "code",
   "execution_count": null,
   "metadata": {
    "collapsed": false
   },
   "outputs": [],
   "source": [
    "len(image_links)*6"
   ]
  },
  {
   "cell_type": "code",
   "execution_count": null,
   "metadata": {
    "collapsed": true
   },
   "outputs": [],
   "source": [
    "for image in image_links:\n",
    "    name = image.split(\"/\")[-2]\n",
    "    key = image.split(\"/\")[-1].split(\".\")[0]\n",
    "#     key = \"key\"\n",
    "    label = \"ok\"\n",
    "    convert(image, SIZE, name, key, label)\n",
    "    time.sleep(5)"
   ]
  },
  {
   "cell_type": "code",
   "execution_count": 8,
   "metadata": {
    "collapsed": false
   },
   "outputs": [],
   "source": [
    "#helper function to create labels\n",
    "\n",
    "#rhino = 0\n",
    "#coconutmite = 1\n",
    "#lethalyellow = 2\n",
    "#stembleeding = 3\n",
    "#regular = 4\n",
    "\n",
    "def create_label(data):\n",
    "    if \"rhino\" in data: return [1,0,0,0,0]\n",
    "    if \"coconutmite\" in data: return [0,1,0,0,0]\n",
    "    if \"lethalyellow\" in data: return [0,0,1,0,0]\n",
    "    if \"stembleeding\" in data: return [0,0,0,1,0]\n",
    "    if \"regular\" in data: return [0,0,0,0,1]"
   ]
  },
  {
   "cell_type": "code",
   "execution_count": 9,
   "metadata": {
    "collapsed": true
   },
   "outputs": [],
   "source": [
    "final_dataset_link = \"/home/fjcamillo/Desktop/Hackzilla2/dataset/Final/\""
   ]
  },
  {
   "cell_type": "code",
   "execution_count": null,
   "metadata": {
    "collapsed": true
   },
   "outputs": [],
   "source": [
    "proof = os.listdir(final_dataset_link)\n",
    "proof"
   ]
  },
  {
   "cell_type": "code",
   "execution_count": 10,
   "metadata": {
    "collapsed": false
   },
   "outputs": [
    {
     "data": {
      "text/plain": [
       "array([[0, 1, 0, 0, 0],\n",
       "       [0, 1, 0, 0, 0],\n",
       "       [0, 0, 1, 0, 0],\n",
       "       ..., \n",
       "       [0, 0, 0, 1, 0],\n",
       "       [0, 1, 0, 0, 0],\n",
       "       [0, 0, 0, 1, 0]])"
      ]
     },
     "execution_count": 10,
     "metadata": {},
     "output_type": "execute_result"
    }
   ],
   "source": [
    "labels = np.array([np.array(create_label(labe.split(\"-\"))) for labe in os.listdir(final_dataset_link)])\n",
    "labels"
   ]
  },
  {
   "cell_type": "code",
   "execution_count": 11,
   "metadata": {
    "collapsed": true
   },
   "outputs": [],
   "source": [
    "#helper functions to create training set\n",
    "def convertimage(filename, verbose=False):\n",
    "    print(filename)\n",
    "    img = Image.open(filename)\n",
    "    print(np.array(img).shape)\n",
    "#     pl.imshow(img)\n",
    "#     img = img.resize(size)\n",
    "#     img = [list(img.getdata())]\n",
    "#     img = map(list, img)\n",
    "#     img = np.array(img)\n",
    "    return np.array(img).reshape((28,28,3))"
   ]
  },
  {
   "cell_type": "code",
   "execution_count": null,
   "metadata": {
    "collapsed": true
   },
   "outputs": [],
   "source": [
    "#checker if image sizes\n",
    "def check(filename):\n",
    "    img = Image.open(filename)\n",
    "    sh = np.array(img).shape\n",
    "    if sh != (28,28,3):\n",
    "        print(\"filename: {}, shape: {}\".format(filename, sh))\n",
    "    else: pass\n",
    " "
   ]
  },
  {
   "cell_type": "code",
   "execution_count": null,
   "metadata": {
    "collapsed": false
   },
   "outputs": [],
   "source": [
    "#Data Preprocessing: Checks the dimensions of the images\n",
    "for filen in os.listdir(final_dataset_link):\n",
    "    check(final_dataset_link+filen)\n",
    "print(\"finish\")"
   ]
  },
  {
   "cell_type": "code",
   "execution_count": null,
   "metadata": {
    "collapsed": false
   },
   "outputs": [],
   "source": [
    "for filen in os.listdir(final_dataset_link):\n",
    "    fil = convertimage(final_dataset_link+filen)\n",
    "#     print(len(fil))\n",
    "    np.append(dataset, fil, axis=0)"
   ]
  },
  {
   "cell_type": "code",
   "execution_count": 12,
   "metadata": {
    "collapsed": false
   },
   "outputs": [
    {
     "name": "stdout",
     "output_type": "stream",
     "text": [
      "/home/fjcamillo/Desktop/Hackzilla2/dataset/Final/resized-coconutmite-red_palm_weevil_sypt001.png\n",
      "(28, 28, 3)\n",
      "/home/fjcamillo/Desktop/Hackzilla2/dataset/Final/flip-coconutmite-37.png\n",
      "(28, 28, 3)\n",
      "/home/fjcamillo/Desktop/Hackzilla2/dataset/Final/resized-lethalyellow-images (3).png\n",
      "(28, 28, 3)\n",
      "/home/fjcamillo/Desktop/Hackzilla2/dataset/Final/flip-rhino-1.png\n",
      "(28, 28, 3)\n",
      "/home/fjcamillo/Desktop/Hackzilla2/dataset/Final/flip-coconutmite-i-download.png\n",
      "(28, 28, 3)\n",
      "/home/fjcamillo/Desktop/Hackzilla2/dataset/Final/flip-stembleeding-Stem-Bleeding-of-Coconut-Scot-Nelson-sm.png\n",
      "(28, 28, 3)\n",
      "/home/fjcamillo/Desktop/Hackzilla2/dataset/Final/resized-lethalyellow-LY_Jamaica_Overview.png\n",
      "(28, 28, 3)\n",
      "/home/fjcamillo/Desktop/Hackzilla2/dataset/Final/resized-coconutmite-576842.png\n",
      "(28, 28, 3)\n",
      "/home/fjcamillo/Desktop/Hackzilla2/dataset/Final/rotate45-rhino-1254769.png\n",
      "(28, 28, 3)\n",
      "/home/fjcamillo/Desktop/Hackzilla2/dataset/Final/rotate90-coconutmite-27229698964_c547eb809f_o.png\n",
      "(28, 28, 3)\n",
      "/home/fjcamillo/Desktop/Hackzilla2/dataset/Final/flip-stembleeding-5684239787_65feaa8c2f_b.png\n",
      "(28, 28, 3)\n",
      "/home/fjcamillo/Desktop/Hackzilla2/dataset/Final/rotate90-rhino-1254.png\n",
      "(28, 28, 3)\n",
      "/home/fjcamillo/Desktop/Hackzilla2/dataset/Final/flip-coconutmite-2.png\n",
      "(28, 28, 3)\n",
      "/home/fjcamillo/Desktop/Hackzilla2/dataset/Final/rotate90-rhino-Oryctes damage.png\n",
      "(28, 28, 3)\n",
      "/home/fjcamillo/Desktop/Hackzilla2/dataset/Final/rotate45-coconutmite-samoan_coco_eriophyid_mites_1.png\n",
      "(28, 28, 3)\n",
      "/home/fjcamillo/Desktop/Hackzilla2/dataset/Final/rotate90-coconutmite-3.png\n",
      "(28, 28, 3)\n",
      "/home/fjcamillo/Desktop/Hackzilla2/dataset/Final/rotate90-coconutmite-Mite-Port-Vila_4394.png\n",
      "(28, 28, 3)\n",
      "/home/fjcamillo/Desktop/Hackzilla2/dataset/Final/rotate45-rhino-1.png\n",
      "(28, 28, 3)\n",
      "/home/fjcamillo/Desktop/Hackzilla2/dataset/Final/flip-rhino-21692293501_65b7f56649_o.png\n",
      "(28, 28, 3)\n",
      "/home/fjcamillo/Desktop/Hackzilla2/dataset/Final/resized-lethalyellow-dollet-photo-1_lightbox.png\n",
      "(28, 28, 3)\n",
      "/home/fjcamillo/Desktop/Hackzilla2/dataset/Final/rotate45-stembleeding-dm15.png\n",
      "(28, 28, 3)\n",
      "/home/fjcamillo/Desktop/Hackzilla2/dataset/Final/rotate45-lethalyellow-2008-04-18e.png\n",
      "(28, 28, 3)\n",
      "/home/fjcamillo/Desktop/Hackzilla2/dataset/Final/resized-coconutmite-1254.png\n",
      "(28, 28, 3)\n",
      "/home/fjcamillo/Desktop/Hackzilla2/dataset/Final/rotate45-stembleeding-N1.png\n",
      "(28, 28, 3)\n",
      "/home/fjcamillo/Desktop/Hackzilla2/dataset/Final/rotate45-coconutmite-red_palm_weevil_sypt001.png\n",
      "(28, 28, 3)\n",
      "/home/fjcamillo/Desktop/Hackzilla2/dataset/Final/rotate45-lethalyellow-queen-with-brown-leaf2.png\n",
      "(28, 28, 3)\n",
      "/home/fjcamillo/Desktop/Hackzilla2/dataset/Final/rotate90-coconutmite-1254264.png\n",
      "(28, 28, 3)\n",
      "/home/fjcamillo/Desktop/Hackzilla2/dataset/Final/rotate90-lethalyellow-5.png\n",
      "(28, 28, 3)\n",
      "/home/fjcamillo/Desktop/Hackzilla2/dataset/Final/flip-rhino-21495158230_44ffbbe4d2_o.png\n",
      "(28, 28, 3)\n",
      "/home/fjcamillo/Desktop/Hackzilla2/dataset/Final/resized-rhino-12544.png\n",
      "(28, 28, 3)\n",
      "/home/fjcamillo/Desktop/Hackzilla2/dataset/Final/rotate45-coconutmite-crop_prot_crop_insect_oil_coconut_clip_image002_0008.png\n",
      "(28, 28, 3)\n",
      "/home/fjcamillo/Desktop/Hackzilla2/dataset/Final/rotate45-stembleeding-stembleeding.png\n",
      "(28, 28, 3)\n",
      "/home/fjcamillo/Desktop/Hackzilla2/dataset/Final/flip-lethalyellow-LethalYellowing15.png\n",
      "(28, 28, 3)\n",
      "/home/fjcamillo/Desktop/Hackzilla2/dataset/Final/rotate45-stembleeding-Gum_and_sawdust_from_beetle_infestation_on_Carpentaria.png\n",
      "(28, 28, 3)\n",
      "/home/fjcamillo/Desktop/Hackzilla2/dataset/Final/rotate45-rhino-81781084.png\n",
      "(28, 28, 3)\n",
      "/home/fjcamillo/Desktop/Hackzilla2/dataset/Final/rotate45-stembleeding-lE9ffrZ.png\n",
      "(28, 28, 3)\n",
      "/home/fjcamillo/Desktop/Hackzilla2/dataset/Final/resized-lethalyellow-images (1).png\n",
      "(28, 28, 3)\n",
      "/home/fjcamillo/Desktop/Hackzilla2/dataset/Final/rotate45-coconutmite-mitesm.png\n",
      "(28, 28, 3)\n",
      "/home/fjcamillo/Desktop/Hackzilla2/dataset/Final/rotate90-lethalyellow-queen-with-brown-leaf2.png\n",
      "(28, 28, 3)\n",
      "/home/fjcamillo/Desktop/Hackzilla2/dataset/Final/rotate90-stembleeding-coconut_palm_x.png\n",
      "(28, 28, 3)\n",
      "/home/fjcamillo/Desktop/Hackzilla2/dataset/Final/rotate90-coconutmite-1212.png\n",
      "(28, 28, 3)\n",
      "/home/fjcamillo/Desktop/Hackzilla2/dataset/Final/rotate45-stembleeding-bleeding-stem-rot.png\n",
      "(28, 28, 3)\n",
      "/home/fjcamillo/Desktop/Hackzilla2/dataset/Final/rotate90-coconutmite-Coconut_mite_damage2-e1449812427764-300x166.png\n",
      "(28, 28, 3)\n",
      "/home/fjcamillo/Desktop/Hackzilla2/dataset/Final/rotate90-coconutmite-132165465.png\n",
      "(28, 28, 3)\n",
      "/home/fjcamillo/Desktop/Hackzilla2/dataset/Final/flip-lethalyellow-LY_Jamaica_2005.png\n",
      "(28, 28, 3)\n",
      "/home/fjcamillo/Desktop/Hackzilla2/dataset/Final/rotate45-rhino-12165.png\n",
      "(28, 28, 3)\n",
      "/home/fjcamillo/Desktop/Hackzilla2/dataset/Final/rotate45-rhino-1254.png\n",
      "(28, 28, 3)\n",
      "/home/fjcamillo/Desktop/Hackzilla2/dataset/Final/rotate45-coconutmite-9132994058_afa8215f4d.png\n",
      "(28, 28, 3)\n",
      "/home/fjcamillo/Desktop/Hackzilla2/dataset/Final/rotate45-rhino-Oryctes damage.png\n",
      "(28, 28, 3)\n",
      "/home/fjcamillo/Desktop/Hackzilla2/dataset/Final/flip-coconutmite-1105_0.png\n",
      "(28, 28, 3)\n",
      "/home/fjcamillo/Desktop/Hackzilla2/dataset/Final/rotate45-rhino-images.png\n",
      "(28, 28, 3)\n",
      "/home/fjcamillo/Desktop/Hackzilla2/dataset/Final/resized-stembleeding-51.png\n",
      "(28, 28, 3)\n",
      "/home/fjcamillo/Desktop/Hackzilla2/dataset/Final/rotate90-coconutmite-71620661475111419.png\n",
      "(28, 28, 3)\n",
      "/home/fjcamillo/Desktop/Hackzilla2/dataset/Final/rotate45-lethalyellow-Bze-Ag-Report-14_Page_03_Image_0002.png\n",
      "(28, 28, 3)\n",
      "/home/fjcamillo/Desktop/Hackzilla2/dataset/Final/flip-stembleeding-bleeding-stem-rot.png\n",
      "(28, 28, 3)\n",
      "/home/fjcamillo/Desktop/Hackzilla2/dataset/Final/resized-stembleeding-Thielaviopsis_Trunk.png\n",
      "(28, 28, 3)\n",
      "/home/fjcamillo/Desktop/Hackzilla2/dataset/Final/flip-rhino-156496.png\n",
      "(28, 28, 3)\n",
      "/home/fjcamillo/Desktop/Hackzilla2/dataset/Final/resized-stembleeding-10.png\n",
      "(28, 28, 3)\n",
      "/home/fjcamillo/Desktop/Hackzilla2/dataset/Final/rotate45-rhino-severedamagepalau2.png\n",
      "(28, 28, 3)\n",
      "/home/fjcamillo/Desktop/Hackzilla2/dataset/Final/rotate45-stembleeding-33170183552_c64e465667_b.png\n",
      "(28, 28, 3)\n",
      "/home/fjcamillo/Desktop/Hackzilla2/dataset/Final/rotate45-rhino-21496192109_8504b89bfc_o.png\n",
      "(28, 28, 3)\n",
      "/home/fjcamillo/Desktop/Hackzilla2/dataset/Final/rotate45-coconutmite-5684782962_738761780a_o.png\n",
      "(28, 28, 3)\n",
      "/home/fjcamillo/Desktop/Hackzilla2/dataset/Final/flip-coconutmite-12546.png\n",
      "(28, 28, 3)\n",
      "/home/fjcamillo/Desktop/Hackzilla2/dataset/Final/resized-lethalyellow-pinneys coconuts.png\n",
      "(28, 28, 3)\n",
      "/home/fjcamillo/Desktop/Hackzilla2/dataset/Final/rotate45-lethalyellow-Phoenix_canariensis.png\n",
      "(28, 28, 3)\n",
      "/home/fjcamillo/Desktop/Hackzilla2/dataset/Final/rotate45-coconutmite-Mite-Port-Vila_4394.png\n",
      "(28, 28, 3)\n",
      "/home/fjcamillo/Desktop/Hackzilla2/dataset/Final/resized-rhino-ad522e04.png\n",
      "(28, 28, 3)\n",
      "/home/fjcamillo/Desktop/Hackzilla2/dataset/Final/resized-coconutmite-5684782962_738761780a_o.png\n",
      "(28, 28, 3)\n",
      "/home/fjcamillo/Desktop/Hackzilla2/dataset/Final/flip-stembleeding-2coconew_1.png\n",
      "(28, 28, 3)\n",
      "/home/fjcamillo/Desktop/Hackzilla2/dataset/Final/resized-coconutmite-mitesm.png\n",
      "(28, 28, 3)\n",
      "/home/fjcamillo/Desktop/Hackzilla2/dataset/Final/rotate45-lethalyellow-images (1).png\n",
      "(28, 28, 3)\n",
      "/home/fjcamillo/Desktop/Hackzilla2/dataset/Final/rotate90-coconutmite-i-download.png\n",
      "(28, 28, 3)\n",
      "/home/fjcamillo/Desktop/Hackzilla2/dataset/Final/rotate90-stembleeding-wound-on-lower-trunk-of-roystonia-palm.png\n",
      "(28, 28, 3)\n",
      "/home/fjcamillo/Desktop/Hackzilla2/dataset/Final/rotate90-rhino-stock-photo-diseases-of-coconut-trees-in-kerala-frond-showing-characteristic-pattern-of-damage-caused-by-341174702.png\n",
      "(28, 28, 3)\n",
      "/home/fjcamillo/Desktop/Hackzilla2/dataset/Final/flip-regular-cocosnuciferatall.png\n",
      "(28, 28, 3)\n",
      "/home/fjcamillo/Desktop/Hackzilla2/dataset/Final/rotate90-rhino-1.png\n",
      "(28, 28, 3)\n",
      "/home/fjcamillo/Desktop/Hackzilla2/dataset/Final/resized-stembleeding-53.png\n",
      "(28, 28, 3)\n",
      "/home/fjcamillo/Desktop/Hackzilla2/dataset/Final/rotate90-coconutmite-236456.png\n",
      "(28, 28, 3)\n",
      "/home/fjcamillo/Desktop/Hackzilla2/dataset/Final/rotate45-rhino-images (1).png\n",
      "(28, 28, 3)\n",
      "/home/fjcamillo/Desktop/Hackzilla2/dataset/Final/resized-rhino-1478.png\n",
      "(28, 28, 3)\n",
      "/home/fjcamillo/Desktop/Hackzilla2/dataset/Final/resized-coconutmite-mitedamagelate.png\n",
      "(28, 28, 3)\n",
      "/home/fjcamillo/Desktop/Hackzilla2/dataset/Final/flip-lethalyellow-d402f01.png\n",
      "(28, 28, 3)\n",
      "/home/fjcamillo/Desktop/Hackzilla2/dataset/Final/rotate90-rhino-125965.png\n",
      "(28, 28, 3)\n",
      "/home/fjcamillo/Desktop/Hackzilla2/dataset/Final/rotate90-rhino-Oryctes_rhinoceros01.png\n",
      "(28, 28, 3)\n",
      "/home/fjcamillo/Desktop/Hackzilla2/dataset/Final/rotate45-lethalyellow-lethal-yellowing-coconut.png\n",
      "(28, 28, 3)\n",
      "/home/fjcamillo/Desktop/Hackzilla2/dataset/Final/resized-regular-coconut-palm-2.png\n",
      "(28, 28, 3)\n",
      "/home/fjcamillo/Desktop/Hackzilla2/dataset/Final/rotate90-rhino-images.png\n",
      "(28, 28, 3)\n",
      "/home/fjcamillo/Desktop/Hackzilla2/dataset/Final/rotate90-rhino-21496192109_8504b89bfc_o.png\n",
      "(28, 28, 3)\n",
      "/home/fjcamillo/Desktop/Hackzilla2/dataset/Final/resized-rhino-Oryctes_rhinoceros01 (1).png\n",
      "(28, 28, 3)\n",
      "/home/fjcamillo/Desktop/Hackzilla2/dataset/Final/resized-coconutmite-9717450317_b2a91112c0_o.png\n",
      "(28, 28, 3)\n",
      "/home/fjcamillo/Desktop/Hackzilla2/dataset/Final/resized-lethalyellow-Bze-Ag-Report-14_Page_03_Image_0002.png\n",
      "(28, 28, 3)\n",
      "/home/fjcamillo/Desktop/Hackzilla2/dataset/Final/flip-coconutmite-9132994058_afa8215f4d.png\n",
      "(28, 28, 3)\n",
      "/home/fjcamillo/Desktop/Hackzilla2/dataset/Final/resized-stembleeding-stem-bleeding-rot.png\n",
      "(28, 28, 3)\n",
      "/home/fjcamillo/Desktop/Hackzilla2/dataset/Final/rotate90-stembleeding-stem-bleeding-rot.png\n",
      "(28, 28, 3)\n",
      "/home/fjcamillo/Desktop/Hackzilla2/dataset/Final/rotate45-lethalyellow-PlantViruses30.png\n",
      "(28, 28, 3)\n",
      "/home/fjcamillo/Desktop/Hackzilla2/dataset/Final/rotate45-stembleeding-P1010122.png\n",
      "(28, 28, 3)\n",
      "/home/fjcamillo/Desktop/Hackzilla2/dataset/Final/rotate45-lethalyellow-images (3).png\n",
      "(28, 28, 3)\n",
      "/home/fjcamillo/Desktop/Hackzilla2/dataset/Final/flip-lethalyellow-pinneys coconuts.png\n",
      "(28, 28, 3)\n",
      "/home/fjcamillo/Desktop/Hackzilla2/dataset/Final/resized-coconutmite-132165465.png\n",
      "(28, 28, 3)\n",
      "/home/fjcamillo/Desktop/Hackzilla2/dataset/Final/resized-lethalyellow-palms-coconut-vdamaged.png\n",
      "(28, 28, 3)\n",
      "/home/fjcamillo/Desktop/Hackzilla2/dataset/Final/rotate45-stembleeding-Thielaviopsis_TrunkBleeding.png\n",
      "(28, 28, 3)\n",
      "/home/fjcamillo/Desktop/Hackzilla2/dataset/Final/flip-lethalyellow-LethalYellowing03.png\n",
      "(28, 28, 3)\n",
      "/home/fjcamillo/Desktop/Hackzilla2/dataset/Final/flip-stembleeding-8810309820_eb4c097b12_b.png\n",
      "(28, 28, 3)\n",
      "/home/fjcamillo/Desktop/Hackzilla2/dataset/Final/resized-coconutmite-Coco_fruit_skin05lite.png\n",
      "(28, 28, 3)\n",
      "/home/fjcamillo/Desktop/Hackzilla2/dataset/Final/rotate90-lethalyellow-images (3).png\n",
      "(28, 28, 3)\n",
      "/home/fjcamillo/Desktop/Hackzilla2/dataset/Final/resized-lethalyellow-LethalYellowing03.png\n",
      "(28, 28, 3)\n",
      "/home/fjcamillo/Desktop/Hackzilla2/dataset/Final/resized-coconutmite-rat001.png\n",
      "(28, 28, 3)\n",
      "/home/fjcamillo/Desktop/Hackzilla2/dataset/Final/rotate90-lethalyellow-dollet-photo-1_lightbox.png\n",
      "(28, 28, 3)\n",
      "/home/fjcamillo/Desktop/Hackzilla2/dataset/Final/resized-coconutmite-9130785469_a020f12f29_o.png\n",
      "(28, 28, 3)\n",
      "/home/fjcamillo/Desktop/Hackzilla2/dataset/Final/resized-stembleeding-dm15.png\n",
      "(28, 28, 3)\n",
      "/home/fjcamillo/Desktop/Hackzilla2/dataset/Final/rotate90-coconutmite-1.png\n",
      "(28, 28, 3)\n",
      "/home/fjcamillo/Desktop/Hackzilla2/dataset/Final/resized-stembleeding-dm16.png\n",
      "(28, 28, 3)\n",
      "/home/fjcamillo/Desktop/Hackzilla2/dataset/Final/flip-coconutmite-154.png\n",
      "(28, 28, 3)\n",
      "/home/fjcamillo/Desktop/Hackzilla2/dataset/Final/rotate90-lethalyellow-Bze-Ag-Report-14_Page_03_Image_0002.png\n",
      "(28, 28, 3)\n",
      "/home/fjcamillo/Desktop/Hackzilla2/dataset/Final/resized-lethalyellow-YooniqImages_221395920.png\n",
      "(28, 28, 3)\n",
      "/home/fjcamillo/Desktop/Hackzilla2/dataset/Final/rotate90-lethalyellow-tinangaja2.png\n",
      "(28, 28, 3)\n",
      "/home/fjcamillo/Desktop/Hackzilla2/dataset/Final/rotate45-rhino-CRB_damage-hole-Nelson1.png\n",
      "(28, 28, 3)\n",
      "/home/fjcamillo/Desktop/Hackzilla2/dataset/Final/rotate45-stembleeding-4117.png\n",
      "(28, 28, 3)\n",
      "/home/fjcamillo/Desktop/Hackzilla2/dataset/Final/flip-rhino-1254769.png\n",
      "(28, 28, 3)\n",
      "/home/fjcamillo/Desktop/Hackzilla2/dataset/Final/rotate90-lethalyellow-5476151.png\n",
      "(28, 28, 3)\n",
      "/home/fjcamillo/Desktop/Hackzilla2/dataset/Final/rotate45-stembleeding-2coconew_1.png\n",
      "(28, 28, 3)\n",
      "/home/fjcamillo/Desktop/Hackzilla2/dataset/Final/rotate90-lethalyellow-lethalyellowing.png\n",
      "(28, 28, 3)\n",
      "/home/fjcamillo/Desktop/Hackzilla2/dataset/Final/rotate45-lethalyellow-563597_0.png\n",
      "(28, 28, 3)\n",
      "/home/fjcamillo/Desktop/Hackzilla2/dataset/Final/flip-lethalyellow-LY_Jamaica_Overview.png\n",
      "(28, 28, 3)\n",
      "/home/fjcamillo/Desktop/Hackzilla2/dataset/Final/rotate45-coconutmite-rat001.png\n",
      "(28, 28, 3)\n",
      "/home/fjcamillo/Desktop/Hackzilla2/dataset/Final/rotate90-lethalyellow-images (1).png\n",
      "(28, 28, 3)\n",
      "/home/fjcamillo/Desktop/Hackzilla2/dataset/Final/rotate45-lethalyellow-LY_Jamaica_Overview.png\n",
      "(28, 28, 3)\n",
      "/home/fjcamillo/Desktop/Hackzilla2/dataset/Final/flip-coconutmite-1.png\n",
      "(28, 28, 3)\n",
      "/home/fjcamillo/Desktop/Hackzilla2/dataset/Final/resized-lethalyellow-LethalYellowing15.png\n",
      "(28, 28, 3)\n",
      "/home/fjcamillo/Desktop/Hackzilla2/dataset/Final/resized-coconutmite-samoan_coco_eriophyid_mites_1.png\n",
      "(28, 28, 3)\n",
      "/home/fjcamillo/Desktop/Hackzilla2/dataset/Final/resized-rhino-images (2).png\n",
      "(28, 28, 3)\n",
      "/home/fjcamillo/Desktop/Hackzilla2/dataset/Final/rotate45-coconutmite-2.png\n",
      "(28, 28, 3)\n",
      "/home/fjcamillo/Desktop/Hackzilla2/dataset/Final/resized-rhino-1254.png\n",
      "(28, 28, 3)\n",
      "/home/fjcamillo/Desktop/Hackzilla2/dataset/Final/rotate90-lethalyellow-palms-coconut-vdamaged.png\n",
      "(28, 28, 3)\n",
      "/home/fjcamillo/Desktop/Hackzilla2/dataset/Final/flip-lethalyellow-DSC04863.png\n",
      "(28, 28, 3)\n",
      "/home/fjcamillo/Desktop/Hackzilla2/dataset/Final/resized-stembleeding-5684239787_65feaa8c2f_b.png\n",
      "(28, 28, 3)\n",
      "/home/fjcamillo/Desktop/Hackzilla2/dataset/Final/resized-rhino-140208213030-05-coconut-rhinoceros-beetle-horizontal-large-gallery.png\n",
      "(28, 28, 3)\n",
      "/home/fjcamillo/Desktop/Hackzilla2/dataset/Final/rotate45-rhino-severedamagepalau.png\n",
      "(28, 28, 3)\n",
      "/home/fjcamillo/Desktop/Hackzilla2/dataset/Final/resized-coconutmite-Coconut_mite_damage.png\n",
      "(28, 28, 3)\n",
      "/home/fjcamillo/Desktop/Hackzilla2/dataset/Final/flip-stembleeding-33170183552_c64e465667_b.png\n",
      "(28, 28, 3)\n",
      "/home/fjcamillo/Desktop/Hackzilla2/dataset/Final/rotate45-regular-coconut-palm-2.png\n",
      "(28, 28, 3)\n",
      "/home/fjcamillo/Desktop/Hackzilla2/dataset/Final/rotate45-coconutmite-Capture.png\n",
      "(28, 28, 3)\n",
      "/home/fjcamillo/Desktop/Hackzilla2/dataset/Final/rotate90-coconutmite-154.png\n",
      "(28, 28, 3)\n",
      "/home/fjcamillo/Desktop/Hackzilla2/dataset/Final/flip-rhino-21496283709_be697c4f46_o.png\n",
      "(28, 28, 3)\n",
      "/home/fjcamillo/Desktop/Hackzilla2/dataset/Final/rotate45-coconutmite-132165.png\n",
      "(28, 28, 3)\n",
      "/home/fjcamillo/Desktop/Hackzilla2/dataset/Final/rotate45-lethalyellow-1455442_orig.png\n",
      "(28, 28, 3)\n",
      "/home/fjcamillo/Desktop/Hackzilla2/dataset/Final/flip-rhino-140208213030-05-coconut-rhinoceros-beetle-horizontal-large-gallery.png\n",
      "(28, 28, 3)\n",
      "/home/fjcamillo/Desktop/Hackzilla2/dataset/Final/rotate90-lethalyellow-Phoenix_canariensis.png\n",
      "(28, 28, 3)\n",
      "/home/fjcamillo/Desktop/Hackzilla2/dataset/Final/flip-stembleeding-bleeding_Xmas_palm_trunk.png\n",
      "(28, 28, 3)\n",
      "/home/fjcamillo/Desktop/Hackzilla2/dataset/Final/flip-rhino-images (1).png\n",
      "(28, 28, 3)\n",
      "/home/fjcamillo/Desktop/Hackzilla2/dataset/Final/resized-coconutmite-154.png\n",
      "(28, 28, 3)\n",
      "/home/fjcamillo/Desktop/Hackzilla2/dataset/Final/rotate90-stembleeding-yellowleafdiseasetreated.png\n",
      "(28, 28, 3)\n",
      "/home/fjcamillo/Desktop/Hackzilla2/dataset/Final/flip-coconutmite-71620661475111419.png\n",
      "(28, 28, 3)\n",
      "/home/fjcamillo/Desktop/Hackzilla2/dataset/Final/resized-rhino-21496192109_8504b89bfc_o.png\n",
      "(28, 28, 3)\n",
      "/home/fjcamillo/Desktop/Hackzilla2/dataset/Final/resized-coconutmite-30104202625_f73fbb3961_o.png\n",
      "(28, 28, 3)\n",
      "/home/fjcamillo/Desktop/Hackzilla2/dataset/Final/rotate90-stembleeding-Thielaviopsis_TrunkBleeding.png\n",
      "(28, 28, 3)\n",
      "/home/fjcamillo/Desktop/Hackzilla2/dataset/Final/flip-stembleeding-53.png\n",
      "(28, 28, 3)\n",
      "/home/fjcamillo/Desktop/Hackzilla2/dataset/Final/resized-coconutmite-14257.png\n",
      "(28, 28, 3)\n",
      "/home/fjcamillo/Desktop/Hackzilla2/dataset/Final/rotate90-rhino-Oryctes_rhinoceros01 (1).png\n",
      "(28, 28, 3)\n",
      "/home/fjcamillo/Desktop/Hackzilla2/dataset/Final/rotate90-coconutmite-37.png\n",
      "(28, 28, 3)\n",
      "/home/fjcamillo/Desktop/Hackzilla2/dataset/Final/rotate90-stembleeding-Gum_and_sawdust_from_beetle_infestation_on_Carpentaria.png\n",
      "(28, 28, 3)\n",
      "/home/fjcamillo/Desktop/Hackzilla2/dataset/Final/rotate90-coconutmite-1095.png\n",
      "(28, 28, 3)\n",
      "/home/fjcamillo/Desktop/Hackzilla2/dataset/Final/rotate45-coconutmite-4.png\n",
      "(28, 28, 3)\n",
      "/home/fjcamillo/Desktop/Hackzilla2/dataset/Final/rotate45-lethalyellow-pel7a.png\n",
      "(28, 28, 3)\n",
      "/home/fjcamillo/Desktop/Hackzilla2/dataset/Final/rotate45-lethalyellow-images.png\n",
      "(28, 28, 3)\n",
      "/home/fjcamillo/Desktop/Hackzilla2/dataset/Final/rotate90-rhino-3-Boring-Holes.png\n",
      "(28, 28, 3)\n",
      "/home/fjcamillo/Desktop/Hackzilla2/dataset/Final/resized-coconutmite-2.png\n",
      "(28, 28, 3)\n",
      "/home/fjcamillo/Desktop/Hackzilla2/dataset/Final/rotate90-rhino-CRB_damage-hole-Nelson1.png\n",
      "(28, 28, 3)\n",
      "/home/fjcamillo/Desktop/Hackzilla2/dataset/Final/resized-stembleeding-4117.png\n",
      "(28, 28, 3)\n",
      "/home/fjcamillo/Desktop/Hackzilla2/dataset/Final/flip-lethalyellow-5476151.png\n",
      "(28, 28, 3)\n",
      "/home/fjcamillo/Desktop/Hackzilla2/dataset/Final/rotate90-rhino-CRB-Feeding-Damage.png\n",
      "(28, 28, 3)\n",
      "/home/fjcamillo/Desktop/Hackzilla2/dataset/Final/flip-coconutmite-Coco_fruit_skin04lite.png\n",
      "(28, 28, 3)\n",
      "/home/fjcamillo/Desktop/Hackzilla2/dataset/Final/resized-coconutmite-1215462.png\n",
      "(28, 28, 3)\n",
      "/home/fjcamillo/Desktop/Hackzilla2/dataset/Final/resized-lethalyellow-DSC04863.png\n",
      "(28, 28, 3)\n",
      "/home/fjcamillo/Desktop/Hackzilla2/dataset/Final/flip-rhino-1254.png\n",
      "(28, 28, 3)\n",
      "/home/fjcamillo/Desktop/Hackzilla2/dataset/Final/flip-regular-coconut-palm-2.png\n",
      "(28, 28, 3)\n",
      "/home/fjcamillo/Desktop/Hackzilla2/dataset/Final/resized-regular-Coconut_Trees_in_Dhofar_Oman.png\n",
      "(28, 28, 3)\n",
      "/home/fjcamillo/Desktop/Hackzilla2/dataset/Final/flip-lethalyellow-pel7a.png\n",
      "(28, 28, 3)\n",
      "/home/fjcamillo/Desktop/Hackzilla2/dataset/Final/rotate45-coconutmite-mitedamagelate.png\n",
      "(28, 28, 3)\n",
      "/home/fjcamillo/Desktop/Hackzilla2/dataset/Final/rotate90-rhino-beetle_damage.png\n",
      "(28, 28, 3)\n",
      "/home/fjcamillo/Desktop/Hackzilla2/dataset/Final/rotate90-lethalyellow-ly_tree2Sm.png\n",
      "(28, 28, 3)\n",
      "/home/fjcamillo/Desktop/Hackzilla2/dataset/Final/rotate45-stembleeding-Palm_1.png\n",
      "(28, 28, 3)\n",
      "/home/fjcamillo/Desktop/Hackzilla2/dataset/Final/resized-stembleeding-wound-on-lower-trunk-of-roystonia-palm.png\n",
      "(28, 28, 3)\n",
      "/home/fjcamillo/Desktop/Hackzilla2/dataset/Final/resized-lethalyellow-YooniqImages_221395948.png\n",
      "(28, 28, 3)\n",
      "/home/fjcamillo/Desktop/Hackzilla2/dataset/Final/resized-rhino-CRB-Feeding-Damage.png\n",
      "(28, 28, 3)\n",
      "/home/fjcamillo/Desktop/Hackzilla2/dataset/Final/rotate90-lethalyellow-images.png\n",
      "(28, 28, 3)\n",
      "/home/fjcamillo/Desktop/Hackzilla2/dataset/Final/rotate90-coconutmite-576842.png\n",
      "(28, 28, 3)\n",
      "/home/fjcamillo/Desktop/Hackzilla2/dataset/Final/rotate45-coconutmite-1212.png\n",
      "(28, 28, 3)\n",
      "/home/fjcamillo/Desktop/Hackzilla2/dataset/Final/rotate90-stembleeding-6.png\n",
      "(28, 28, 3)\n",
      "/home/fjcamillo/Desktop/Hackzilla2/dataset/Final/rotate90-stembleeding-lE9ffrZ.png\n",
      "(28, 28, 3)\n",
      "/home/fjcamillo/Desktop/Hackzilla2/dataset/Final/rotate45-rhino-RB-Damage_site_3.png\n",
      "(28, 28, 3)\n",
      "/home/fjcamillo/Desktop/Hackzilla2/dataset/Final/rotate90-coconutmite-9132994058_afa8215f4d.png\n",
      "(28, 28, 3)\n",
      "/home/fjcamillo/Desktop/Hackzilla2/dataset/Final/flip-lethalyellow-images (1).png\n",
      "(28, 28, 3)\n",
      "/home/fjcamillo/Desktop/Hackzilla2/dataset/Final/flip-coconutmite-1212.png\n",
      "(28, 28, 3)\n",
      "/home/fjcamillo/Desktop/Hackzilla2/dataset/Final/resized-lethalyellow-download.png\n",
      "(28, 28, 3)\n",
      "/home/fjcamillo/Desktop/Hackzilla2/dataset/Final/rotate90-coconutmite-CoconutMites2.png\n",
      "(28, 28, 3)\n",
      "/home/fjcamillo/Desktop/Hackzilla2/dataset/Final/rotate90-coconutmite-116549.png\n",
      "(28, 28, 3)\n",
      "/home/fjcamillo/Desktop/Hackzilla2/dataset/Final/flip-lethalyellow-dollet-photo-1_lightbox.png\n",
      "(28, 28, 3)\n",
      "/home/fjcamillo/Desktop/Hackzilla2/dataset/Final/rotate90-stembleeding-P1010122.png\n",
      "(28, 28, 3)\n",
      "/home/fjcamillo/Desktop/Hackzilla2/dataset/Final/rotate90-rhino-CRB-Boring-hole.png\n",
      "(28, 28, 3)\n",
      "/home/fjcamillo/Desktop/Hackzilla2/dataset/Final/rotate45-rhino-hqdefault.png\n",
      "(28, 28, 3)\n",
      "/home/fjcamillo/Desktop/Hackzilla2/dataset/Final/rotate90-coconutmite-red_palm_weevil_sypt001.png\n",
      "(28, 28, 3)\n",
      "/home/fjcamillo/Desktop/Hackzilla2/dataset/Final/rotate45-stembleeding-5684239787_65feaa8c2f_b.png\n",
      "(28, 28, 3)\n",
      "/home/fjcamillo/Desktop/Hackzilla2/dataset/Final/rotate90-lethalyellow-YooniqImages_221395948.png\n",
      "(28, 28, 3)\n",
      "/home/fjcamillo/Desktop/Hackzilla2/dataset/Final/resized-lethalyellow-d402f01.png\n",
      "(28, 28, 3)\n",
      "/home/fjcamillo/Desktop/Hackzilla2/dataset/Final/rotate90-stembleeding-bleeding-stem-rot.png\n",
      "(28, 28, 3)\n",
      "/home/fjcamillo/Desktop/Hackzilla2/dataset/Final/resized-lethalyellow-LethalYellowingFoliarSymptoms.png\n",
      "(28, 28, 3)\n",
      "/home/fjcamillo/Desktop/Hackzilla2/dataset/Final/rotate45-coconutmite-1254264.png\n",
      "(28, 28, 3)\n",
      "/home/fjcamillo/Desktop/Hackzilla2/dataset/Final/flip-lethalyellow-5.png\n",
      "(28, 28, 3)\n",
      "/home/fjcamillo/Desktop/Hackzilla2/dataset/Final/rotate90-lethalyellow-LY_Jamaica_Overview.png\n",
      "(28, 28, 3)\n",
      "/home/fjcamillo/Desktop/Hackzilla2/dataset/Final/flip-lethalyellow-YooniqImages_221395920.png\n",
      "(28, 28, 3)\n",
      "/home/fjcamillo/Desktop/Hackzilla2/dataset/Final/flip-rhino-21062132553_a0aba80212_o.png\n",
      "(28, 28, 3)\n",
      "/home/fjcamillo/Desktop/Hackzilla2/dataset/Final/resized-rhino-125965.png\n",
      "(28, 28, 3)\n",
      "/home/fjcamillo/Desktop/Hackzilla2/dataset/Final/flip-rhino-1478.png\n",
      "(28, 28, 3)\n",
      "/home/fjcamillo/Desktop/Hackzilla2/dataset/Final/resized-stembleeding-33170183552_c64e465667_b.png\n",
      "(28, 28, 3)\n",
      "/home/fjcamillo/Desktop/Hackzilla2/dataset/Final/flip-coconutmite-9717450317_b2a91112c0_o.png\n",
      "(28, 28, 3)\n",
      "/home/fjcamillo/Desktop/Hackzilla2/dataset/Final/flip-rhino-images.png\n",
      "(28, 28, 3)\n",
      "/home/fjcamillo/Desktop/Hackzilla2/dataset/Final/rotate45-rhino-CRB-Feeding-Damage.png\n",
      "(28, 28, 3)\n",
      "/home/fjcamillo/Desktop/Hackzilla2/dataset/Final/flip-rhino-CRB-Feeding-Damage.png\n",
      "(28, 28, 3)\n",
      "/home/fjcamillo/Desktop/Hackzilla2/dataset/Final/rotate90-coconutmite-2.png\n",
      "(28, 28, 3)\n",
      "/home/fjcamillo/Desktop/Hackzilla2/dataset/Final/rotate45-lethalyellow-YooniqImages_221395920.png\n",
      "(28, 28, 3)\n",
      "/home/fjcamillo/Desktop/Hackzilla2/dataset/Final/rotate45-lethalyellow-LethalYellowing15.png\n",
      "(28, 28, 3)\n",
      "/home/fjcamillo/Desktop/Hackzilla2/dataset/Final/rotate45-coconutmite-576842.png\n",
      "(28, 28, 3)\n",
      "/home/fjcamillo/Desktop/Hackzilla2/dataset/Final/resized-rhino-Oryctes_rhinoceros01.png\n",
      "(28, 28, 3)\n",
      "/home/fjcamillo/Desktop/Hackzilla2/dataset/Final/rotate90-coconutmite-Capture.png\n",
      "(28, 28, 3)\n",
      "/home/fjcamillo/Desktop/Hackzilla2/dataset/Final/rotate90-rhino-severedamagepalau.png\n",
      "(28, 28, 3)\n",
      "/home/fjcamillo/Desktop/Hackzilla2/dataset/Final/resized-stembleeding-stemblsy.png\n",
      "(28, 28, 3)\n",
      "/home/fjcamillo/Desktop/Hackzilla2/dataset/Final/resized-rhino-severedamagepalau.png\n",
      "(28, 28, 3)\n",
      "/home/fjcamillo/Desktop/Hackzilla2/dataset/Final/flip-lethalyellow-tinangaja2.png\n",
      "(28, 28, 3)\n",
      "/home/fjcamillo/Desktop/Hackzilla2/dataset/Final/flip-rhino-Oryctes_rhinoceros01.png\n",
      "(28, 28, 3)\n",
      "/home/fjcamillo/Desktop/Hackzilla2/dataset/Final/resized-lethalyellow-563597_0.png\n",
      "(28, 28, 3)\n",
      "/home/fjcamillo/Desktop/Hackzilla2/dataset/Final/resized-rhino-18475003604_131ab7f0da_o.png\n",
      "(28, 28, 3)\n",
      "/home/fjcamillo/Desktop/Hackzilla2/dataset/Final/rotate90-rhino-12544.png\n",
      "(28, 28, 3)\n",
      "/home/fjcamillo/Desktop/Hackzilla2/dataset/Final/rotate45-coconutmite-1105_0.png\n",
      "(28, 28, 3)\n",
      "/home/fjcamillo/Desktop/Hackzilla2/dataset/Final/rotate45-coconutmite-Coconut_mite_damage.png\n",
      "(28, 28, 3)\n",
      "/home/fjcamillo/Desktop/Hackzilla2/dataset/Final/resized-coconutmite-37.png\n",
      "(28, 28, 3)\n",
      "/home/fjcamillo/Desktop/Hackzilla2/dataset/Final/resized-stembleeding-lE9ffrZ.png\n",
      "(28, 28, 3)\n",
      "/home/fjcamillo/Desktop/Hackzilla2/dataset/Final/resized-coconutmite-9132994058_afa8215f4d.png\n",
      "(28, 28, 3)\n",
      "/home/fjcamillo/Desktop/Hackzilla2/dataset/Final/flip-rhino-OryctespalmdamageinGuam.png\n",
      "(28, 28, 3)\n",
      "/home/fjcamillo/Desktop/Hackzilla2/dataset/Final/rotate45-rhino-19874539088_968ffb8d6e_o.png\n",
      "(28, 28, 3)\n",
      "/home/fjcamillo/Desktop/Hackzilla2/dataset/Final/flip-rhino-125965.png\n",
      "(28, 28, 3)\n",
      "/home/fjcamillo/Desktop/Hackzilla2/dataset/Final/flip-lethalyellow-queen-with-brown-leaf2.png\n",
      "(28, 28, 3)\n",
      "/home/fjcamillo/Desktop/Hackzilla2/dataset/Final/rotate90-coconutmite-14257.png\n",
      "(28, 28, 3)\n",
      "/home/fjcamillo/Desktop/Hackzilla2/dataset/Final/rotate45-lethalyellow-palms-coconut-vdamaged.png\n",
      "(28, 28, 3)\n",
      "/home/fjcamillo/Desktop/Hackzilla2/dataset/Final/flip-lethalyellow-PlantViruses30.png\n",
      "(28, 28, 3)\n",
      "/home/fjcamillo/Desktop/Hackzilla2/dataset/Final/rotate45-rhino-21495158230_44ffbbe4d2_o.png\n",
      "(28, 28, 3)\n",
      "/home/fjcamillo/Desktop/Hackzilla2/dataset/Final/flip-coconutmite-30104202625_f73fbb3961_o.png\n",
      "(28, 28, 3)\n",
      "/home/fjcamillo/Desktop/Hackzilla2/dataset/Final/rotate45-rhino-156496.png\n",
      "(28, 28, 3)\n",
      "/home/fjcamillo/Desktop/Hackzilla2/dataset/Final/resized-lethalyellow-i-download.png\n",
      "(28, 28, 3)\n",
      "/home/fjcamillo/Desktop/Hackzilla2/dataset/Final/resized-coconutmite-Coco_fruit_skin05lite (1).png\n",
      "(28, 28, 3)\n",
      "/home/fjcamillo/Desktop/Hackzilla2/dataset/Final/rotate45-stembleeding-stemblsy.png\n",
      "(28, 28, 3)\n",
      "/home/fjcamillo/Desktop/Hackzilla2/dataset/Final/rotate45-coconutmite-14257.png\n",
      "(28, 28, 3)\n",
      "/home/fjcamillo/Desktop/Hackzilla2/dataset/Final/flip-coconutmite-1095.png\n",
      "(28, 28, 3)\n",
      "/home/fjcamillo/Desktop/Hackzilla2/dataset/Final/rotate45-rhino-maxresdefault.png\n",
      "(28, 28, 3)\n",
      "/home/fjcamillo/Desktop/Hackzilla2/dataset/Final/rotate90-rhino-images (1).png\n",
      "(28, 28, 3)\n",
      "/home/fjcamillo/Desktop/Hackzilla2/dataset/Final/rotate90-stembleeding-stembleeding001.png\n",
      "(28, 28, 3)\n",
      "/home/fjcamillo/Desktop/Hackzilla2/dataset/Final/rotate90-lethalyellow-pinneys coconuts.png\n",
      "(28, 28, 3)\n",
      "/home/fjcamillo/Desktop/Hackzilla2/dataset/Final/flip-coconutmite-4.png\n",
      "(28, 28, 3)\n",
      "/home/fjcamillo/Desktop/Hackzilla2/dataset/Final/flip-coconutmite-i-download (1).png\n",
      "(28, 28, 3)\n",
      "/home/fjcamillo/Desktop/Hackzilla2/dataset/Final/flip-rhino-18475003604_131ab7f0da_o.png\n",
      "(28, 28, 3)\n",
      "/home/fjcamillo/Desktop/Hackzilla2/dataset/Final/rotate45-coconutmite-116549.png\n",
      "(28, 28, 3)\n",
      "/home/fjcamillo/Desktop/Hackzilla2/dataset/Final/rotate90-lethalyellow-LethalYellowing03.png\n",
      "(28, 28, 3)\n",
      "/home/fjcamillo/Desktop/Hackzilla2/dataset/Final/flip-stembleeding-stembleeding001.png\n",
      "(28, 28, 3)\n",
      "/home/fjcamillo/Desktop/Hackzilla2/dataset/Final/resized-rhino-images.png\n",
      "(28, 28, 3)\n",
      "/home/fjcamillo/Desktop/Hackzilla2/dataset/Final/resized-stembleeding-stembleeding001.png\n",
      "(28, 28, 3)\n",
      "/home/fjcamillo/Desktop/Hackzilla2/dataset/Final/resized-lethalyellow-5.png\n",
      "(28, 28, 3)\n",
      "/home/fjcamillo/Desktop/Hackzilla2/dataset/Final/rotate45-stembleeding-yellowleafdiseasetreated.png\n",
      "(28, 28, 3)\n",
      "/home/fjcamillo/Desktop/Hackzilla2/dataset/Final/rotate90-coconutmite-mitesm.png\n",
      "(28, 28, 3)\n",
      "/home/fjcamillo/Desktop/Hackzilla2/dataset/Final/resized-lethalyellow-800x480_IMAGE62601526.png\n",
      "(28, 28, 3)\n",
      "/home/fjcamillo/Desktop/Hackzilla2/dataset/Final/flip-coconutmite-crop_prot_crop_insect_oil_coconut_clip_image002_0008.png\n",
      "(28, 28, 3)\n",
      "/home/fjcamillo/Desktop/Hackzilla2/dataset/Final/rotate90-rhino-1478.png\n",
      "(28, 28, 3)\n",
      "/home/fjcamillo/Desktop/Hackzilla2/dataset/Final/rotate90-rhino-21495158230_44ffbbe4d2_o.png\n",
      "(28, 28, 3)\n",
      "/home/fjcamillo/Desktop/Hackzilla2/dataset/Final/resized-coconutmite-75.png\n",
      "(28, 28, 3)\n",
      "/home/fjcamillo/Desktop/Hackzilla2/dataset/Final/rotate90-rhino-ad522e04.png\n",
      "(28, 28, 3)\n",
      "/home/fjcamillo/Desktop/Hackzilla2/dataset/Final/rotate90-lethalyellow-2008-04-18e.png\n",
      "(28, 28, 3)\n",
      "/home/fjcamillo/Desktop/Hackzilla2/dataset/Final/rotate90-rhino-OryctespalmdamageinGuam.png\n",
      "(28, 28, 3)\n",
      "/home/fjcamillo/Desktop/Hackzilla2/dataset/Final/rotate45-stembleeding-51.png\n",
      "(28, 28, 3)\n",
      "/home/fjcamillo/Desktop/Hackzilla2/dataset/Final/rotate90-stembleeding-53.png\n",
      "(28, 28, 3)\n",
      "/home/fjcamillo/Desktop/Hackzilla2/dataset/Final/rotate45-coconutmite-21.png\n",
      "(28, 28, 3)\n",
      "/home/fjcamillo/Desktop/Hackzilla2/dataset/Final/rotate90-rhino-21692293501_65b7f56649_o.png\n",
      "(28, 28, 3)\n",
      "/home/fjcamillo/Desktop/Hackzilla2/dataset/Final/rotate90-rhino-19874539088_968ffb8d6e_o.png\n",
      "(28, 28, 3)\n",
      "/home/fjcamillo/Desktop/Hackzilla2/dataset/Final/rotate45-regular-Coconut_Trees_in_Dhofar_Oman.png\n",
      "(28, 28, 3)\n",
      "/home/fjcamillo/Desktop/Hackzilla2/dataset/Final/resized-rhino-i-download.png\n",
      "(28, 28, 3)\n",
      "/home/fjcamillo/Desktop/Hackzilla2/dataset/Final/resized-coconutmite-21.png\n",
      "(28, 28, 3)\n",
      "/home/fjcamillo/Desktop/Hackzilla2/dataset/Final/rotate90-coconutmite-9130785469_a020f12f29_o.png\n",
      "(28, 28, 3)\n",
      "/home/fjcamillo/Desktop/Hackzilla2/dataset/Final/rotate45-coconutmite-27229698964_c547eb809f_o.png\n",
      "(28, 28, 3)\n",
      "/home/fjcamillo/Desktop/Hackzilla2/dataset/Final/resized-rhino-12165.png\n",
      "(28, 28, 3)\n",
      "/home/fjcamillo/Desktop/Hackzilla2/dataset/Final/rotate45-coconutmite-Coconut_mite_damage2-e1449812427764-300x166.png\n",
      "(28, 28, 3)\n",
      "/home/fjcamillo/Desktop/Hackzilla2/dataset/Final/rotate45-coconutmite-1215462.png\n",
      "(28, 28, 3)\n",
      "/home/fjcamillo/Desktop/Hackzilla2/dataset/Final/resized-rhino-19874539088_968ffb8d6e_o.png\n",
      "(28, 28, 3)\n",
      "/home/fjcamillo/Desktop/Hackzilla2/dataset/Final/rotate45-rhino-ad522e04.png\n",
      "(28, 28, 3)\n",
      "/home/fjcamillo/Desktop/Hackzilla2/dataset/Final/resized-rhino-stock-photo-diseases-of-coconut-trees-in-kerala-frond-showing-characteristic-pattern-of-damage-caused-by-341174702.png\n",
      "(28, 28, 3)\n",
      "/home/fjcamillo/Desktop/Hackzilla2/dataset/Final/resized-lethalyellow-images (2).png\n",
      "(28, 28, 3)\n",
      "/home/fjcamillo/Desktop/Hackzilla2/dataset/Final/resized-stembleeding-coconut_palm_x.png\n",
      "(28, 28, 3)\n",
      "/home/fjcamillo/Desktop/Hackzilla2/dataset/Final/rotate45-rhino-stock-photo-diseases-of-coconut-trees-in-kerala-frond-showing-characteristic-pattern-of-damage-caused-by-341174702.png\n",
      "(28, 28, 3)\n",
      "/home/fjcamillo/Desktop/Hackzilla2/dataset/Final/resized-coconutmite-crop_prot_crop_insect_oil_coconut_clip_image002_0008.png\n",
      "(28, 28, 3)\n",
      "/home/fjcamillo/Desktop/Hackzilla2/dataset/Final/rotate90-coconutmite-30104202625_f73fbb3961_o.png\n",
      "(28, 28, 3)\n",
      "/home/fjcamillo/Desktop/Hackzilla2/dataset/Final/rotate45-rhino-21062132553_a0aba80212_o.png\n",
      "(28, 28, 3)\n",
      "/home/fjcamillo/Desktop/Hackzilla2/dataset/Final/flip-rhino-3-Boring-Holes.png\n",
      "(28, 28, 3)\n",
      "/home/fjcamillo/Desktop/Hackzilla2/dataset/Final/rotate45-rhino-OryctespalmdamageinGuam.png\n",
      "(28, 28, 3)\n",
      "/home/fjcamillo/Desktop/Hackzilla2/dataset/Final/rotate45-rhino-125965.png\n",
      "(28, 28, 3)\n",
      "/home/fjcamillo/Desktop/Hackzilla2/dataset/Final/rotate45-lethalyellow-d402f01.png\n",
      "(28, 28, 3)\n",
      "/home/fjcamillo/Desktop/Hackzilla2/dataset/Final/rotate90-coconutmite-132165.png\n",
      "(28, 28, 3)\n",
      "/home/fjcamillo/Desktop/Hackzilla2/dataset/Final/resized-lethalyellow-images.png\n",
      "(28, 28, 3)\n",
      "/home/fjcamillo/Desktop/Hackzilla2/dataset/Final/rotate45-stembleeding-8810309820_eb4c097b12_b.png\n",
      "(28, 28, 3)\n",
      "/home/fjcamillo/Desktop/Hackzilla2/dataset/Final/rotate90-lethalyellow-d402f01.png\n",
      "(28, 28, 3)\n",
      "/home/fjcamillo/Desktop/Hackzilla2/dataset/Final/resized-rhino-21495158230_44ffbbe4d2_o.png\n",
      "(28, 28, 3)\n",
      "/home/fjcamillo/Desktop/Hackzilla2/dataset/Final/resized-rhino-CRB-Feeding-Damage-2-e1389382788779.png\n",
      "(28, 28, 3)\n",
      "/home/fjcamillo/Desktop/Hackzilla2/dataset/Final/flip-coconutmite-3.png\n",
      "(28, 28, 3)\n",
      "/home/fjcamillo/Desktop/Hackzilla2/dataset/Final/rotate45-coconutmite-Coco_fruit_skin05lite.png\n",
      "(28, 28, 3)\n",
      "/home/fjcamillo/Desktop/Hackzilla2/dataset/Final/flip-lethalyellow-lethalyellowing.png\n",
      "(28, 28, 3)\n",
      "/home/fjcamillo/Desktop/Hackzilla2/dataset/Final/resized-coconutmite-i-download.png\n",
      "(28, 28, 3)\n",
      "/home/fjcamillo/Desktop/Hackzilla2/dataset/Final/rotate45-rhino-Oryctes_rhinoceros01 (1).png\n",
      "(28, 28, 3)\n",
      "/home/fjcamillo/Desktop/Hackzilla2/dataset/Final/rotate90-lethalyellow-coconut-diseases-only-crownless-stem-remains.png\n",
      "(28, 28, 3)\n",
      "/home/fjcamillo/Desktop/Hackzilla2/dataset/Final/flip-coconutmite-14257.png\n",
      "(28, 28, 3)\n",
      "/home/fjcamillo/Desktop/Hackzilla2/dataset/Final/flip-coconutmite-75.png\n",
      "(28, 28, 3)\n",
      "/home/fjcamillo/Desktop/Hackzilla2/dataset/Final/rotate45-coconutmite-9130785469_a020f12f29_o.png\n",
      "(28, 28, 3)\n",
      "/home/fjcamillo/Desktop/Hackzilla2/dataset/Final/rotate45-coconutmite-Coco_fruit_skin04lite.png\n",
      "(28, 28, 3)\n",
      "/home/fjcamillo/Desktop/Hackzilla2/dataset/Final/rotate90-stembleeding-4117.png\n",
      "(28, 28, 3)\n",
      "/home/fjcamillo/Desktop/Hackzilla2/dataset/Final/rotate90-rhino-156496.png\n",
      "(28, 28, 3)\n",
      "/home/fjcamillo/Desktop/Hackzilla2/dataset/Final/rotate45-coconutmite-CoconutMites2.png\n",
      "(28, 28, 3)\n",
      "/home/fjcamillo/Desktop/Hackzilla2/dataset/Final/resized-coconutmite-3.png\n",
      "(28, 28, 3)\n",
      "/home/fjcamillo/Desktop/Hackzilla2/dataset/Final/resized-coconutmite-Mite-Port-Vila_4394.png\n",
      "(28, 28, 3)\n",
      "/home/fjcamillo/Desktop/Hackzilla2/dataset/Final/resized-rhino-Oryctes damage.png\n",
      "(28, 28, 3)\n",
      "/home/fjcamillo/Desktop/Hackzilla2/dataset/Final/rotate45-stembleeding-Stem-Bleeding-of-Coconut-Scot-Nelson-sm.png\n",
      "(28, 28, 3)\n",
      "/home/fjcamillo/Desktop/Hackzilla2/dataset/Final/resized-lethalyellow-1455442_orig.png\n",
      "(28, 28, 3)\n",
      "/home/fjcamillo/Desktop/Hackzilla2/dataset/Final/resized-stembleeding-Thielaviopsis_TrunkBleeding.png\n",
      "(28, 28, 3)\n",
      "/home/fjcamillo/Desktop/Hackzilla2/dataset/Final/rotate90-coconutmite-9717450317_b2a91112c0_o.png\n",
      "(28, 28, 3)\n",
      "/home/fjcamillo/Desktop/Hackzilla2/dataset/Final/rotate45-lethalyellow-LethalYellowing03.png\n",
      "(28, 28, 3)\n",
      "/home/fjcamillo/Desktop/Hackzilla2/dataset/Final/flip-lethalyellow-i-download.png\n",
      "(28, 28, 3)\n",
      "/home/fjcamillo/Desktop/Hackzilla2/dataset/Final/resized-coconutmite-236456.png\n",
      "(28, 28, 3)\n",
      "/home/fjcamillo/Desktop/Hackzilla2/dataset/Final/rotate45-lethalyellow-DSC04863.png\n",
      "(28, 28, 3)\n",
      "/home/fjcamillo/Desktop/Hackzilla2/dataset/Final/resized-regular-cocosnuciferatall.png\n",
      "(28, 28, 3)\n",
      "/home/fjcamillo/Desktop/Hackzilla2/dataset/Final/flip-stembleeding-coco_stem_bleeding_1.png\n",
      "(28, 28, 3)\n",
      "/home/fjcamillo/Desktop/Hackzilla2/dataset/Final/flip-coconutmite-Coconut_mite_damage2-e1449812427764-300x166.png\n",
      "(28, 28, 3)\n",
      "/home/fjcamillo/Desktop/Hackzilla2/dataset/Final/flip-coconutmite-53700.png\n",
      "(28, 28, 3)\n",
      "/home/fjcamillo/Desktop/Hackzilla2/dataset/Final/rotate45-stembleeding-stembleeding001.png\n",
      "(28, 28, 3)\n",
      "/home/fjcamillo/Desktop/Hackzilla2/dataset/Final/rotate45-coconutmite-12546.png\n",
      "(28, 28, 3)\n",
      "/home/fjcamillo/Desktop/Hackzilla2/dataset/Final/resized-lethalyellow-Phoenix_canariensis.png\n",
      "(28, 28, 3)\n",
      "/home/fjcamillo/Desktop/Hackzilla2/dataset/Final/flip-rhino-severedamagepalau2.png\n",
      "(28, 28, 3)\n",
      "/home/fjcamillo/Desktop/Hackzilla2/dataset/Final/rotate90-coconutmite-53700.png\n",
      "(28, 28, 3)\n",
      "/home/fjcamillo/Desktop/Hackzilla2/dataset/Final/resized-coconutmite-Coconut_mite_damage2-e1449812427764-300x166.png\n",
      "(28, 28, 3)\n",
      "/home/fjcamillo/Desktop/Hackzilla2/dataset/Final/rotate90-stembleeding-10.png\n",
      "(28, 28, 3)\n",
      "/home/fjcamillo/Desktop/Hackzilla2/dataset/Final/rotate90-coconutmite-Coconut_mite_damage.png\n",
      "(28, 28, 3)\n",
      "/home/fjcamillo/Desktop/Hackzilla2/dataset/Final/resized-coconutmite-CoconutMites2.png\n",
      "(28, 28, 3)\n",
      "/home/fjcamillo/Desktop/Hackzilla2/dataset/Final/flip-rhino-Oryctes damage.png\n",
      "(28, 28, 3)\n",
      "/home/fjcamillo/Desktop/Hackzilla2/dataset/Final/flip-coconutmite-9130785469_a020f12f29_o.png\n",
      "(28, 28, 3)\n",
      "/home/fjcamillo/Desktop/Hackzilla2/dataset/Final/flip-coconutmite-mitesm.png\n",
      "(28, 28, 3)\n",
      "/home/fjcamillo/Desktop/Hackzilla2/dataset/Final/flip-coconutmite-1254.png\n",
      "(28, 28, 3)\n",
      "/home/fjcamillo/Desktop/Hackzilla2/dataset/Final/rotate45-lethalyellow-lethalyellowing.png\n",
      "(28, 28, 3)\n",
      "/home/fjcamillo/Desktop/Hackzilla2/dataset/Final/resized-coconutmite-116549.png\n",
      "(28, 28, 3)\n",
      "/home/fjcamillo/Desktop/Hackzilla2/dataset/Final/flip-coconutmite-CoconutMites2.png\n",
      "(28, 28, 3)\n",
      "/home/fjcamillo/Desktop/Hackzilla2/dataset/Final/flip-lethalyellow-lethal-yellowing-coconut.png\n",
      "(28, 28, 3)\n",
      "/home/fjcamillo/Desktop/Hackzilla2/dataset/Final/resized-stembleeding-coco_stem_bleeding_1.png\n",
      "(28, 28, 3)\n",
      "/home/fjcamillo/Desktop/Hackzilla2/dataset/Final/resized-stembleeding-6.png\n",
      "(28, 28, 3)\n",
      "/home/fjcamillo/Desktop/Hackzilla2/dataset/Final/rotate90-coconutmite-5684782962_738761780a_o.png\n",
      "(28, 28, 3)\n",
      "/home/fjcamillo/Desktop/Hackzilla2/dataset/Final/rotate90-coconutmite-Coco_fruit_skin05lite.png\n",
      "(28, 28, 3)\n",
      "/home/fjcamillo/Desktop/Hackzilla2/dataset/Final/flip-coconutmite-27229698964_c547eb809f_o.png\n",
      "(28, 28, 3)\n",
      "/home/fjcamillo/Desktop/Hackzilla2/dataset/Final/rotate90-lethalyellow-i-download.png\n",
      "(28, 28, 3)\n",
      "/home/fjcamillo/Desktop/Hackzilla2/dataset/Final/rotate90-coconutmite-rat002.png\n",
      "(28, 28, 3)\n",
      "/home/fjcamillo/Desktop/Hackzilla2/dataset/Final/rotate45-rhino-140208213030-05-coconut-rhinoceros-beetle-horizontal-large-gallery.png\n",
      "(28, 28, 3)\n",
      "/home/fjcamillo/Desktop/Hackzilla2/dataset/Final/flip-lethalyellow-palms-coconut-vdamaged.png\n",
      "(28, 28, 3)\n",
      "/home/fjcamillo/Desktop/Hackzilla2/dataset/Final/resized-stembleeding-52.png\n",
      "(28, 28, 3)\n",
      "/home/fjcamillo/Desktop/Hackzilla2/dataset/Final/flip-coconutmite-Coconut_mite_damage.png\n",
      "(28, 28, 3)\n",
      "/home/fjcamillo/Desktop/Hackzilla2/dataset/Final/resized-lethalyellow-chapelsm.png\n",
      "(28, 28, 3)\n",
      "/home/fjcamillo/Desktop/Hackzilla2/dataset/Final/resized-coconutmite-1095.png\n",
      "(28, 28, 3)\n",
      "/home/fjcamillo/Desktop/Hackzilla2/dataset/Final/resized-rhino-hqdefault.png\n",
      "(28, 28, 3)\n",
      "/home/fjcamillo/Desktop/Hackzilla2/dataset/Final/flip-coconutmite-236456.png\n",
      "(28, 28, 3)\n",
      "/home/fjcamillo/Desktop/Hackzilla2/dataset/Final/resized-rhino-21692293501_65b7f56649_o.png\n",
      "(28, 28, 3)\n",
      "/home/fjcamillo/Desktop/Hackzilla2/dataset/Final/flip-rhino-19874539088_968ffb8d6e_o.png\n",
      "(28, 28, 3)\n",
      "/home/fjcamillo/Desktop/Hackzilla2/dataset/Final/rotate45-lethalyellow-tinangaja2.png\n",
      "(28, 28, 3)\n",
      "/home/fjcamillo/Desktop/Hackzilla2/dataset/Final/rotate90-rhino-21496283709_be697c4f46_o.png\n",
      "(28, 28, 3)\n",
      "/home/fjcamillo/Desktop/Hackzilla2/dataset/Final/flip-lethalyellow-0656009.png\n",
      "(28, 28, 3)\n",
      "/home/fjcamillo/Desktop/Hackzilla2/dataset/Final/resized-rhino-beetle_damage.png\n",
      "(28, 28, 3)\n",
      "/home/fjcamillo/Desktop/Hackzilla2/dataset/Final/resized-stembleeding-bleeding-stem-rot.png\n",
      "(28, 28, 3)\n",
      "/home/fjcamillo/Desktop/Hackzilla2/dataset/Final/rotate45-coconutmite-i-download.png\n",
      "(28, 28, 3)\n",
      "/home/fjcamillo/Desktop/Hackzilla2/dataset/Final/resized-rhino-81781084.png\n",
      "(28, 28, 3)\n",
      "/home/fjcamillo/Desktop/Hackzilla2/dataset/Final/rotate90-lethalyellow-download.png\n",
      "(28, 28, 3)\n",
      "/home/fjcamillo/Desktop/Hackzilla2/dataset/Final/rotate90-coconutmite-12546.png\n",
      "(28, 28, 3)\n",
      "/home/fjcamillo/Desktop/Hackzilla2/dataset/Final/rotate45-stembleeding-coconut_palm_x.png\n",
      "(28, 28, 3)\n",
      "/home/fjcamillo/Desktop/Hackzilla2/dataset/Final/flip-stembleeding-6.png\n",
      "(28, 28, 3)\n",
      "/home/fjcamillo/Desktop/Hackzilla2/dataset/Final/resized-stembleeding-Gum_and_sawdust_from_beetle_infestation_on_Carpentaria.png\n",
      "(28, 28, 3)\n",
      "/home/fjcamillo/Desktop/Hackzilla2/dataset/Final/flip-stembleeding-4117.png\n",
      "(28, 28, 3)\n",
      "/home/fjcamillo/Desktop/Hackzilla2/dataset/Final/rotate45-rhino-i-download.png\n",
      "(28, 28, 3)\n",
      "/home/fjcamillo/Desktop/Hackzilla2/dataset/Final/rotate45-rhino-1478.png\n",
      "(28, 28, 3)\n",
      "/home/fjcamillo/Desktop/Hackzilla2/dataset/Final/flip-coconutmite-Coco_fruit_skin05lite.png\n",
      "(28, 28, 3)\n",
      "/home/fjcamillo/Desktop/Hackzilla2/dataset/Final/flip-coconutmite-Coco_fruit_skin05lite (1).png\n",
      "(28, 28, 3)\n",
      "/home/fjcamillo/Desktop/Hackzilla2/dataset/Final/flip-stembleeding-stembleeding.png\n",
      "(28, 28, 3)\n",
      "/home/fjcamillo/Desktop/Hackzilla2/dataset/Final/rotate90-lethalyellow-LethalYellowingFoliarSymptoms.png\n",
      "(28, 28, 3)\n",
      "/home/fjcamillo/Desktop/Hackzilla2/dataset/Final/rotate90-coconutmite-23.png\n",
      "(28, 28, 3)\n",
      "/home/fjcamillo/Desktop/Hackzilla2/dataset/Final/flip-rhino-CRB_damage-hole-Nelson1.png\n",
      "(28, 28, 3)\n",
      "/home/fjcamillo/Desktop/Hackzilla2/dataset/Final/rotate90-rhino-21062132553_a0aba80212_o.png\n",
      "(28, 28, 3)\n",
      "/home/fjcamillo/Desktop/Hackzilla2/dataset/Final/rotate90-lethalyellow-563597_0.png\n",
      "(28, 28, 3)\n",
      "/home/fjcamillo/Desktop/Hackzilla2/dataset/Final/rotate90-coconutmite-75.png\n",
      "(28, 28, 3)\n",
      "/home/fjcamillo/Desktop/Hackzilla2/dataset/Final/resized-lethalyellow-2008-04-18e.png\n",
      "(28, 28, 3)\n",
      "/home/fjcamillo/Desktop/Hackzilla2/dataset/Final/rotate90-rhino-images (2).png\n",
      "(28, 28, 3)\n",
      "/home/fjcamillo/Desktop/Hackzilla2/dataset/Final/rotate45-lethalyellow-1098_0.png\n",
      "(28, 28, 3)\n",
      "/home/fjcamillo/Desktop/Hackzilla2/dataset/Final/flip-coconutmite-132165.png\n",
      "(28, 28, 3)\n",
      "/home/fjcamillo/Desktop/Hackzilla2/dataset/Final/resized-rhino-21496283709_be697c4f46_o.png\n",
      "(28, 28, 3)\n",
      "/home/fjcamillo/Desktop/Hackzilla2/dataset/Final/rotate90-regular-Coconut_Trees_in_Dhofar_Oman.png\n",
      "(28, 28, 3)\n",
      "/home/fjcamillo/Desktop/Hackzilla2/dataset/Final/flip-coconutmite-aceria_guerreronis03.png\n",
      "(28, 28, 3)\n",
      "/home/fjcamillo/Desktop/Hackzilla2/dataset/Final/resized-coconutmite-27229698964_c547eb809f_o.png\n",
      "(28, 28, 3)\n",
      "/home/fjcamillo/Desktop/Hackzilla2/dataset/Final/rotate45-lethalyellow-110501y0.png\n",
      "(28, 28, 3)\n",
      "/home/fjcamillo/Desktop/Hackzilla2/dataset/Final/resized-rhino-severedamagepalau2.png\n",
      "(28, 28, 3)\n",
      "/home/fjcamillo/Desktop/Hackzilla2/dataset/Final/rotate90-stembleeding-Stem-Bleeding-of-Coconut-Scot-Nelson-sm.png\n",
      "(28, 28, 3)\n",
      "/home/fjcamillo/Desktop/Hackzilla2/dataset/Final/flip-coconutmite-21.png\n",
      "(28, 28, 3)\n",
      "/home/fjcamillo/Desktop/Hackzilla2/dataset/Final/rotate45-stembleeding-dm16.png\n",
      "(28, 28, 3)\n",
      "/home/fjcamillo/Desktop/Hackzilla2/dataset/Final/flip-coconutmite-rat001.png\n",
      "(28, 28, 3)\n",
      "/home/fjcamillo/Desktop/Hackzilla2/dataset/Final/resized-lethalyellow-ly_tree2Sm.png\n",
      "(28, 28, 3)\n",
      "/home/fjcamillo/Desktop/Hackzilla2/dataset/Final/rotate45-coconutmite-75.png\n",
      "(28, 28, 3)\n",
      "/home/fjcamillo/Desktop/Hackzilla2/dataset/Final/resized-rhino-RB-Damage_site_3.png\n",
      "(28, 28, 3)\n",
      "/home/fjcamillo/Desktop/Hackzilla2/dataset/Final/rotate45-lethalyellow-chapelsm.png\n",
      "(28, 28, 3)\n",
      "/home/fjcamillo/Desktop/Hackzilla2/dataset/Final/resized-coconutmite-Capture.png\n",
      "(28, 28, 3)\n",
      "/home/fjcamillo/Desktop/Hackzilla2/dataset/Final/rotate45-coconutmite-3.png\n",
      "(28, 28, 3)\n",
      "/home/fjcamillo/Desktop/Hackzilla2/dataset/Final/flip-lethalyellow-ly_tree2Sm.png\n",
      "(28, 28, 3)\n",
      "/home/fjcamillo/Desktop/Hackzilla2/dataset/Final/rotate90-rhino-18475003604_131ab7f0da_o.png\n",
      "(28, 28, 3)\n",
      "/home/fjcamillo/Desktop/Hackzilla2/dataset/Final/resized-rhino-21062132553_a0aba80212_o.png\n",
      "(28, 28, 3)\n",
      "/home/fjcamillo/Desktop/Hackzilla2/dataset/Final/flip-rhino-RB-Damage_site_3.png\n",
      "(28, 28, 3)\n",
      "/home/fjcamillo/Desktop/Hackzilla2/dataset/Final/rotate90-lethalyellow-pel7a.png\n",
      "(28, 28, 3)\n",
      "/home/fjcamillo/Desktop/Hackzilla2/dataset/Final/resized-stembleeding-Stem-Bleeding-of-Coconut-Scot-Nelson-sm.png\n",
      "(28, 28, 3)\n",
      "/home/fjcamillo/Desktop/Hackzilla2/dataset/Final/resized-coconutmite-i-download (1).png\n",
      "(28, 28, 3)\n",
      "/home/fjcamillo/Desktop/Hackzilla2/dataset/Final/rotate45-rhino-12544.png\n",
      "(28, 28, 3)\n",
      "/home/fjcamillo/Desktop/Hackzilla2/dataset/Final/flip-stembleeding-P1010122.png\n",
      "(28, 28, 3)\n",
      "/home/fjcamillo/Desktop/Hackzilla2/dataset/Final/rotate45-coconutmite-132165465.png\n",
      "(28, 28, 3)\n",
      "/home/fjcamillo/Desktop/Hackzilla2/dataset/Final/resized-stembleeding-bleeding_Xmas_palm_trunk.png\n",
      "(28, 28, 3)\n",
      "/home/fjcamillo/Desktop/Hackzilla2/dataset/Final/rotate45-coconutmite-37.png\n",
      "(28, 28, 3)\n",
      "/home/fjcamillo/Desktop/Hackzilla2/dataset/Final/resized-stembleeding-N1.png\n",
      "(28, 28, 3)\n",
      "/home/fjcamillo/Desktop/Hackzilla2/dataset/Final/rotate45-coconutmite-30104202625_f73fbb3961_o.png\n",
      "(28, 28, 3)\n",
      "/home/fjcamillo/Desktop/Hackzilla2/dataset/Final/rotate90-rhino-hqdefault.png\n",
      "(28, 28, 3)\n",
      "/home/fjcamillo/Desktop/Hackzilla2/dataset/Final/resized-coconutmite-23.png\n",
      "(28, 28, 3)\n",
      "/home/fjcamillo/Desktop/Hackzilla2/dataset/Final/resized-rhino-1234.png\n",
      "(28, 28, 3)\n",
      "/home/fjcamillo/Desktop/Hackzilla2/dataset/Final/flip-rhino-beetle_damage.png\n",
      "(28, 28, 3)\n",
      "/home/fjcamillo/Desktop/Hackzilla2/dataset/Final/resized-coconutmite-4.png\n",
      "(28, 28, 3)\n",
      "/home/fjcamillo/Desktop/Hackzilla2/dataset/Final/rotate90-stembleeding-5684239787_65feaa8c2f_b.png\n",
      "(28, 28, 3)\n",
      "/home/fjcamillo/Desktop/Hackzilla2/dataset/Final/flip-stembleeding-Thielaviopsis_TrunkBleeding.png\n",
      "(28, 28, 3)\n",
      "/home/fjcamillo/Desktop/Hackzilla2/dataset/Final/resized-coconutmite-1105_0.png\n",
      "(28, 28, 3)\n",
      "/home/fjcamillo/Desktop/Hackzilla2/dataset/Final/flip-coconutmite-116549.png\n",
      "(28, 28, 3)\n",
      "/home/fjcamillo/Desktop/Hackzilla2/dataset/Final/rotate90-stembleeding-8810309820_eb4c097b12_b.png\n",
      "(28, 28, 3)\n",
      "/home/fjcamillo/Desktop/Hackzilla2/dataset/Final/rotate90-coconutmite-1254.png\n",
      "(28, 28, 3)\n",
      "/home/fjcamillo/Desktop/Hackzilla2/dataset/Final/flip-coconutmite-576842.png\n",
      "(28, 28, 3)\n",
      "/home/fjcamillo/Desktop/Hackzilla2/dataset/Final/rotate45-rhino-3-Boring-Holes.png\n",
      "(28, 28, 3)\n",
      "/home/fjcamillo/Desktop/Hackzilla2/dataset/Final/flip-stembleeding-coconut_palm_x.png\n",
      "(28, 28, 3)\n",
      "/home/fjcamillo/Desktop/Hackzilla2/dataset/Final/rotate45-lethalyellow-YooniqImages_221395948.png\n",
      "(28, 28, 3)\n",
      "/home/fjcamillo/Desktop/Hackzilla2/dataset/Final/flip-coconutmite-23.png\n",
      "(28, 28, 3)\n",
      "/home/fjcamillo/Desktop/Hackzilla2/dataset/Final/rotate90-lethalyellow-YooniqImages_221395920.png\n",
      "(28, 28, 3)\n",
      "/home/fjcamillo/Desktop/Hackzilla2/dataset/Final/flip-rhino-Oryctes_rhinoceros01 (1).png\n",
      "(28, 28, 3)\n",
      "/home/fjcamillo/Desktop/Hackzilla2/dataset/Final/rotate90-lethalyellow-110501y0.png\n",
      "(28, 28, 3)\n",
      "/home/fjcamillo/Desktop/Hackzilla2/dataset/Final/flip-stembleeding-stem splitting.png\n",
      "(28, 28, 3)\n",
      "/home/fjcamillo/Desktop/Hackzilla2/dataset/Final/rotate45-rhino-beetle_damage.png\n",
      "(28, 28, 3)\n",
      "/home/fjcamillo/Desktop/Hackzilla2/dataset/Final/rotate45-lethalyellow-5.png\n",
      "(28, 28, 3)\n",
      "/home/fjcamillo/Desktop/Hackzilla2/dataset/Final/rotate45-lethalyellow-dollet-photo-1_lightbox.png\n",
      "(28, 28, 3)\n",
      "/home/fjcamillo/Desktop/Hackzilla2/dataset/Final/rotate90-stembleeding-dm15.png\n",
      "(28, 28, 3)\n",
      "/home/fjcamillo/Desktop/Hackzilla2/dataset/Final/rotate90-stembleeding-stem splitting.png\n",
      "(28, 28, 3)\n",
      "/home/fjcamillo/Desktop/Hackzilla2/dataset/Final/flip-lethalyellow-1098_0.png\n",
      "(28, 28, 3)\n",
      "/home/fjcamillo/Desktop/Hackzilla2/dataset/Final/flip-coconutmite-mitedamagelate.png\n",
      "(28, 28, 3)\n",
      "/home/fjcamillo/Desktop/Hackzilla2/dataset/Final/flip-coconutmite-samoan_coco_eriophyid_mites_1.png\n",
      "(28, 28, 3)\n",
      "/home/fjcamillo/Desktop/Hackzilla2/dataset/Final/rotate90-coconutmite-rat001.png\n",
      "(28, 28, 3)\n",
      "/home/fjcamillo/Desktop/Hackzilla2/dataset/Final/flip-rhino-i-download.png\n",
      "(28, 28, 3)\n",
      "/home/fjcamillo/Desktop/Hackzilla2/dataset/Final/flip-lethalyellow-YooniqImages_221395948.png\n",
      "(28, 28, 3)\n",
      "/home/fjcamillo/Desktop/Hackzilla2/dataset/Final/rotate90-stembleeding-33170183552_c64e465667_b.png\n",
      "(28, 28, 3)\n",
      "/home/fjcamillo/Desktop/Hackzilla2/dataset/Final/flip-rhino-CRB-Boring-hole.png\n",
      "(28, 28, 3)\n",
      "/home/fjcamillo/Desktop/Hackzilla2/dataset/Final/rotate45-coconutmite-1.png\n",
      "(28, 28, 3)\n",
      "/home/fjcamillo/Desktop/Hackzilla2/dataset/Final/rotate45-coconutmite-aceria_guerreronis03.png\n",
      "(28, 28, 3)\n",
      "/home/fjcamillo/Desktop/Hackzilla2/dataset/Final/rotate45-coconutmite-1254.png\n",
      "(28, 28, 3)\n",
      "/home/fjcamillo/Desktop/Hackzilla2/dataset/Final/resized-rhino-1.png\n",
      "(28, 28, 3)\n",
      "/home/fjcamillo/Desktop/Hackzilla2/dataset/Final/rotate90-coconutmite-21.png\n",
      "(28, 28, 3)\n",
      "/home/fjcamillo/Desktop/Hackzilla2/dataset/Final/rotate45-lethalyellow-images (2).png\n",
      "(28, 28, 3)\n",
      "/home/fjcamillo/Desktop/Hackzilla2/dataset/Final/rotate90-rhino-1254769.png\n",
      "(28, 28, 3)\n",
      "/home/fjcamillo/Desktop/Hackzilla2/dataset/Final/resized-rhino-images (1).png\n",
      "(28, 28, 3)\n",
      "/home/fjcamillo/Desktop/Hackzilla2/dataset/Final/flip-stembleeding-stemblsy.png\n",
      "(28, 28, 3)\n",
      "/home/fjcamillo/Desktop/Hackzilla2/dataset/Final/rotate90-stembleeding-stembleeding.png\n",
      "(28, 28, 3)\n",
      "/home/fjcamillo/Desktop/Hackzilla2/dataset/Final/rotate90-stembleeding-2coconew_1.png\n",
      "(28, 28, 3)\n",
      "/home/fjcamillo/Desktop/Hackzilla2/dataset/Final/rotate90-coconutmite-4.png\n",
      "(28, 28, 3)\n",
      "/home/fjcamillo/Desktop/Hackzilla2/dataset/Final/rotate90-stembleeding-stemblsy.png\n",
      "(28, 28, 3)\n",
      "/home/fjcamillo/Desktop/Hackzilla2/dataset/Final/rotate90-rhino-maxresdefault.png\n",
      "(28, 28, 3)\n",
      "/home/fjcamillo/Desktop/Hackzilla2/dataset/Final/rotate45-coconutmite-1095.png\n",
      "(28, 28, 3)\n",
      "/home/fjcamillo/Desktop/Hackzilla2/dataset/Final/rotate45-lethalyellow-coconut-diseases-only-crownless-stem-remains.png\n",
      "(28, 28, 3)\n",
      "/home/fjcamillo/Desktop/Hackzilla2/dataset/Final/flip-coconutmite-Capture.png\n",
      "(28, 28, 3)\n",
      "/home/fjcamillo/Desktop/Hackzilla2/dataset/Final/flip-stembleeding-52.png\n",
      "(28, 28, 3)\n",
      "/home/fjcamillo/Desktop/Hackzilla2/dataset/Final/rotate45-lethalyellow-i-download.png\n",
      "(28, 28, 3)\n",
      "/home/fjcamillo/Desktop/Hackzilla2/dataset/Final/rotate90-lethalyellow-lethal-yellowing-coconut.png\n",
      "(28, 28, 3)\n",
      "/home/fjcamillo/Desktop/Hackzilla2/dataset/Final/rotate45-stembleeding-6.png\n",
      "(28, 28, 3)\n",
      "/home/fjcamillo/Desktop/Hackzilla2/dataset/Final/rotate45-coconutmite-236456.png\n",
      "(28, 28, 3)\n",
      "/home/fjcamillo/Desktop/Hackzilla2/dataset/Final/rotate45-stembleeding-stem splitting.png\n",
      "(28, 28, 3)\n",
      "/home/fjcamillo/Desktop/Hackzilla2/dataset/Final/flip-rhino-stock-photo-diseases-of-coconut-trees-in-kerala-frond-showing-characteristic-pattern-of-damage-caused-by-341174702.png\n",
      "(28, 28, 3)\n",
      "/home/fjcamillo/Desktop/Hackzilla2/dataset/Final/flip-lethalyellow-Phoenix_canariensis.png\n",
      "(28, 28, 3)\n",
      "/home/fjcamillo/Desktop/Hackzilla2/dataset/Final/rotate90-regular-coconut-palm-2.png\n",
      "(28, 28, 3)\n",
      "/home/fjcamillo/Desktop/Hackzilla2/dataset/Final/flip-lethalyellow-LethalYellowingFoliarSymptoms.png\n",
      "(28, 28, 3)\n",
      "/home/fjcamillo/Desktop/Hackzilla2/dataset/Final/rotate45-lethalyellow-5476151.png\n",
      "(28, 28, 3)\n",
      "/home/fjcamillo/Desktop/Hackzilla2/dataset/Final/rotate45-stembleeding-Thielaviopsis_Trunk.png\n",
      "(28, 28, 3)\n",
      "/home/fjcamillo/Desktop/Hackzilla2/dataset/Final/flip-lethalyellow-coconut-diseases-only-crownless-stem-remains.png\n",
      "(28, 28, 3)\n",
      "/home/fjcamillo/Desktop/Hackzilla2/dataset/Final/rotate90-coconutmite-mitedamagelate.png\n",
      "(28, 28, 3)\n",
      "/home/fjcamillo/Desktop/Hackzilla2/dataset/Final/rotate45-rhino-Oryctes_rhinoceros01.png\n",
      "(28, 28, 3)\n",
      "/home/fjcamillo/Desktop/Hackzilla2/dataset/Final/rotate45-rhino-CRB-Feeding-Damage-2-e1389382788779.png\n",
      "(28, 28, 3)\n",
      "/home/fjcamillo/Desktop/Hackzilla2/dataset/Final/rotate90-rhino-severedamagepalau2.png\n",
      "(28, 28, 3)\n",
      "/home/fjcamillo/Desktop/Hackzilla2/dataset/Final/flip-lethalyellow-chapelsm.png\n",
      "(28, 28, 3)\n",
      "/home/fjcamillo/Desktop/Hackzilla2/dataset/Final/resized-coconutmite-1254264.png\n",
      "(28, 28, 3)\n",
      "/home/fjcamillo/Desktop/Hackzilla2/dataset/Final/flip-rhino-images (2).png\n",
      "(28, 28, 3)\n",
      "/home/fjcamillo/Desktop/Hackzilla2/dataset/Final/rotate90-coconutmite-crop_prot_crop_insect_oil_coconut_clip_image002_0008.png\n",
      "(28, 28, 3)\n",
      "/home/fjcamillo/Desktop/Hackzilla2/dataset/Final/rotate45-regular-cocosnuciferatall.png\n",
      "(28, 28, 3)\n",
      "/home/fjcamillo/Desktop/Hackzilla2/dataset/Final/resized-rhino-OryctespalmdamageinGuam.png\n",
      "(28, 28, 3)\n",
      "/home/fjcamillo/Desktop/Hackzilla2/dataset/Final/flip-regular-Coconut_Trees_in_Dhofar_Oman.png\n",
      "(28, 28, 3)\n",
      "/home/fjcamillo/Desktop/Hackzilla2/dataset/Final/rotate90-rhino-140208213030-05-coconut-rhinoceros-beetle-horizontal-large-gallery.png\n",
      "(28, 28, 3)\n",
      "/home/fjcamillo/Desktop/Hackzilla2/dataset/Final/resized-rhino-CRB-Boring-hole.png\n",
      "(28, 28, 3)\n",
      "/home/fjcamillo/Desktop/Hackzilla2/dataset/Final/resized-coconutmite-1212.png\n",
      "(28, 28, 3)\n",
      "/home/fjcamillo/Desktop/Hackzilla2/dataset/Final/rotate45-coconutmite-i-download (1).png\n",
      "(28, 28, 3)\n",
      "/home/fjcamillo/Desktop/Hackzilla2/dataset/Final/resized-rhino-156496.png\n",
      "(28, 28, 3)\n",
      "/home/fjcamillo/Desktop/Hackzilla2/dataset/Final/flip-rhino-12544.png\n",
      "(28, 28, 3)\n",
      "/home/fjcamillo/Desktop/Hackzilla2/dataset/Final/resized-lethalyellow-coconut-diseases-only-crownless-stem-remains.png\n",
      "(28, 28, 3)\n",
      "/home/fjcamillo/Desktop/Hackzilla2/dataset/Final/resized-lethalyellow-LY_Jamaica_2005.png\n",
      "(28, 28, 3)\n",
      "/home/fjcamillo/Desktop/Hackzilla2/dataset/Final/flip-stembleeding-Gum_and_sawdust_from_beetle_infestation_on_Carpentaria.png\n",
      "(28, 28, 3)\n",
      "/home/fjcamillo/Desktop/Hackzilla2/dataset/Final/flip-coconutmite-rat002.png\n",
      "(28, 28, 3)\n",
      "/home/fjcamillo/Desktop/Hackzilla2/dataset/Final/rotate45-rhino-21496283709_be697c4f46_o.png\n",
      "(28, 28, 3)\n",
      "/home/fjcamillo/Desktop/Hackzilla2/dataset/Final/flip-lethalyellow-Bze-Ag-Report-14_Page_03_Image_0002.png\n",
      "(28, 28, 3)\n",
      "/home/fjcamillo/Desktop/Hackzilla2/dataset/Final/rotate45-lethalyellow-LY_Jamaica_2005.png\n",
      "(28, 28, 3)\n",
      "/home/fjcamillo/Desktop/Hackzilla2/dataset/Final/resized-lethalyellow-tinangaja2.png\n",
      "(28, 28, 3)\n",
      "/home/fjcamillo/Desktop/Hackzilla2/dataset/Final/resized-rhino-maxresdefault.png\n",
      "(28, 28, 3)\n",
      "/home/fjcamillo/Desktop/Hackzilla2/dataset/Final/rotate45-rhino-images (2).png\n",
      "(28, 28, 3)\n",
      "/home/fjcamillo/Desktop/Hackzilla2/dataset/Final/resized-coconutmite-1.png\n",
      "(28, 28, 3)\n",
      "/home/fjcamillo/Desktop/Hackzilla2/dataset/Final/flip-rhino-severedamagepalau.png\n",
      "(28, 28, 3)\n",
      "/home/fjcamillo/Desktop/Hackzilla2/dataset/Final/flip-lethalyellow-download.png\n",
      "(28, 28, 3)\n",
      "/home/fjcamillo/Desktop/Hackzilla2/dataset/Final/resized-coconutmite-12546.png\n",
      "(28, 28, 3)\n",
      "/home/fjcamillo/Desktop/Hackzilla2/dataset/Final/resized-stembleeding-Palm_1.png\n",
      "(28, 28, 3)\n",
      "/home/fjcamillo/Desktop/Hackzilla2/dataset/Final/flip-coconutmite-Mite-Port-Vila_4394.png\n",
      "(28, 28, 3)\n",
      "/home/fjcamillo/Desktop/Hackzilla2/dataset/Final/flip-rhino-81781084.png\n",
      "(28, 28, 3)\n",
      "/home/fjcamillo/Desktop/Hackzilla2/dataset/Final/rotate45-rhino-18475003604_131ab7f0da_o.png\n",
      "(28, 28, 3)\n",
      "/home/fjcamillo/Desktop/Hackzilla2/dataset/Final/flip-rhino-21496192109_8504b89bfc_o.png\n",
      "(28, 28, 3)\n",
      "/home/fjcamillo/Desktop/Hackzilla2/dataset/Final/flip-coconutmite-1215462.png\n",
      "(28, 28, 3)\n",
      "/home/fjcamillo/Desktop/Hackzilla2/dataset/Final/rotate90-coconutmite-1105_0.png\n",
      "(28, 28, 3)\n",
      "/home/fjcamillo/Desktop/Hackzilla2/dataset/Final/resized-stembleeding-stembleeding.png\n",
      "(28, 28, 3)\n",
      "/home/fjcamillo/Desktop/Hackzilla2/dataset/Final/rotate90-coconutmite-1215462.png\n",
      "(28, 28, 3)\n",
      "/home/fjcamillo/Desktop/Hackzilla2/dataset/Final/flip-lethalyellow-563597_0.png\n",
      "(28, 28, 3)\n",
      "/home/fjcamillo/Desktop/Hackzilla2/dataset/Final/resized-coconutmite-Coco_fruit_skin04lite.png\n",
      "(28, 28, 3)\n",
      "/home/fjcamillo/Desktop/Hackzilla2/dataset/Final/rotate90-lethalyellow-800x480_IMAGE62601526.png\n",
      "(28, 28, 3)\n",
      "/home/fjcamillo/Desktop/Hackzilla2/dataset/Final/rotate45-coconutmite-rat002.png\n",
      "(28, 28, 3)\n",
      "/home/fjcamillo/Desktop/Hackzilla2/dataset/Final/flip-lethalyellow-110501y0.png\n",
      "(28, 28, 3)\n",
      "/home/fjcamillo/Desktop/Hackzilla2/dataset/Final/rotate45-coconutmite-53700.png\n",
      "(28, 28, 3)\n",
      "/home/fjcamillo/Desktop/Hackzilla2/dataset/Final/rotate45-lethalyellow-LethalYellowingFoliarSymptoms.png\n",
      "(28, 28, 3)\n",
      "/home/fjcamillo/Desktop/Hackzilla2/dataset/Final/rotate45-lethalyellow-download.png\n",
      "(28, 28, 3)\n",
      "/home/fjcamillo/Desktop/Hackzilla2/dataset/Final/flip-stembleeding-Thielaviopsis_Trunk.png\n",
      "(28, 28, 3)\n",
      "/home/fjcamillo/Desktop/Hackzilla2/dataset/Final/rotate90-rhino-1234.png\n",
      "(28, 28, 3)\n",
      "/home/fjcamillo/Desktop/Hackzilla2/dataset/Final/rotate90-coconutmite-aceria_guerreronis03.png\n",
      "(28, 28, 3)\n",
      "/home/fjcamillo/Desktop/Hackzilla2/dataset/Final/rotate90-lethalyellow-chapelsm.png\n",
      "(28, 28, 3)\n",
      "/home/fjcamillo/Desktop/Hackzilla2/dataset/Final/rotate45-stembleeding-wound-on-lower-trunk-of-roystonia-palm.png\n",
      "(28, 28, 3)\n",
      "/home/fjcamillo/Desktop/Hackzilla2/dataset/Final/rotate90-stembleeding-52.png\n",
      "(28, 28, 3)\n",
      "/home/fjcamillo/Desktop/Hackzilla2/dataset/Final/rotate90-stembleeding-N1.png\n",
      "(28, 28, 3)\n",
      "/home/fjcamillo/Desktop/Hackzilla2/dataset/Final/flip-rhino-12165.png\n",
      "(28, 28, 3)\n",
      "/home/fjcamillo/Desktop/Hackzilla2/dataset/Final/flip-stembleeding-dm15.png\n",
      "(28, 28, 3)\n",
      "/home/fjcamillo/Desktop/Hackzilla2/dataset/Final/flip-rhino-ad522e04.png\n",
      "(28, 28, 3)\n",
      "/home/fjcamillo/Desktop/Hackzilla2/dataset/Final/rotate45-stembleeding-bleeding_Xmas_palm_trunk.png\n",
      "(28, 28, 3)\n",
      "/home/fjcamillo/Desktop/Hackzilla2/dataset/Final/flip-lethalyellow-images (2).png\n",
      "(28, 28, 3)\n",
      "/home/fjcamillo/Desktop/Hackzilla2/dataset/Final/resized-lethalyellow-lethalyellowing.png\n",
      "(28, 28, 3)\n",
      "/home/fjcamillo/Desktop/Hackzilla2/dataset/Final/rotate45-stembleeding-stem-bleeding-rot.png\n",
      "(28, 28, 3)\n",
      "/home/fjcamillo/Desktop/Hackzilla2/dataset/Final/flip-coconutmite-red_palm_weevil_sypt001.png\n",
      "(28, 28, 3)\n",
      "/home/fjcamillo/Desktop/Hackzilla2/dataset/Final/resized-stembleeding-2coconew_1.png\n",
      "(28, 28, 3)\n",
      "/home/fjcamillo/Desktop/Hackzilla2/dataset/Final/rotate90-lethalyellow-1098_0.png\n",
      "(28, 28, 3)\n",
      "/home/fjcamillo/Desktop/Hackzilla2/dataset/Final/flip-stembleeding-wound-on-lower-trunk-of-roystonia-palm.png\n",
      "(28, 28, 3)\n",
      "/home/fjcamillo/Desktop/Hackzilla2/dataset/Final/rotate90-regular-cocosnuciferatall.png\n",
      "(28, 28, 3)\n",
      "/home/fjcamillo/Desktop/Hackzilla2/dataset/Final/rotate45-stembleeding-coco_stem_bleeding_1.png\n",
      "(28, 28, 3)\n",
      "/home/fjcamillo/Desktop/Hackzilla2/dataset/Final/flip-stembleeding-Palm_1.png\n",
      "(28, 28, 3)\n",
      "/home/fjcamillo/Desktop/Hackzilla2/dataset/Final/rotate45-stembleeding-10.png\n",
      "(28, 28, 3)\n",
      "/home/fjcamillo/Desktop/Hackzilla2/dataset/Final/rotate90-lethalyellow-LY_Jamaica_2005.png\n",
      "(28, 28, 3)\n",
      "/home/fjcamillo/Desktop/Hackzilla2/dataset/Final/resized-stembleeding-stem splitting.png\n",
      "(28, 28, 3)\n",
      "/home/fjcamillo/Desktop/Hackzilla2/dataset/Final/rotate90-rhino-i-download.png\n",
      "(28, 28, 3)\n",
      "/home/fjcamillo/Desktop/Hackzilla2/dataset/Final/rotate45-coconutmite-154.png\n",
      "(28, 28, 3)\n",
      "/home/fjcamillo/Desktop/Hackzilla2/dataset/Final/resized-lethalyellow-queen-with-brown-leaf2.png\n",
      "(28, 28, 3)\n",
      "/home/fjcamillo/Desktop/Hackzilla2/dataset/Final/rotate90-rhino-12165.png\n",
      "(28, 28, 3)\n",
      "/home/fjcamillo/Desktop/Hackzilla2/dataset/Final/resized-coconutmite-132165.png\n",
      "(28, 28, 3)\n",
      "/home/fjcamillo/Desktop/Hackzilla2/dataset/Final/rotate90-coconutmite-i-download (1).png\n",
      "(28, 28, 3)\n",
      "/home/fjcamillo/Desktop/Hackzilla2/dataset/Final/flip-lethalyellow-2008-04-18e.png\n",
      "(28, 28, 3)\n",
      "/home/fjcamillo/Desktop/Hackzilla2/dataset/Final/rotate45-lethalyellow-0656009.png\n",
      "(28, 28, 3)\n",
      "/home/fjcamillo/Desktop/Hackzilla2/dataset/Final/resized-lethalyellow-1098_0.png\n",
      "(28, 28, 3)\n",
      "/home/fjcamillo/Desktop/Hackzilla2/dataset/Final/rotate90-coconutmite-Coco_fruit_skin04lite.png\n",
      "(28, 28, 3)\n",
      "/home/fjcamillo/Desktop/Hackzilla2/dataset/Final/flip-lethalyellow-1455442_orig.png\n",
      "(28, 28, 3)\n",
      "/home/fjcamillo/Desktop/Hackzilla2/dataset/Final/resized-stembleeding-P1010122.png\n",
      "(28, 28, 3)\n",
      "/home/fjcamillo/Desktop/Hackzilla2/dataset/Final/resized-rhino-3-Boring-Holes.png\n",
      "(28, 28, 3)\n",
      "/home/fjcamillo/Desktop/Hackzilla2/dataset/Final/flip-coconutmite-1254264.png\n",
      "(28, 28, 3)\n",
      "/home/fjcamillo/Desktop/Hackzilla2/dataset/Final/resized-stembleeding-8810309820_eb4c097b12_b.png\n",
      "(28, 28, 3)\n",
      "/home/fjcamillo/Desktop/Hackzilla2/dataset/Final/flip-rhino-CRB-Feeding-Damage-2-e1389382788779.png\n",
      "(28, 28, 3)\n",
      "/home/fjcamillo/Desktop/Hackzilla2/dataset/Final/flip-rhino-1234.png\n",
      "(28, 28, 3)\n",
      "/home/fjcamillo/Desktop/Hackzilla2/dataset/Final/resized-stembleeding-yellowleafdiseasetreated.png\n",
      "(28, 28, 3)\n",
      "/home/fjcamillo/Desktop/Hackzilla2/dataset/Final/rotate90-stembleeding-51.png\n",
      "(28, 28, 3)\n",
      "/home/fjcamillo/Desktop/Hackzilla2/dataset/Final/rotate90-coconutmite-samoan_coco_eriophyid_mites_1.png\n",
      "(28, 28, 3)\n",
      "/home/fjcamillo/Desktop/Hackzilla2/dataset/Final/flip-lethalyellow-images (3).png\n",
      "(28, 28, 3)\n",
      "/home/fjcamillo/Desktop/Hackzilla2/dataset/Final/flip-lethalyellow-800x480_IMAGE62601526.png\n",
      "(28, 28, 3)\n",
      "/home/fjcamillo/Desktop/Hackzilla2/dataset/Final/rotate90-rhino-CRB-Feeding-Damage-2-e1389382788779.png\n",
      "(28, 28, 3)\n",
      "/home/fjcamillo/Desktop/Hackzilla2/dataset/Final/rotate45-lethalyellow-ly_tree2Sm.png\n",
      "(28, 28, 3)\n",
      "/home/fjcamillo/Desktop/Hackzilla2/dataset/Final/rotate90-lethalyellow-images (2).png\n",
      "(28, 28, 3)\n",
      "/home/fjcamillo/Desktop/Hackzilla2/dataset/Final/resized-lethalyellow-0656009.png\n",
      "(28, 28, 3)\n",
      "/home/fjcamillo/Desktop/Hackzilla2/dataset/Final/rotate45-lethalyellow-800x480_IMAGE62601526.png\n",
      "(28, 28, 3)\n",
      "/home/fjcamillo/Desktop/Hackzilla2/dataset/Final/rotate90-lethalyellow-LethalYellowing15.png\n",
      "(28, 28, 3)\n",
      "/home/fjcamillo/Desktop/Hackzilla2/dataset/Final/flip-rhino-maxresdefault.png\n",
      "(28, 28, 3)\n",
      "/home/fjcamillo/Desktop/Hackzilla2/dataset/Final/rotate45-rhino-1234.png\n",
      "(28, 28, 3)\n",
      "/home/fjcamillo/Desktop/Hackzilla2/dataset/Final/rotate45-stembleeding-52.png\n",
      "(28, 28, 3)\n",
      "/home/fjcamillo/Desktop/Hackzilla2/dataset/Final/rotate90-stembleeding-coco_stem_bleeding_1.png\n",
      "(28, 28, 3)\n",
      "/home/fjcamillo/Desktop/Hackzilla2/dataset/Final/rotate90-coconutmite-Coco_fruit_skin05lite (1).png\n",
      "(28, 28, 3)\n",
      "/home/fjcamillo/Desktop/Hackzilla2/dataset/Final/resized-lethalyellow-PlantViruses30.png\n",
      "(28, 28, 3)\n",
      "/home/fjcamillo/Desktop/Hackzilla2/dataset/Final/rotate90-stembleeding-Thielaviopsis_Trunk.png\n",
      "(28, 28, 3)\n",
      "/home/fjcamillo/Desktop/Hackzilla2/dataset/Final/flip-lethalyellow-images.png\n",
      "(28, 28, 3)\n",
      "/home/fjcamillo/Desktop/Hackzilla2/dataset/Final/rotate45-lethalyellow-pinneys coconuts.png\n",
      "(28, 28, 3)\n",
      "/home/fjcamillo/Desktop/Hackzilla2/dataset/Final/rotate90-lethalyellow-1455442_orig.png\n",
      "(28, 28, 3)\n",
      "/home/fjcamillo/Desktop/Hackzilla2/dataset/Final/rotate90-stembleeding-bleeding_Xmas_palm_trunk.png\n",
      "(28, 28, 3)\n",
      "/home/fjcamillo/Desktop/Hackzilla2/dataset/Final/rotate90-stembleeding-Palm_1.png\n",
      "(28, 28, 3)\n",
      "/home/fjcamillo/Desktop/Hackzilla2/dataset/Final/resized-lethalyellow-pel7a.png\n",
      "(28, 28, 3)\n",
      "/home/fjcamillo/Desktop/Hackzilla2/dataset/Final/resized-coconutmite-aceria_guerreronis03.png\n",
      "(28, 28, 3)\n",
      "/home/fjcamillo/Desktop/Hackzilla2/dataset/Final/flip-stembleeding-51.png\n",
      "(28, 28, 3)\n",
      "/home/fjcamillo/Desktop/Hackzilla2/dataset/Final/resized-lethalyellow-110501y0.png\n",
      "(28, 28, 3)\n",
      "/home/fjcamillo/Desktop/Hackzilla2/dataset/Final/rotate90-lethalyellow-PlantViruses30.png\n",
      "(28, 28, 3)\n",
      "/home/fjcamillo/Desktop/Hackzilla2/dataset/Final/flip-stembleeding-stem-bleeding-rot.png\n",
      "(28, 28, 3)\n",
      "/home/fjcamillo/Desktop/Hackzilla2/dataset/Final/flip-stembleeding-10.png\n",
      "(28, 28, 3)\n",
      "/home/fjcamillo/Desktop/Hackzilla2/dataset/Final/rotate90-lethalyellow-DSC04863.png\n",
      "(28, 28, 3)\n",
      "/home/fjcamillo/Desktop/Hackzilla2/dataset/Final/flip-rhino-hqdefault.png\n",
      "(28, 28, 3)\n",
      "/home/fjcamillo/Desktop/Hackzilla2/dataset/Final/rotate45-rhino-21692293501_65b7f56649_o.png\n",
      "(28, 28, 3)\n",
      "/home/fjcamillo/Desktop/Hackzilla2/dataset/Final/rotate90-stembleeding-dm16.png\n",
      "(28, 28, 3)\n",
      "/home/fjcamillo/Desktop/Hackzilla2/dataset/Final/rotate45-coconutmite-9717450317_b2a91112c0_o.png\n",
      "(28, 28, 3)\n",
      "/home/fjcamillo/Desktop/Hackzilla2/dataset/Final/flip-stembleeding-yellowleafdiseasetreated.png\n",
      "(28, 28, 3)\n",
      "/home/fjcamillo/Desktop/Hackzilla2/dataset/Final/flip-stembleeding-lE9ffrZ.png\n",
      "(28, 28, 3)\n",
      "/home/fjcamillo/Desktop/Hackzilla2/dataset/Final/resized-coconutmite-71620661475111419.png\n",
      "(28, 28, 3)\n",
      "/home/fjcamillo/Desktop/Hackzilla2/dataset/Final/flip-coconutmite-132165465.png\n",
      "(28, 28, 3)\n",
      "/home/fjcamillo/Desktop/Hackzilla2/dataset/Final/rotate90-rhino-81781084.png\n",
      "(28, 28, 3)\n",
      "/home/fjcamillo/Desktop/Hackzilla2/dataset/Final/resized-lethalyellow-5476151.png\n",
      "(28, 28, 3)\n",
      "/home/fjcamillo/Desktop/Hackzilla2/dataset/Final/rotate90-lethalyellow-0656009.png\n",
      "(28, 28, 3)\n",
      "/home/fjcamillo/Desktop/Hackzilla2/dataset/Final/resized-lethalyellow-lethal-yellowing-coconut.png\n",
      "(28, 28, 3)\n",
      "/home/fjcamillo/Desktop/Hackzilla2/dataset/Final/resized-coconutmite-53700.png\n",
      "(28, 28, 3)\n",
      "/home/fjcamillo/Desktop/Hackzilla2/dataset/Final/resized-rhino-CRB_damage-hole-Nelson1.png\n",
      "(28, 28, 3)\n",
      "/home/fjcamillo/Desktop/Hackzilla2/dataset/Final/rotate90-rhino-RB-Damage_site_3.png\n",
      "(28, 28, 3)\n",
      "/home/fjcamillo/Desktop/Hackzilla2/dataset/Final/rotate45-stembleeding-53.png\n",
      "(28, 28, 3)\n",
      "/home/fjcamillo/Desktop/Hackzilla2/dataset/Final/rotate45-coconutmite-71620661475111419.png\n",
      "(28, 28, 3)\n",
      "/home/fjcamillo/Desktop/Hackzilla2/dataset/Final/rotate45-coconutmite-Coco_fruit_skin05lite (1).png\n",
      "(28, 28, 3)\n",
      "/home/fjcamillo/Desktop/Hackzilla2/dataset/Final/rotate45-coconutmite-23.png\n",
      "(28, 28, 3)\n",
      "/home/fjcamillo/Desktop/Hackzilla2/dataset/Final/rotate45-rhino-CRB-Boring-hole.png\n",
      "(28, 28, 3)\n",
      "/home/fjcamillo/Desktop/Hackzilla2/dataset/Final/resized-coconutmite-rat002.png\n",
      "(28, 28, 3)\n",
      "/home/fjcamillo/Desktop/Hackzilla2/dataset/Final/resized-rhino-1254769.png\n",
      "(28, 28, 3)\n",
      "/home/fjcamillo/Desktop/Hackzilla2/dataset/Final/flip-stembleeding-N1.png\n",
      "(28, 28, 3)\n",
      "/home/fjcamillo/Desktop/Hackzilla2/dataset/Final/flip-coconutmite-5684782962_738761780a_o.png\n",
      "(28, 28, 3)\n",
      "/home/fjcamillo/Desktop/Hackzilla2/dataset/Final/flip-stembleeding-dm16.png\n",
      "(28, 28, 3)\n"
     ]
    }
   ],
   "source": [
    "dataset = np.array([convertimage(final_dataset_link+filen) for filen in os.listdir(final_dataset_link)])"
   ]
  },
  {
   "cell_type": "code",
   "execution_count": 13,
   "metadata": {
    "collapsed": false
   },
   "outputs": [
    {
     "data": {
      "text/plain": [
       "(636, 28, 28, 3)"
      ]
     },
     "execution_count": 13,
     "metadata": {},
     "output_type": "execute_result"
    }
   ],
   "source": [
    "dataset.shape"
   ]
  },
  {
   "cell_type": "code",
   "execution_count": null,
   "metadata": {
    "collapsed": true
   },
   "outputs": [],
   "source": [
    "import pickle"
   ]
  },
  {
   "cell_type": "code",
   "execution_count": null,
   "metadata": {
    "collapsed": false
   },
   "outputs": [],
   "source": [
    "np.save(\"agrico_training\", dataset, allow_pickle=True)"
   ]
  },
  {
   "cell_type": "markdown",
   "metadata": {},
   "source": [
    "## Data Model (Image Classification)\n",
    "---\n",
    "\n",
    "A 5 convolutional neural network\n"
   ]
  },
  {
   "cell_type": "code",
   "execution_count": null,
   "metadata": {
    "collapsed": false
   },
   "outputs": [],
   "source": [
    "dataset = np.array(dataset)"
   ]
  },
  {
   "cell_type": "code",
   "execution_count": null,
   "metadata": {
    "collapsed": false
   },
   "outputs": [],
   "source": [
    "#Linear Model\n",
    "linear_model = tf.matmul(x,W) + b"
   ]
  },
  {
   "cell_type": "code",
   "execution_count": null,
   "metadata": {
    "collapsed": false
   },
   "outputs": [],
   "source": [
    "X = tf.reshape(x, [100, 512,512,3])"
   ]
  },
  {
   "cell_type": "code",
   "execution_count": null,
   "metadata": {
    "collapsed": false
   },
   "outputs": [],
   "source": [
    "512*512"
   ]
  },
  {
   "cell_type": "code",
   "execution_count": 14,
   "metadata": {
    "collapsed": false
   },
   "outputs": [
    {
     "data": {
      "text/plain": [
       "636"
      ]
     },
     "execution_count": 14,
     "metadata": {},
     "output_type": "execute_result"
    }
   ],
   "source": [
    "len(dataset)"
   ]
  },
  {
   "cell_type": "code",
   "execution_count": 15,
   "metadata": {
    "collapsed": false
   },
   "outputs": [
    {
     "data": {
      "text/plain": [
       "636"
      ]
     },
     "execution_count": 15,
     "metadata": {},
     "output_type": "execute_result"
    }
   ],
   "source": [
    "len(labels)"
   ]
  },
  {
   "cell_type": "code",
   "execution_count": 16,
   "metadata": {
    "collapsed": false
   },
   "outputs": [],
   "source": [
    "training_features = dataset[:536]\n",
    "training_labels = labels[:536]\n",
    "test_features = dataset[537:]\n",
    "test_labels = labels[537:]"
   ]
  },
  {
   "cell_type": "code",
   "execution_count": 17,
   "metadata": {
    "collapsed": false
   },
   "outputs": [
    {
     "data": {
      "text/plain": [
       "(100, 28, 28, 3)"
      ]
     },
     "execution_count": 17,
     "metadata": {},
     "output_type": "execute_result"
    }
   ],
   "source": [
    "training_features[:100].shape"
   ]
  },
  {
   "cell_type": "code",
   "execution_count": 18,
   "metadata": {
    "collapsed": false
   },
   "outputs": [
    {
     "data": {
      "text/plain": [
       "(10, 28, 28, 3)"
      ]
     },
     "execution_count": 18,
     "metadata": {},
     "output_type": "execute_result"
    }
   ],
   "source": [
    "test_features[:10].shape"
   ]
  },
  {
   "cell_type": "code",
   "execution_count": 19,
   "metadata": {
    "collapsed": false
   },
   "outputs": [
    {
     "data": {
      "text/plain": [
       "(10, 5)"
      ]
     },
     "execution_count": 19,
     "metadata": {},
     "output_type": "execute_result"
    }
   ],
   "source": [
    "training_labels[:10].shape"
   ]
  },
  {
   "cell_type": "code",
   "execution_count": 20,
   "metadata": {
    "collapsed": false
   },
   "outputs": [
    {
     "data": {
      "text/plain": [
       "(10, 5)"
      ]
     },
     "execution_count": 20,
     "metadata": {},
     "output_type": "execute_result"
    }
   ],
   "source": [
    "test_labels[:10].shape"
   ]
  },
  {
   "cell_type": "code",
   "execution_count": null,
   "metadata": {
    "collapsed": true
   },
   "outputs": [],
   "source": [
    "#Mini Batch Helper Function\n",
    "\n",
    "def next_batch(train_data, data_size):\n",
    "    pass\n",
    "    return"
   ]
  },
  {
   "cell_type": "code",
   "execution_count": 21,
   "metadata": {
    "collapsed": true
   },
   "outputs": [],
   "source": [
    "sess = tf.InteractiveSession()"
   ]
  },
  {
   "cell_type": "code",
   "execution_count": 45,
   "metadata": {
    "collapsed": false
   },
   "outputs": [
    {
     "name": "stdout",
     "output_type": "stream",
     "text": [
      "Conv1:\t\t(?, 28, 28, 8)\n",
      "Conv2:\t\t(?, 28, 28, 12)\n",
      "Conv3:\t\t(?, 28, 28, 14)\n",
      "fc1:\t\t(?, 200)\n",
      "fc2:\t\t(?, 5)\n",
      "Corr:\t\t(?,)\n",
      "Accur:\t\t()\n",
      "loss:\t\t()\n"
     ]
    }
   ],
   "source": [
    "with tf.device(\"/cpu:0\"):\n",
    "    x = tf.placeholder(tf.float32, [None,28,28,3]) #Shape = [how many, of size, of size, of channels]\n",
    "    y_ = tf.placeholder(tf.float32, [None, 5])\n",
    "    W = tf.Variable(tf.zeros([28,28]))\n",
    "    b = tf.Variable(tf.zeros([5]))\n",
    "    #Second Layer, First Convolution Input Layer\n",
    "    stddev = 1.0/math.sqrt(float(28*28))\n",
    "    W1 = tf.Variable(tf.truncated_normal([6,6,3,8], stddev=stddev))\n",
    "    b1 = tf.Variable(tf.zeros([8]))\n",
    "    #Third Layer, Second Convolution Input Layer\n",
    "    W2 = tf.Variable(tf.truncated_normal([5,5,8,12], stddev=stddev))\n",
    "    b2 = tf.Variable(tf.zeros([12]))\n",
    "    #Fourth Layer, Third Convolution Input Layer\n",
    "    W3 = tf.Variable(tf.truncated_normal([4,4,12,14], stddev=stddev))\n",
    "    b3 = tf.Variable(tf.zeros([14]))\n",
    "    #Fifth Layer, First Fully Connected Layer\n",
    "    W4 = tf.Variable(tf.truncated_normal([28*28*14,200], stddev=stddev))\n",
    "    b4 = tf.Variable(tf.zeros([200]))\n",
    "    #Fifth Layer, First Fully Connected Layer\n",
    "    W5 = tf.Variable(tf.truncated_normal([200,5], stddev=stddev))\n",
    "    b5 = tf.Variable(tf.zeros([5]))\n",
    "    #Model\n",
    "    conv1 = tf.nn.relu(tf.nn.conv2d(x, W1, strides=[1,1,1,1], padding=\"SAME\") + b1)\n",
    "    conv2 = tf.nn.relu(tf.nn.conv2d(conv1, W2, strides=[1,1,1,1], padding=\"SAME\")+b2)\n",
    "    conv3 = tf.nn.relu(tf.nn.conv2d(conv2, W3, strides=[1,1,1,1], padding=\"SAME\")+b3)\n",
    "    \n",
    "    \n",
    "    reenter = tf.reshape(conv3, [-1,28*28*14])\n",
    "    \n",
    "    \n",
    "    fc1 = tf.nn.relu(tf.matmul(reenter,W4) + b4)\n",
    "    fc2 = tf.matmul(fc1, W5) + b5\n",
    "    Y = tf.nn.softmax_cross_entropy_with_logits(labels=y_,logits=fc2)\n",
    "    loss = tf.reduce_mean(Y) + 5\n",
    "    \n",
    "    #\n",
    "#     print(fc2)\n",
    "    \n",
    "    #loss function \n",
    "    train_step = tf.train.GradientDescentOptimizer(0.001).minimize(loss)\n",
    "    \n",
    "    #accuracy\n",
    "#     print(\"loss: {}, y_: {}\".format(loss, y_))\n",
    "    correct_prediction = tf.equal(tf.argmax(y_,1),tf.argmax(Y,1))\n",
    "    accuracy=tf.reduce_mean(tf.cast(correct_prediction,tf.float32))\n",
    "#     sess.run(tf.global_variables_initializer())\n",
    "\n",
    "    #Debugger\n",
    "    print(\"Conv1:\\t\\t{}\".format(conv1.get_shape()))\n",
    "    print(\"Conv2:\\t\\t{}\".format(conv2.get_shape()))\n",
    "    print(\"Conv3:\\t\\t{}\".format(conv3.get_shape()))\n",
    "    print(\"fc1:\\t\\t{}\".format(fc1.get_shape()))\n",
    "    print(\"fc2:\\t\\t{}\".format(fc2.get_shape()))\n",
    "    print(\"Corr:\\t\\t{}\".format(correct_prediction.get_shape()))\n",
    "    print(\"Accur:\\t\\t{}\".format(accuracy.get_shape()))\n",
    "    print(\"loss:\\t\\t{}\".format(loss.get_shape()))"
   ]
  },
  {
   "cell_type": "code",
   "execution_count": 46,
   "metadata": {
    "collapsed": false
   },
   "outputs": [],
   "source": [
    "sess.run(tf.global_variables_initializer())"
   ]
  },
  {
   "cell_type": "code",
   "execution_count": 47,
   "metadata": {
    "collapsed": false
   },
   "outputs": [
    {
     "ename": "InvalidArgumentError",
     "evalue": "Expected dimension in the range [-1, 1), but got 1\n\t [[Node: ArgMax_15 = ArgMax[T=DT_FLOAT, Tidx=DT_INT32, _device=\"/job:localhost/replica:0/task:0/cpu:0\"](Reshape_39, ArgMax_15/dimension)]]\n\nCaused by op u'ArgMax_15', defined at:\n  File \"/home/fjcamillo/anaconda2/envs/tensorflow/lib/python2.7/runpy.py\", line 174, in _run_module_as_main\n    \"__main__\", fname, loader, pkg_name)\n  File \"/home/fjcamillo/anaconda2/envs/tensorflow/lib/python2.7/runpy.py\", line 72, in _run_code\n    exec code in run_globals\n  File \"/home/fjcamillo/anaconda2/envs/tensorflow/lib/python2.7/site-packages/ipykernel/__main__.py\", line 3, in <module>\n    app.launch_new_instance()\n  File \"/home/fjcamillo/anaconda2/envs/tensorflow/lib/python2.7/site-packages/traitlets/config/application.py\", line 596, in launch_instance\n    app.start()\n  File \"/home/fjcamillo/anaconda2/envs/tensorflow/lib/python2.7/site-packages/ipykernel/kernelapp.py\", line 442, in start\n    ioloop.IOLoop.instance().start()\n  File \"/home/fjcamillo/anaconda2/envs/tensorflow/lib/python2.7/site-packages/zmq/eventloop/ioloop.py\", line 162, in start\n    super(ZMQIOLoop, self).start()\n  File \"/home/fjcamillo/anaconda2/envs/tensorflow/lib/python2.7/site-packages/tornado/ioloop.py\", line 883, in start\n    handler_func(fd_obj, events)\n  File \"/home/fjcamillo/anaconda2/envs/tensorflow/lib/python2.7/site-packages/tornado/stack_context.py\", line 275, in null_wrapper\n    return fn(*args, **kwargs)\n  File \"/home/fjcamillo/anaconda2/envs/tensorflow/lib/python2.7/site-packages/zmq/eventloop/zmqstream.py\", line 440, in _handle_events\n    self._handle_recv()\n  File \"/home/fjcamillo/anaconda2/envs/tensorflow/lib/python2.7/site-packages/zmq/eventloop/zmqstream.py\", line 472, in _handle_recv\n    self._run_callback(callback, msg)\n  File \"/home/fjcamillo/anaconda2/envs/tensorflow/lib/python2.7/site-packages/zmq/eventloop/zmqstream.py\", line 414, in _run_callback\n    callback(*args, **kwargs)\n  File \"/home/fjcamillo/anaconda2/envs/tensorflow/lib/python2.7/site-packages/tornado/stack_context.py\", line 275, in null_wrapper\n    return fn(*args, **kwargs)\n  File \"/home/fjcamillo/anaconda2/envs/tensorflow/lib/python2.7/site-packages/ipykernel/kernelbase.py\", line 276, in dispatcher\n    return self.dispatch_shell(stream, msg)\n  File \"/home/fjcamillo/anaconda2/envs/tensorflow/lib/python2.7/site-packages/ipykernel/kernelbase.py\", line 228, in dispatch_shell\n    handler(stream, idents, msg)\n  File \"/home/fjcamillo/anaconda2/envs/tensorflow/lib/python2.7/site-packages/ipykernel/kernelbase.py\", line 391, in execute_request\n    user_expressions, allow_stdin)\n  File \"/home/fjcamillo/anaconda2/envs/tensorflow/lib/python2.7/site-packages/ipykernel/ipkernel.py\", line 199, in do_execute\n    shell.run_cell(code, store_history=store_history, silent=silent)\n  File \"/home/fjcamillo/anaconda2/envs/tensorflow/lib/python2.7/site-packages/IPython/core/interactiveshell.py\", line 2723, in run_cell\n    interactivity=interactivity, compiler=compiler, result=result)\n  File \"/home/fjcamillo/anaconda2/envs/tensorflow/lib/python2.7/site-packages/IPython/core/interactiveshell.py\", line 2825, in run_ast_nodes\n    if self.run_code(code, result):\n  File \"/home/fjcamillo/anaconda2/envs/tensorflow/lib/python2.7/site-packages/IPython/core/interactiveshell.py\", line 2885, in run_code\n    exec(code_obj, self.user_global_ns, self.user_ns)\n  File \"<ipython-input-45-767e1a657d1e>\", line 44, in <module>\n    correct_prediction = tf.equal(tf.argmax(y_,1),tf.argmax(Y,1))\n  File \"/home/fjcamillo/anaconda2/envs/tensorflow/lib/python2.7/site-packages/tensorflow/python/ops/math_ops.py\", line 173, in argmax\n    return gen_math_ops.arg_max(input, axis, name)\n  File \"/home/fjcamillo/anaconda2/envs/tensorflow/lib/python2.7/site-packages/tensorflow/python/ops/gen_math_ops.py\", line 168, in arg_max\n    name=name)\n  File \"/home/fjcamillo/anaconda2/envs/tensorflow/lib/python2.7/site-packages/tensorflow/python/framework/op_def_library.py\", line 763, in apply_op\n    op_def=op_def)\n  File \"/home/fjcamillo/anaconda2/envs/tensorflow/lib/python2.7/site-packages/tensorflow/python/framework/ops.py\", line 2327, in create_op\n    original_op=self._default_original_op, op_def=op_def)\n  File \"/home/fjcamillo/anaconda2/envs/tensorflow/lib/python2.7/site-packages/tensorflow/python/framework/ops.py\", line 1226, in __init__\n    self._traceback = _extract_stack()\n\nInvalidArgumentError (see above for traceback): Expected dimension in the range [-1, 1), but got 1\n\t [[Node: ArgMax_15 = ArgMax[T=DT_FLOAT, Tidx=DT_INT32, _device=\"/job:localhost/replica:0/task:0/cpu:0\"](Reshape_39, ArgMax_15/dimension)]]\n",
     "output_type": "error",
     "traceback": [
      "\u001b[1;31m---------------------------------------------------------------------------\u001b[0m",
      "\u001b[1;31mInvalidArgumentError\u001b[0m                      Traceback (most recent call last)",
      "\u001b[1;32m<ipython-input-47-c518090742d3>\u001b[0m in \u001b[0;36m<module>\u001b[1;34m()\u001b[0m\n\u001b[0;32m      4\u001b[0m \u001b[1;31m#     print(i)\u001b[0m\u001b[1;33m\u001b[0m\u001b[1;33m\u001b[0m\u001b[0m\n\u001b[0;32m      5\u001b[0m     \u001b[1;32mif\u001b[0m \u001b[0mi\u001b[0m\u001b[1;33m%\u001b[0m\u001b[1;36m100\u001b[0m\u001b[1;33m==\u001b[0m\u001b[1;36m0\u001b[0m\u001b[1;33m:\u001b[0m\u001b[1;33m\u001b[0m\u001b[0m\n\u001b[1;32m----> 6\u001b[1;33m         \u001b[0mtrain_accuracy\u001b[0m \u001b[1;33m=\u001b[0m \u001b[0maccuracy\u001b[0m\u001b[1;33m.\u001b[0m\u001b[0meval\u001b[0m\u001b[1;33m(\u001b[0m\u001b[0mfeed_dict\u001b[0m\u001b[1;33m=\u001b[0m\u001b[1;33m{\u001b[0m\u001b[0mx\u001b[0m\u001b[1;33m:\u001b[0m\u001b[0mtraining_features\u001b[0m\u001b[1;33m[\u001b[0m\u001b[1;33m:\u001b[0m\u001b[1;36m600\u001b[0m\u001b[1;33m]\u001b[0m\u001b[1;33m,\u001b[0m\u001b[0my_\u001b[0m\u001b[1;33m:\u001b[0m\u001b[0mtraining_labels\u001b[0m\u001b[1;33m[\u001b[0m\u001b[1;33m:\u001b[0m\u001b[1;36m600\u001b[0m\u001b[1;33m]\u001b[0m\u001b[1;33m}\u001b[0m\u001b[1;33m)\u001b[0m\u001b[1;33m\u001b[0m\u001b[0m\n\u001b[0m\u001b[0;32m      7\u001b[0m         \u001b[1;32mprint\u001b[0m\u001b[1;33m(\u001b[0m\u001b[1;34m\"Step {}, training accuracy {}\"\u001b[0m\u001b[1;33m.\u001b[0m\u001b[0mformat\u001b[0m\u001b[1;33m(\u001b[0m\u001b[0mi\u001b[0m\u001b[1;33m,\u001b[0m \u001b[0mtrain_accuracy\u001b[0m\u001b[1;33m)\u001b[0m\u001b[1;33m)\u001b[0m\u001b[1;33m\u001b[0m\u001b[0m\n\u001b[0;32m      8\u001b[0m     \u001b[0mtrain_step\u001b[0m\u001b[1;33m.\u001b[0m\u001b[0mrun\u001b[0m\u001b[1;33m(\u001b[0m\u001b[0mfeed_dict\u001b[0m\u001b[1;33m=\u001b[0m\u001b[1;33m{\u001b[0m\u001b[0mx\u001b[0m\u001b[1;33m:\u001b[0m\u001b[0mtraining_features\u001b[0m\u001b[1;33m[\u001b[0m\u001b[1;33m:\u001b[0m\u001b[1;36m600\u001b[0m\u001b[1;33m]\u001b[0m\u001b[1;33m,\u001b[0m\u001b[0my_\u001b[0m\u001b[1;33m:\u001b[0m\u001b[0mtraining_labels\u001b[0m\u001b[1;33m[\u001b[0m\u001b[1;33m:\u001b[0m\u001b[1;36m600\u001b[0m\u001b[1;33m]\u001b[0m\u001b[1;33m}\u001b[0m\u001b[1;33m)\u001b[0m\u001b[1;33m\u001b[0m\u001b[0m\n",
      "\u001b[1;32m/home/fjcamillo/anaconda2/envs/tensorflow/lib/python2.7/site-packages/tensorflow/python/framework/ops.pyc\u001b[0m in \u001b[0;36meval\u001b[1;34m(self, feed_dict, session)\u001b[0m\n\u001b[0;32m    565\u001b[0m \u001b[1;33m\u001b[0m\u001b[0m\n\u001b[0;32m    566\u001b[0m     \"\"\"\n\u001b[1;32m--> 567\u001b[1;33m     \u001b[1;32mreturn\u001b[0m \u001b[0m_eval_using_default_session\u001b[0m\u001b[1;33m(\u001b[0m\u001b[0mself\u001b[0m\u001b[1;33m,\u001b[0m \u001b[0mfeed_dict\u001b[0m\u001b[1;33m,\u001b[0m \u001b[0mself\u001b[0m\u001b[1;33m.\u001b[0m\u001b[0mgraph\u001b[0m\u001b[1;33m,\u001b[0m \u001b[0msession\u001b[0m\u001b[1;33m)\u001b[0m\u001b[1;33m\u001b[0m\u001b[0m\n\u001b[0m\u001b[0;32m    568\u001b[0m \u001b[1;33m\u001b[0m\u001b[0m\n\u001b[0;32m    569\u001b[0m \u001b[1;33m\u001b[0m\u001b[0m\n",
      "\u001b[1;32m/home/fjcamillo/anaconda2/envs/tensorflow/lib/python2.7/site-packages/tensorflow/python/framework/ops.pyc\u001b[0m in \u001b[0;36m_eval_using_default_session\u001b[1;34m(tensors, feed_dict, graph, session)\u001b[0m\n\u001b[0;32m   3727\u001b[0m                        \u001b[1;34m\"the tensor's graph is different from the session's \"\u001b[0m\u001b[1;33m\u001b[0m\u001b[0m\n\u001b[0;32m   3728\u001b[0m                        \"graph.\")\n\u001b[1;32m-> 3729\u001b[1;33m   \u001b[1;32mreturn\u001b[0m \u001b[0msession\u001b[0m\u001b[1;33m.\u001b[0m\u001b[0mrun\u001b[0m\u001b[1;33m(\u001b[0m\u001b[0mtensors\u001b[0m\u001b[1;33m,\u001b[0m \u001b[0mfeed_dict\u001b[0m\u001b[1;33m)\u001b[0m\u001b[1;33m\u001b[0m\u001b[0m\n\u001b[0m\u001b[0;32m   3730\u001b[0m \u001b[1;33m\u001b[0m\u001b[0m\n\u001b[0;32m   3731\u001b[0m \u001b[1;33m\u001b[0m\u001b[0m\n",
      "\u001b[1;32m/home/fjcamillo/anaconda2/envs/tensorflow/lib/python2.7/site-packages/tensorflow/python/client/session.pyc\u001b[0m in \u001b[0;36mrun\u001b[1;34m(self, fetches, feed_dict, options, run_metadata)\u001b[0m\n\u001b[0;32m    765\u001b[0m     \u001b[1;32mtry\u001b[0m\u001b[1;33m:\u001b[0m\u001b[1;33m\u001b[0m\u001b[0m\n\u001b[0;32m    766\u001b[0m       result = self._run(None, fetches, feed_dict, options_ptr,\n\u001b[1;32m--> 767\u001b[1;33m                          run_metadata_ptr)\n\u001b[0m\u001b[0;32m    768\u001b[0m       \u001b[1;32mif\u001b[0m \u001b[0mrun_metadata\u001b[0m\u001b[1;33m:\u001b[0m\u001b[1;33m\u001b[0m\u001b[0m\n\u001b[0;32m    769\u001b[0m         \u001b[0mproto_data\u001b[0m \u001b[1;33m=\u001b[0m \u001b[0mtf_session\u001b[0m\u001b[1;33m.\u001b[0m\u001b[0mTF_GetBuffer\u001b[0m\u001b[1;33m(\u001b[0m\u001b[0mrun_metadata_ptr\u001b[0m\u001b[1;33m)\u001b[0m\u001b[1;33m\u001b[0m\u001b[0m\n",
      "\u001b[1;32m/home/fjcamillo/anaconda2/envs/tensorflow/lib/python2.7/site-packages/tensorflow/python/client/session.pyc\u001b[0m in \u001b[0;36m_run\u001b[1;34m(self, handle, fetches, feed_dict, options, run_metadata)\u001b[0m\n\u001b[0;32m    963\u001b[0m     \u001b[1;32mif\u001b[0m \u001b[0mfinal_fetches\u001b[0m \u001b[1;32mor\u001b[0m \u001b[0mfinal_targets\u001b[0m\u001b[1;33m:\u001b[0m\u001b[1;33m\u001b[0m\u001b[0m\n\u001b[0;32m    964\u001b[0m       results = self._do_run(handle, final_targets, final_fetches,\n\u001b[1;32m--> 965\u001b[1;33m                              feed_dict_string, options, run_metadata)\n\u001b[0m\u001b[0;32m    966\u001b[0m     \u001b[1;32melse\u001b[0m\u001b[1;33m:\u001b[0m\u001b[1;33m\u001b[0m\u001b[0m\n\u001b[0;32m    967\u001b[0m       \u001b[0mresults\u001b[0m \u001b[1;33m=\u001b[0m \u001b[1;33m[\u001b[0m\u001b[1;33m]\u001b[0m\u001b[1;33m\u001b[0m\u001b[0m\n",
      "\u001b[1;32m/home/fjcamillo/anaconda2/envs/tensorflow/lib/python2.7/site-packages/tensorflow/python/client/session.pyc\u001b[0m in \u001b[0;36m_do_run\u001b[1;34m(self, handle, target_list, fetch_list, feed_dict, options, run_metadata)\u001b[0m\n\u001b[0;32m   1013\u001b[0m     \u001b[1;32mif\u001b[0m \u001b[0mhandle\u001b[0m \u001b[1;32mis\u001b[0m \u001b[0mNone\u001b[0m\u001b[1;33m:\u001b[0m\u001b[1;33m\u001b[0m\u001b[0m\n\u001b[0;32m   1014\u001b[0m       return self._do_call(_run_fn, self._session, feed_dict, fetch_list,\n\u001b[1;32m-> 1015\u001b[1;33m                            target_list, options, run_metadata)\n\u001b[0m\u001b[0;32m   1016\u001b[0m     \u001b[1;32melse\u001b[0m\u001b[1;33m:\u001b[0m\u001b[1;33m\u001b[0m\u001b[0m\n\u001b[0;32m   1017\u001b[0m       return self._do_call(_prun_fn, self._session, handle, feed_dict,\n",
      "\u001b[1;32m/home/fjcamillo/anaconda2/envs/tensorflow/lib/python2.7/site-packages/tensorflow/python/client/session.pyc\u001b[0m in \u001b[0;36m_do_call\u001b[1;34m(self, fn, *args)\u001b[0m\n\u001b[0;32m   1033\u001b[0m         \u001b[1;32mexcept\u001b[0m \u001b[0mKeyError\u001b[0m\u001b[1;33m:\u001b[0m\u001b[1;33m\u001b[0m\u001b[0m\n\u001b[0;32m   1034\u001b[0m           \u001b[1;32mpass\u001b[0m\u001b[1;33m\u001b[0m\u001b[0m\n\u001b[1;32m-> 1035\u001b[1;33m       \u001b[1;32mraise\u001b[0m \u001b[0mtype\u001b[0m\u001b[1;33m(\u001b[0m\u001b[0me\u001b[0m\u001b[1;33m)\u001b[0m\u001b[1;33m(\u001b[0m\u001b[0mnode_def\u001b[0m\u001b[1;33m,\u001b[0m \u001b[0mop\u001b[0m\u001b[1;33m,\u001b[0m \u001b[0mmessage\u001b[0m\u001b[1;33m)\u001b[0m\u001b[1;33m\u001b[0m\u001b[0m\n\u001b[0m\u001b[0;32m   1036\u001b[0m \u001b[1;33m\u001b[0m\u001b[0m\n\u001b[0;32m   1037\u001b[0m   \u001b[1;32mdef\u001b[0m \u001b[0m_extend_graph\u001b[0m\u001b[1;33m(\u001b[0m\u001b[0mself\u001b[0m\u001b[1;33m)\u001b[0m\u001b[1;33m:\u001b[0m\u001b[1;33m\u001b[0m\u001b[0m\n",
      "\u001b[1;31mInvalidArgumentError\u001b[0m: Expected dimension in the range [-1, 1), but got 1\n\t [[Node: ArgMax_15 = ArgMax[T=DT_FLOAT, Tidx=DT_INT32, _device=\"/job:localhost/replica:0/task:0/cpu:0\"](Reshape_39, ArgMax_15/dimension)]]\n\nCaused by op u'ArgMax_15', defined at:\n  File \"/home/fjcamillo/anaconda2/envs/tensorflow/lib/python2.7/runpy.py\", line 174, in _run_module_as_main\n    \"__main__\", fname, loader, pkg_name)\n  File \"/home/fjcamillo/anaconda2/envs/tensorflow/lib/python2.7/runpy.py\", line 72, in _run_code\n    exec code in run_globals\n  File \"/home/fjcamillo/anaconda2/envs/tensorflow/lib/python2.7/site-packages/ipykernel/__main__.py\", line 3, in <module>\n    app.launch_new_instance()\n  File \"/home/fjcamillo/anaconda2/envs/tensorflow/lib/python2.7/site-packages/traitlets/config/application.py\", line 596, in launch_instance\n    app.start()\n  File \"/home/fjcamillo/anaconda2/envs/tensorflow/lib/python2.7/site-packages/ipykernel/kernelapp.py\", line 442, in start\n    ioloop.IOLoop.instance().start()\n  File \"/home/fjcamillo/anaconda2/envs/tensorflow/lib/python2.7/site-packages/zmq/eventloop/ioloop.py\", line 162, in start\n    super(ZMQIOLoop, self).start()\n  File \"/home/fjcamillo/anaconda2/envs/tensorflow/lib/python2.7/site-packages/tornado/ioloop.py\", line 883, in start\n    handler_func(fd_obj, events)\n  File \"/home/fjcamillo/anaconda2/envs/tensorflow/lib/python2.7/site-packages/tornado/stack_context.py\", line 275, in null_wrapper\n    return fn(*args, **kwargs)\n  File \"/home/fjcamillo/anaconda2/envs/tensorflow/lib/python2.7/site-packages/zmq/eventloop/zmqstream.py\", line 440, in _handle_events\n    self._handle_recv()\n  File \"/home/fjcamillo/anaconda2/envs/tensorflow/lib/python2.7/site-packages/zmq/eventloop/zmqstream.py\", line 472, in _handle_recv\n    self._run_callback(callback, msg)\n  File \"/home/fjcamillo/anaconda2/envs/tensorflow/lib/python2.7/site-packages/zmq/eventloop/zmqstream.py\", line 414, in _run_callback\n    callback(*args, **kwargs)\n  File \"/home/fjcamillo/anaconda2/envs/tensorflow/lib/python2.7/site-packages/tornado/stack_context.py\", line 275, in null_wrapper\n    return fn(*args, **kwargs)\n  File \"/home/fjcamillo/anaconda2/envs/tensorflow/lib/python2.7/site-packages/ipykernel/kernelbase.py\", line 276, in dispatcher\n    return self.dispatch_shell(stream, msg)\n  File \"/home/fjcamillo/anaconda2/envs/tensorflow/lib/python2.7/site-packages/ipykernel/kernelbase.py\", line 228, in dispatch_shell\n    handler(stream, idents, msg)\n  File \"/home/fjcamillo/anaconda2/envs/tensorflow/lib/python2.7/site-packages/ipykernel/kernelbase.py\", line 391, in execute_request\n    user_expressions, allow_stdin)\n  File \"/home/fjcamillo/anaconda2/envs/tensorflow/lib/python2.7/site-packages/ipykernel/ipkernel.py\", line 199, in do_execute\n    shell.run_cell(code, store_history=store_history, silent=silent)\n  File \"/home/fjcamillo/anaconda2/envs/tensorflow/lib/python2.7/site-packages/IPython/core/interactiveshell.py\", line 2723, in run_cell\n    interactivity=interactivity, compiler=compiler, result=result)\n  File \"/home/fjcamillo/anaconda2/envs/tensorflow/lib/python2.7/site-packages/IPython/core/interactiveshell.py\", line 2825, in run_ast_nodes\n    if self.run_code(code, result):\n  File \"/home/fjcamillo/anaconda2/envs/tensorflow/lib/python2.7/site-packages/IPython/core/interactiveshell.py\", line 2885, in run_code\n    exec(code_obj, self.user_global_ns, self.user_ns)\n  File \"<ipython-input-45-767e1a657d1e>\", line 44, in <module>\n    correct_prediction = tf.equal(tf.argmax(y_,1),tf.argmax(Y,1))\n  File \"/home/fjcamillo/anaconda2/envs/tensorflow/lib/python2.7/site-packages/tensorflow/python/ops/math_ops.py\", line 173, in argmax\n    return gen_math_ops.arg_max(input, axis, name)\n  File \"/home/fjcamillo/anaconda2/envs/tensorflow/lib/python2.7/site-packages/tensorflow/python/ops/gen_math_ops.py\", line 168, in arg_max\n    name=name)\n  File \"/home/fjcamillo/anaconda2/envs/tensorflow/lib/python2.7/site-packages/tensorflow/python/framework/op_def_library.py\", line 763, in apply_op\n    op_def=op_def)\n  File \"/home/fjcamillo/anaconda2/envs/tensorflow/lib/python2.7/site-packages/tensorflow/python/framework/ops.py\", line 2327, in create_op\n    original_op=self._default_original_op, op_def=op_def)\n  File \"/home/fjcamillo/anaconda2/envs/tensorflow/lib/python2.7/site-packages/tensorflow/python/framework/ops.py\", line 1226, in __init__\n    self._traceback = _extract_stack()\n\nInvalidArgumentError (see above for traceback): Expected dimension in the range [-1, 1), but got 1\n\t [[Node: ArgMax_15 = ArgMax[T=DT_FLOAT, Tidx=DT_INT32, _device=\"/job:localhost/replica:0/task:0/cpu:0\"](Reshape_39, ArgMax_15/dimension)]]\n"
     ]
    }
   ],
   "source": [
    "#train\n",
    "for i in range(2000):\n",
    "#     batch = mnist.train.next_batch(50)\n",
    "#     print(i)\n",
    "    if i%100==0:\n",
    "        train_accuracy = accuracy.eval(feed_dict={x:training_features[:600],y_:training_labels[:600]})\n",
    "        print(\"Step {}, training accuracy {}\".format(i, train_accuracy))\n",
    "    train_step.run(feed_dict={x:training_features[:600],y_:training_labels[:600]})\n",
    "\n",
    "print(\"test accuracy {}\".format(accuracy.eval(feed_dict={x:test_features[:], y_:test_labels[:]})))"
   ]
  },
  {
   "cell_type": "markdown",
   "metadata": {},
   "source": [
    "# Data Model (Hardware)"
   ]
  },
  {
   "cell_type": "code",
   "execution_count": null,
   "metadata": {
    "collapsed": true
   },
   "outputs": [],
   "source": [
    "rhino_data = [[np.random.randint(1, 200), np.random.randint(1, 200),np.random.randint(1, 200),np.random.randint(1, 200),np.random.randint(1, 200),np.random.randint(1, 200)] for i in range(500)]\n",
    "rhino_data"
   ]
  },
  {
   "cell_type": "code",
   "execution_count": null,
   "metadata": {
    "collapsed": true
   },
   "outputs": [],
   "source": [
    "yellow_data=[[np.random.randint(201, 400), np.random.randint(201, 400),np.random.randint(201, 400),np.random.randint(201, 400),np.random.randint(201, 400),np.random.randint(201, 400)] for i in range(500)]"
   ]
  },
  {
   "cell_type": "code",
   "execution_count": null,
   "metadata": {
    "collapsed": true
   },
   "outputs": [],
   "source": [
    "stem_data=[[np.random.randint(301, 600), np.random.randint(301, 600),np.random.randint(301, 600),np.random.randint(301, 600),np.random.randint(301, 600),np.random.randint(301, 600)] for i in range(500)]"
   ]
  },
  {
   "cell_type": "code",
   "execution_count": null,
   "metadata": {
    "collapsed": true
   },
   "outputs": [],
   "source": [
    "regular_data=[[np.random.randint(401, 700), np.random.randint(401, 700),np.random.randint(401, 700),np.random.randint(401, 700),np.random.randint(401, 700),np.random.randint(401, 700)] for i in range(500)]"
   ]
  },
  {
   "cell_type": "code",
   "execution_count": null,
   "metadata": {
    "collapsed": true
   },
   "outputs": [],
   "source": [
    "coconutmite_data=[[np.random.randint(500, 800), np.random.randint(500, 800),np.random.randint(500, 800),np.random.randint(500, 800),np.random.randint(500, 800),np.random.randint(500, 800)] for i in range(500)]"
   ]
  },
  {
   "cell_type": "code",
   "execution_count": null,
   "metadata": {
    "collapsed": true
   },
   "outputs": [],
   "source": [
    "hard_data=[]"
   ]
  },
  {
   "cell_type": "code",
   "execution_count": null,
   "metadata": {
    "collapsed": false
   },
   "outputs": [],
   "source": [
    "hard_data.append([np.random.randint(201, 400), np.random.randint(201, 400),np.random.randint(201, 400),np.random.randint(201, 400),np.random.randint(201, 400),np.random.randint(201, 400)] for i in range(500))\n",
    "hard_data.append([np.random.randint(301, 600), np.random.randint(301, 600),np.random.randint(301, 600),np.random.randint(301, 600),np.random.randint(301, 600),np.random.randint(301, 600)] for i in range(500))\n",
    "hard_data.append([np.random.randint(1, 200), np.random.randint(1, 200),np.random.randint(1, 200),np.random.randint(1, 200),np.random.randint(1, 200),np.random.randint(1, 200)] for i in range(500))\n",
    "hard_data.append([np.random.randint(401, 700), np.random.randint(401, 700),np.random.randint(401, 700),np.random.randint(401, 700),np.random.randint(401, 700),np.random.randint(401, 700)] for i in range(500))\n",
    "hard_data.append([np.random.randint(500, 800), np.random.randint(500, 800),np.random.randint(500, 800),np.random.randint(500, 800),np.random.randint(500, 800),np.random.randint(500, 800)] for i in range(500))"
   ]
  },
  {
   "cell_type": "code",
   "execution_count": null,
   "metadata": {
    "collapsed": true
   },
   "outputs": [],
   "source": [
    "for rhi in rhino_data:\n",
    "    hard_data.append(rhi)\n",
    "\n",
    "for rhi in yellow_data:\n",
    "    hard_data.append(rhi)\n",
    "    \n",
    "for rhi in regular_data:\n",
    "    hard_data.append(rhi)\n",
    "\n",
    "for rhi in stem_data:\n",
    "    hard_data.append(rhi)\n",
    "\n",
    "for rhi in coconutmite_data:\n",
    "    hard_data.append(rhi)"
   ]
  },
  {
   "cell_type": "code",
   "execution_count": null,
   "metadata": {
    "collapsed": true
   },
   "outputs": [],
   "source": [
    "hard_data.append(rhi for rhi in rhino_data)\n",
    "hard_data.append(rhi for rhi in yellow_data)\n",
    "hard_data.append(rhi for rhi in regular_data)\n",
    "hard_data.append(rhi for rhi in stem_data)\n",
    "hard_data.append(rhi for rhi in coconutmite_data)"
   ]
  },
  {
   "cell_type": "code",
   "execution_count": null,
   "metadata": {
    "collapsed": true
   },
   "outputs": [],
   "source": [
    "# hard_data = [[np.random.randint(30), np.random.randint(990),np.random.randint(990),np.random.randint(990),np.random.randint(990), np.random.randint(990)] for i in range(500)]\n",
    "# hard_data"
   ]
  },
  {
   "cell_type": "code",
   "execution_count": null,
   "metadata": {
    "collapsed": true
   },
   "outputs": [],
   "source": [
    "hard_data"
   ]
  },
  {
   "cell_type": "code",
   "execution_count": null,
   "metadata": {
    "collapsed": false
   },
   "outputs": [],
   "source": [
    "np.array(hard_data).shape"
   ]
  },
  {
   "cell_type": "code",
   "execution_count": null,
   "metadata": {
    "collapsed": true
   },
   "outputs": [],
   "source": [
    "hard_labels = [\"coconut mite\", \"rhinocerus insect\", \"lethal yellowing\", \"stem bleeding\", \"regular\"]"
   ]
  },
  {
   "cell_type": "code",
   "execution_count": null,
   "metadata": {
    "collapsed": true
   },
   "outputs": [],
   "source": [
    "\n",
    "def adjusthard(da):\n",
    "    if da<500: return 0\n",
    "    if da>500 and da<1000: return 1\n",
    "    if da>500 and da<1000 and da<1500: return 0\n",
    "    if da>500 and da<1000: return 0\n",
    "    if da>500 and da<1000: return 0"
   ]
  },
  {
   "cell_type": "code",
   "execution_count": null,
   "metadata": {
    "collapsed": true
   },
   "outputs": [],
   "source": [
    "for x in range(1):\n",
    "    for i in range(500):\n",
    "        hard_actual_labels.append(0)\n",
    "    for i in range(500):\n",
    "        hard_actual_labels.append(1)\n",
    "    for i in range(500):\n",
    "        hard_actual_labels.append(2)\n",
    "    for i in range(500):\n",
    "        hard_actual_labels.append(3)\n",
    "    for i in range(500):\n",
    "        hard_actual_labels.append(4)\n",
    "        "
   ]
  },
  {
   "cell_type": "code",
   "execution_count": null,
   "metadata": {
    "collapsed": true
   },
   "outputs": [],
   "source": [
    "hard_actual_labels"
   ]
  },
  {
   "cell_type": "code",
   "execution_count": null,
   "metadata": {
    "collapsed": false
   },
   "outputs": [],
   "source": [
    "np.array(hard_actual_labels).shape"
   ]
  },
  {
   "cell_type": "code",
   "execution_count": null,
   "metadata": {
    "collapsed": true
   },
   "outputs": [],
   "source": [
    "hard_data = [\n",
    "#   [Temperature, Distance, Light]\n",
    "#   [25-30, 900-990, 750-990]\n",
    "    [25, 70, 1500],\n",
    "]"
   ]
  },
  {
   "cell_type": "code",
   "execution_count": null,
   "metadata": {
    "collapsed": false
   },
   "outputs": [],
   "source": [
    "training_hard = hard_data[:]\n",
    "training_label = hard_actual_labels[:400]\n",
    "test_hard = hard_data[401:]\n",
    "test_label=hard_actual_labels[401:]"
   ]
  },
  {
   "cell_type": "code",
   "execution_count": null,
   "metadata": {
    "collapsed": true
   },
   "outputs": [],
   "source": [
    "def convertforsklearn(dat):\n",
    "    if dat[0] == 1: return int(0)\n",
    "    if dat[1] == 1: return int(1)\n",
    "    if dat[2] == 1: return int(2)\n",
    "    if dat[3] == 1: return int(3)\n",
    "    if dat[4] == 1: return int(4)"
   ]
  },
  {
   "cell_type": "code",
   "execution_count": null,
   "metadata": {
    "collapsed": false
   },
   "outputs": [],
   "source": [
    "converted_hard = [convertforsklearn(datr) for datr in hard_actual_labels]"
   ]
  },
  {
   "cell_type": "code",
   "execution_count": null,
   "metadata": {
    "collapsed": true
   },
   "outputs": [],
   "source": [
    "import random"
   ]
  },
  {
   "cell_type": "code",
   "execution_count": null,
   "metadata": {
    "collapsed": true
   },
   "outputs": [],
   "source": [
    "getThis = [np.random.randint(0, 2500) for _ in range(2000)]"
   ]
  },
  {
   "cell_type": "code",
   "execution_count": null,
   "metadata": {
    "collapsed": false
   },
   "outputs": [],
   "source": [
    "training_hard = [hard_data[da] for da in getThis]\n",
    "test_hard = [hard_data[da]  for da in range(2500) if da not in getThis]"
   ]
  },
  {
   "cell_type": "code",
   "execution_count": null,
   "metadata": {
    "collapsed": true
   },
   "outputs": [],
   "source": [
    "converted_train = hard_actual_labels[:2000]\n",
    "converted_test = hard_actual_labels[1378:]"
   ]
  },
  {
   "cell_type": "code",
   "execution_count": null,
   "metadata": {
    "collapsed": true
   },
   "outputs": [],
   "source": [
    "#[400,1,6], [6,200,1]."
   ]
  },
  {
   "cell_type": "code",
   "execution_count": null,
   "metadata": {
    "collapsed": true
   },
   "outputs": [],
   "source": []
  },
  {
   "cell_type": "code",
   "execution_count": null,
   "metadata": {
    "collapsed": false
   },
   "outputs": [],
   "source": [
    "from sklearn.ensemble import RandomForestClassifier, AdaBoostRegressor\n",
    "from sklearn.metrics import accuracy_score"
   ]
  },
  {
   "cell_type": "code",
   "execution_count": null,
   "metadata": {
    "collapsed": false
   },
   "outputs": [],
   "source": [
    "clf = RandomForestClassifier().fit(training_hard,converted_train)"
   ]
  },
  {
   "cell_type": "code",
   "execution_count": null,
   "metadata": {
    "collapsed": false
   },
   "outputs": [],
   "source": [
    "pred = clf.predict(test_hard)\n",
    "pred"
   ]
  },
  {
   "cell_type": "code",
   "execution_count": null,
   "metadata": {
    "collapsed": true
   },
   "outputs": [],
   "source": [
    "hard_score=1-hard_score"
   ]
  },
  {
   "cell_type": "code",
   "execution_count": null,
   "metadata": {
    "collapsed": true
   },
   "outputs": [],
   "source": [
    "hard"
   ]
  },
  {
   "cell_type": "code",
   "execution_count": null,
   "metadata": {
    "collapsed": false
   },
   "outputs": [],
   "source": [
    "hard_score = accuracy_score(converted_test, pred)"
   ]
  },
  {
   "cell_type": "code",
   "execution_count": null,
   "metadata": {
    "collapsed": false
   },
   "outputs": [],
   "source": [
    "hard_score"
   ]
  },
  {
   "cell_type": "code",
   "execution_count": null,
   "metadata": {
    "collapsed": true
   },
   "outputs": [],
   "source": [
    "#Input Layer\n",
    "x = tf.placeholder(tf.float32, [400*6,5])\n",
    "# y_ = tf.placeholder(tf.float32, [None,6])\n",
    "W = tf.Variable(tf.zeros([400*6,5]))\n",
    "b = tf.Variable(tf.zeros([5]))"
   ]
  },
  {
   "cell_type": "code",
   "execution_count": null,
   "metadata": {
    "collapsed": false
   },
   "outputs": [],
   "source": [
    "#Second Layer\n",
    "W2 = tf.Variable(tf.truncated_normal([400,100],stddev=0.1) )\n",
    "b2 = tf.Variable(tf.ones([100]))"
   ]
  },
  {
   "cell_type": "code",
   "execution_count": null,
   "metadata": {
    "collapsed": false
   },
   "outputs": [],
   "source": [
    "#Third Layer\n",
    "W3 = tf.Variable(tf.truncated_normal([100,50],stddev=0.1) )\n",
    "b3 = tf.Variable(tf.ones([50]))"
   ]
  },
  {
   "cell_type": "code",
   "execution_count": null,
   "metadata": {
    "collapsed": false
   },
   "outputs": [],
   "source": [
    "#Fourth Layer\n",
    "W4 = tf.Variable(tf.truncated_normal([50,25],stddev=0.1))\n",
    "b4 = tf.Variable(tf.ones([25]))"
   ]
  },
  {
   "cell_type": "code",
   "execution_count": null,
   "metadata": {
    "collapsed": false
   },
   "outputs": [],
   "source": [
    "#Fifth Layer\n",
    "W5 = tf.Variable(tf.truncated_normal([25,5], stddev=0.1))\n",
    "b5 = tf.Variable(tf.ones([5]))"
   ]
  },
  {
   "cell_type": "code",
   "execution_count": null,
   "metadata": {
    "collapsed": true
   },
   "outputs": [],
   "source": [
    "sess.run(tf.global_variables_initializer())"
   ]
  },
  {
   "cell_type": "code",
   "execution_count": null,
   "metadata": {
    "collapsed": false
   },
   "outputs": [],
   "source": [
    "#Model\n",
    "fc1 = tf.nn.relu(tf.matmul(x, W) + b)\n",
    "fc2 = tf.nn.relu(tf.matmul(fc1, W2) + b2)\n",
    "fc3 = tf.nn.relu(tf.matmul(fc2, W3) + b3)\n",
    "fc4 = tf.nn.relu(tf.matmul(fc3, W4) + b4)\n",
    "fc5 = tf.nn.softmax(tf.matmul(fc4, W5) + b5)"
   ]
  },
  {
   "cell_type": "code",
   "execution_count": null,
   "metadata": {
    "collapsed": true
   },
   "outputs": [],
   "source": []
  },
  {
   "cell_type": "code",
   "execution_count": null,
   "metadata": {
    "collapsed": false
   },
   "outputs": [],
   "source": [
    "train_step = tf.train.GradientDescentOptimizer(fc5)"
   ]
  },
  {
   "cell_type": "code",
   "execution_count": null,
   "metadata": {
    "collapsed": true
   },
   "outputs": [],
   "source": []
  },
  {
   "cell_type": "code",
   "execution_count": null,
   "metadata": {
    "collapsed": true
   },
   "outputs": [],
   "source": []
  }
 ],
 "metadata": {
  "kernelspec": {
   "display_name": "Python 2",
   "language": "python",
   "name": "python2"
  },
  "language_info": {
   "codemirror_mode": {
    "name": "ipython",
    "version": 2
   },
   "file_extension": ".py",
   "mimetype": "text/x-python",
   "name": "python",
   "nbconvert_exporter": "python",
   "pygments_lexer": "ipython2",
   "version": "2.7.13"
  }
 },
 "nbformat": 4,
 "nbformat_minor": 0
}
